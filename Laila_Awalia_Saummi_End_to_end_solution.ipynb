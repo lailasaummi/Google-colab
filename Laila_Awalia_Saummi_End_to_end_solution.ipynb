{
  "cells": [
    {
      "cell_type": "markdown",
      "metadata": {
        "id": "view-in-github",
        "colab_type": "text"
      },
      "source": [
        "<a href=\"https://colab.research.google.com/github/lailasaummi/Virtual-Internship-Experience_idx-partners_2022/blob/main/Laila_Awalia_Saummi_End_to_end_solution.ipynb\" target=\"_parent\"><img src=\"https://colab.research.google.com/assets/colab-badge.svg\" alt=\"Open In Colab\"/></a>"
      ]
    },
    {
      "cell_type": "markdown",
      "source": [
        "# **End-to-end Solution for Credit Risk and Scorecard Model**"
      ],
      "metadata": {
        "id": "DmHUg0qAED5v"
      },
      "id": "DmHUg0qAED5v"
    },
    {
      "cell_type": "markdown",
      "source": [
        "**Dataset**: Lending company loan data issued from 2007 until 2014\n",
        "\n",
        "**Objectives**: \n",
        "\n",
        "*   Develop a data-driven credit risk model in Python to predict the probabilities of default\n",
        "*   Assign credit scores to existing or potential borrowers\n",
        "\n",
        "**Data Resources and References**:\n",
        "\n",
        "*   Credit loan Dataset 2007-2014 (format .csv) https://drive.google.com/file/d/1r17UjbuxkcCwGbXOUkr3wcG8UmjvEzCD/view?usp=sharing\n",
        "*   Credit loan Dataset Dictionary (sheet: LoanStats) https://docs.google.com/spreadsheets/d/1iT1JNOBwU4l616_rnJpo0iny7blZvNBs/edit#gid=1001272030\n",
        "*   How to Develop a Credit Risk Model and Scorecard https://towardsdatascience.com/how-to-develop-a-credit-risk-model-and-scorecard-91335fc01f03\n",
        "\n"
      ],
      "metadata": {
        "id": "9xlm6KQeES3m"
      },
      "id": "9xlm6KQeES3m"
    },
    {
      "cell_type": "markdown",
      "metadata": {
        "id": "99597ca5-47d9-4f63-bed9-b3d873f16841"
      },
      "source": [
        "# IMPORT LIBRARIES"
      ],
      "id": "99597ca5-47d9-4f63-bed9-b3d873f16841"
    },
    {
      "cell_type": "code",
      "execution_count": null,
      "metadata": {
        "id": "66707289-c198-4047-ac46-0de7a73a533c"
      },
      "outputs": [],
      "source": [
        "import numpy as np \n",
        "\n",
        "import pandas as pd \n",
        "pd.set_option('display.max_columns', None)\n",
        "pd.set_option('display.max_rows', 99)\n",
        "\n",
        "import matplotlib.pyplot as plt \n",
        "import seaborn as sns \n",
        "sns.set()"
      ],
      "id": "66707289-c198-4047-ac46-0de7a73a533c"
    },
    {
      "cell_type": "markdown",
      "metadata": {
        "id": "e39d1c0c-0778-4f15-bacb-6ec77b9259d5"
      },
      "source": [
        "# IMPORT DATA "
      ],
      "id": "e39d1c0c-0778-4f15-bacb-6ec77b9259d5"
    },
    {
      "cell_type": "code",
      "execution_count": null,
      "metadata": {
        "colab": {
          "base_uri": "https://localhost:8080/"
        },
        "id": "ImHjlPMYzRfG",
        "outputId": "c485d9cd-799f-4c6d-8f9f-42dadf088c14"
      },
      "outputs": [
        {
          "output_type": "stream",
          "name": "stdout",
          "text": [
            "Mounted at /content/drive\n"
          ]
        }
      ],
      "source": [
        "from google.colab import drive\n",
        "drive.mount('/content/drive')"
      ],
      "id": "ImHjlPMYzRfG"
    },
    {
      "cell_type": "code",
      "source": [
        "data_raw = pd.read_csv('/content/drive/MyDrive/!!!/Rakamin Academy/VIX ID X Partners/End-to-end solution task/loan_data_2007_2014.csv', index_col=0)"
      ],
      "metadata": {
        "id": "vSdSCRMZFmSm",
        "outputId": "76c76475-2189-4fbb-d8c0-90145c531c69",
        "colab": {
          "base_uri": "https://localhost:8080/"
        }
      },
      "id": "vSdSCRMZFmSm",
      "execution_count": null,
      "outputs": [
        {
          "output_type": "stream",
          "name": "stderr",
          "text": [
            "/usr/local/lib/python3.8/dist-packages/IPython/core/interactiveshell.py:3326: DtypeWarning: Columns (20) have mixed types.Specify dtype option on import or set low_memory=False.\n",
            "  exec(code_obj, self.user_global_ns, self.user_ns)\n"
          ]
        }
      ]
    },
    {
      "cell_type": "markdown",
      "metadata": {
        "id": "e8ea4fa6-0ae4-4435-adab-641d2f3a26b9"
      },
      "source": [
        "# EXPLORE DATA"
      ],
      "id": "e8ea4fa6-0ae4-4435-adab-641d2f3a26b9"
    },
    {
      "cell_type": "code",
      "execution_count": null,
      "metadata": {
        "id": "d14e5613-33db-4928-b4f0-13c2c957aaeb",
        "outputId": "ff1a0480-6908-4abe-d9ba-22d3d869d744",
        "colab": {
          "base_uri": "https://localhost:8080/"
        }
      },
      "outputs": [
        {
          "output_type": "execute_result",
          "data": {
            "text/plain": [
              "(466285, 74)"
            ]
          },
          "metadata": {},
          "execution_count": 4
        }
      ],
      "source": [
        "data_raw.shape"
      ],
      "id": "d14e5613-33db-4928-b4f0-13c2c957aaeb"
    },
    {
      "cell_type": "code",
      "execution_count": null,
      "metadata": {
        "id": "14f2a434-98e4-426d-8914-5b56dba4f1c3",
        "scrolled": true,
        "outputId": "2cb85cfc-7482-492a-ee5f-ff7a39459f0a",
        "colab": {
          "base_uri": "https://localhost:8080/"
        }
      },
      "outputs": [
        {
          "output_type": "stream",
          "name": "stdout",
          "text": [
            "<class 'pandas.core.frame.DataFrame'>\n",
            "Int64Index: 466285 entries, 0 to 466284\n",
            "Data columns (total 74 columns):\n",
            " #   Column                       Non-Null Count   Dtype  \n",
            "---  ------                       --------------   -----  \n",
            " 0   id                           466285 non-null  int64  \n",
            " 1   member_id                    466285 non-null  int64  \n",
            " 2   loan_amnt                    466285 non-null  int64  \n",
            " 3   funded_amnt                  466285 non-null  int64  \n",
            " 4   funded_amnt_inv              466285 non-null  float64\n",
            " 5   term                         466285 non-null  object \n",
            " 6   int_rate                     466285 non-null  float64\n",
            " 7   installment                  466285 non-null  float64\n",
            " 8   grade                        466285 non-null  object \n",
            " 9   sub_grade                    466285 non-null  object \n",
            " 10  emp_title                    438697 non-null  object \n",
            " 11  emp_length                   445277 non-null  object \n",
            " 12  home_ownership               466285 non-null  object \n",
            " 13  annual_inc                   466281 non-null  float64\n",
            " 14  verification_status          466285 non-null  object \n",
            " 15  issue_d                      466285 non-null  object \n",
            " 16  loan_status                  466285 non-null  object \n",
            " 17  pymnt_plan                   466285 non-null  object \n",
            " 18  url                          466285 non-null  object \n",
            " 19  desc                         125983 non-null  object \n",
            " 20  purpose                      466285 non-null  object \n",
            " 21  title                        466265 non-null  object \n",
            " 22  zip_code                     466285 non-null  object \n",
            " 23  addr_state                   466285 non-null  object \n",
            " 24  dti                          466285 non-null  float64\n",
            " 25  delinq_2yrs                  466256 non-null  float64\n",
            " 26  earliest_cr_line             466256 non-null  object \n",
            " 27  inq_last_6mths               466256 non-null  float64\n",
            " 28  mths_since_last_delinq       215934 non-null  float64\n",
            " 29  mths_since_last_record       62638 non-null   float64\n",
            " 30  open_acc                     466256 non-null  float64\n",
            " 31  pub_rec                      466256 non-null  float64\n",
            " 32  revol_bal                    466285 non-null  int64  \n",
            " 33  revol_util                   465945 non-null  float64\n",
            " 34  total_acc                    466256 non-null  float64\n",
            " 35  initial_list_status          466285 non-null  object \n",
            " 36  out_prncp                    466285 non-null  float64\n",
            " 37  out_prncp_inv                466285 non-null  float64\n",
            " 38  total_pymnt                  466285 non-null  float64\n",
            " 39  total_pymnt_inv              466285 non-null  float64\n",
            " 40  total_rec_prncp              466285 non-null  float64\n",
            " 41  total_rec_int                466285 non-null  float64\n",
            " 42  total_rec_late_fee           466285 non-null  float64\n",
            " 43  recoveries                   466285 non-null  float64\n",
            " 44  collection_recovery_fee      466285 non-null  float64\n",
            " 45  last_pymnt_d                 465909 non-null  object \n",
            " 46  last_pymnt_amnt              466285 non-null  float64\n",
            " 47  next_pymnt_d                 239071 non-null  object \n",
            " 48  last_credit_pull_d           466243 non-null  object \n",
            " 49  collections_12_mths_ex_med   466140 non-null  float64\n",
            " 50  mths_since_last_major_derog  98974 non-null   float64\n",
            " 51  policy_code                  466285 non-null  int64  \n",
            " 52  application_type             466285 non-null  object \n",
            " 53  annual_inc_joint             0 non-null       float64\n",
            " 54  dti_joint                    0 non-null       float64\n",
            " 55  verification_status_joint    0 non-null       float64\n",
            " 56  acc_now_delinq               466256 non-null  float64\n",
            " 57  tot_coll_amt                 396009 non-null  float64\n",
            " 58  tot_cur_bal                  396009 non-null  float64\n",
            " 59  open_acc_6m                  0 non-null       float64\n",
            " 60  open_il_6m                   0 non-null       float64\n",
            " 61  open_il_12m                  0 non-null       float64\n",
            " 62  open_il_24m                  0 non-null       float64\n",
            " 63  mths_since_rcnt_il           0 non-null       float64\n",
            " 64  total_bal_il                 0 non-null       float64\n",
            " 65  il_util                      0 non-null       float64\n",
            " 66  open_rv_12m                  0 non-null       float64\n",
            " 67  open_rv_24m                  0 non-null       float64\n",
            " 68  max_bal_bc                   0 non-null       float64\n",
            " 69  all_util                     0 non-null       float64\n",
            " 70  total_rev_hi_lim             396009 non-null  float64\n",
            " 71  inq_fi                       0 non-null       float64\n",
            " 72  total_cu_tl                  0 non-null       float64\n",
            " 73  inq_last_12m                 0 non-null       float64\n",
            "dtypes: float64(46), int64(6), object(22)\n",
            "memory usage: 266.8+ MB\n"
          ]
        }
      ],
      "source": [
        "data_raw.info()"
      ],
      "id": "14f2a434-98e4-426d-8914-5b56dba4f1c3"
    },
    {
      "cell_type": "code",
      "execution_count": null,
      "metadata": {
        "id": "ae2de89b-b107-4aed-a27a-d3e459dad9a7",
        "outputId": "c4847215-ca7b-41d1-d625-64bd4d06399e",
        "colab": {
          "base_uri": "https://localhost:8080/",
          "height": 162
        }
      },
      "outputs": [
        {
          "output_type": "execute_result",
          "data": {
            "text/plain": [
              "             id  member_id  loan_amnt  funded_amnt  funded_amnt_inv  \\\n",
              "102162  6718313    8320624       8125         8125           8125.0   \n",
              "\n",
              "              term  int_rate  installment grade sub_grade          emp_title  \\\n",
              "102162   36 months      9.71       261.07     B        B1  Myriad Industries   \n",
              "\n",
              "       emp_length home_ownership  annual_inc verification_status issue_d  \\\n",
              "102162    9 years           RENT     33312.0            Verified  Aug-13   \n",
              "\n",
              "       loan_status pymnt_plan  \\\n",
              "102162  Fully Paid          n   \n",
              "\n",
              "                                                      url desc      purpose  \\\n",
              "102162  https://www.lendingclub.com/browse/loanDetail....  NaN  credit_card   \n",
              "\n",
              "         title zip_code addr_state   dti  delinq_2yrs earliest_cr_line  \\\n",
              "102162  payoff    921xx         CA  22.8          0.0           Feb-97   \n",
              "\n",
              "        inq_last_6mths  mths_since_last_delinq  mths_since_last_record  \\\n",
              "102162             0.0                    71.0                     NaN   \n",
              "\n",
              "        open_acc  pub_rec  revol_bal  revol_util  total_acc  \\\n",
              "102162       8.0      0.0       8676        49.9       19.0   \n",
              "\n",
              "       initial_list_status  out_prncp  out_prncp_inv  total_pymnt  \\\n",
              "102162                   f        0.0            0.0  9075.256522   \n",
              "\n",
              "        total_pymnt_inv  total_rec_prncp  total_rec_int  total_rec_late_fee  \\\n",
              "102162          9075.26           8125.0         950.26                 0.0   \n",
              "\n",
              "        recoveries  collection_recovery_fee last_pymnt_d  last_pymnt_amnt  \\\n",
              "102162         0.0                      0.0       Feb-15          4639.41   \n",
              "\n",
              "       next_pymnt_d last_credit_pull_d  collections_12_mths_ex_med  \\\n",
              "102162          NaN             Mar-15                         0.0   \n",
              "\n",
              "        mths_since_last_major_derog  policy_code application_type  \\\n",
              "102162                         71.0            1       INDIVIDUAL   \n",
              "\n",
              "        annual_inc_joint  dti_joint  verification_status_joint  \\\n",
              "102162               NaN        NaN                        NaN   \n",
              "\n",
              "        acc_now_delinq  tot_coll_amt  tot_cur_bal  open_acc_6m  open_il_6m  \\\n",
              "102162             0.0           0.0      44110.0          NaN         NaN   \n",
              "\n",
              "        open_il_12m  open_il_24m  mths_since_rcnt_il  total_bal_il  il_util  \\\n",
              "102162          NaN          NaN                 NaN           NaN      NaN   \n",
              "\n",
              "        open_rv_12m  open_rv_24m  max_bal_bc  all_util  total_rev_hi_lim  \\\n",
              "102162          NaN          NaN         NaN       NaN           17400.0   \n",
              "\n",
              "        inq_fi  total_cu_tl  inq_last_12m  \n",
              "102162     NaN          NaN           NaN  "
            ],
            "text/html": [
              "\n",
              "  <div id=\"df-1263d68a-d22f-4e48-9e89-313eb372e2d5\">\n",
              "    <div class=\"colab-df-container\">\n",
              "      <div>\n",
              "<style scoped>\n",
              "    .dataframe tbody tr th:only-of-type {\n",
              "        vertical-align: middle;\n",
              "    }\n",
              "\n",
              "    .dataframe tbody tr th {\n",
              "        vertical-align: top;\n",
              "    }\n",
              "\n",
              "    .dataframe thead th {\n",
              "        text-align: right;\n",
              "    }\n",
              "</style>\n",
              "<table border=\"1\" class=\"dataframe\">\n",
              "  <thead>\n",
              "    <tr style=\"text-align: right;\">\n",
              "      <th></th>\n",
              "      <th>id</th>\n",
              "      <th>member_id</th>\n",
              "      <th>loan_amnt</th>\n",
              "      <th>funded_amnt</th>\n",
              "      <th>funded_amnt_inv</th>\n",
              "      <th>term</th>\n",
              "      <th>int_rate</th>\n",
              "      <th>installment</th>\n",
              "      <th>grade</th>\n",
              "      <th>sub_grade</th>\n",
              "      <th>emp_title</th>\n",
              "      <th>emp_length</th>\n",
              "      <th>home_ownership</th>\n",
              "      <th>annual_inc</th>\n",
              "      <th>verification_status</th>\n",
              "      <th>issue_d</th>\n",
              "      <th>loan_status</th>\n",
              "      <th>pymnt_plan</th>\n",
              "      <th>url</th>\n",
              "      <th>desc</th>\n",
              "      <th>purpose</th>\n",
              "      <th>title</th>\n",
              "      <th>zip_code</th>\n",
              "      <th>addr_state</th>\n",
              "      <th>dti</th>\n",
              "      <th>delinq_2yrs</th>\n",
              "      <th>earliest_cr_line</th>\n",
              "      <th>inq_last_6mths</th>\n",
              "      <th>mths_since_last_delinq</th>\n",
              "      <th>mths_since_last_record</th>\n",
              "      <th>open_acc</th>\n",
              "      <th>pub_rec</th>\n",
              "      <th>revol_bal</th>\n",
              "      <th>revol_util</th>\n",
              "      <th>total_acc</th>\n",
              "      <th>initial_list_status</th>\n",
              "      <th>out_prncp</th>\n",
              "      <th>out_prncp_inv</th>\n",
              "      <th>total_pymnt</th>\n",
              "      <th>total_pymnt_inv</th>\n",
              "      <th>total_rec_prncp</th>\n",
              "      <th>total_rec_int</th>\n",
              "      <th>total_rec_late_fee</th>\n",
              "      <th>recoveries</th>\n",
              "      <th>collection_recovery_fee</th>\n",
              "      <th>last_pymnt_d</th>\n",
              "      <th>last_pymnt_amnt</th>\n",
              "      <th>next_pymnt_d</th>\n",
              "      <th>last_credit_pull_d</th>\n",
              "      <th>collections_12_mths_ex_med</th>\n",
              "      <th>mths_since_last_major_derog</th>\n",
              "      <th>policy_code</th>\n",
              "      <th>application_type</th>\n",
              "      <th>annual_inc_joint</th>\n",
              "      <th>dti_joint</th>\n",
              "      <th>verification_status_joint</th>\n",
              "      <th>acc_now_delinq</th>\n",
              "      <th>tot_coll_amt</th>\n",
              "      <th>tot_cur_bal</th>\n",
              "      <th>open_acc_6m</th>\n",
              "      <th>open_il_6m</th>\n",
              "      <th>open_il_12m</th>\n",
              "      <th>open_il_24m</th>\n",
              "      <th>mths_since_rcnt_il</th>\n",
              "      <th>total_bal_il</th>\n",
              "      <th>il_util</th>\n",
              "      <th>open_rv_12m</th>\n",
              "      <th>open_rv_24m</th>\n",
              "      <th>max_bal_bc</th>\n",
              "      <th>all_util</th>\n",
              "      <th>total_rev_hi_lim</th>\n",
              "      <th>inq_fi</th>\n",
              "      <th>total_cu_tl</th>\n",
              "      <th>inq_last_12m</th>\n",
              "    </tr>\n",
              "  </thead>\n",
              "  <tbody>\n",
              "    <tr>\n",
              "      <th>102162</th>\n",
              "      <td>6718313</td>\n",
              "      <td>8320624</td>\n",
              "      <td>8125</td>\n",
              "      <td>8125</td>\n",
              "      <td>8125.0</td>\n",
              "      <td>36 months</td>\n",
              "      <td>9.71</td>\n",
              "      <td>261.07</td>\n",
              "      <td>B</td>\n",
              "      <td>B1</td>\n",
              "      <td>Myriad Industries</td>\n",
              "      <td>9 years</td>\n",
              "      <td>RENT</td>\n",
              "      <td>33312.0</td>\n",
              "      <td>Verified</td>\n",
              "      <td>Aug-13</td>\n",
              "      <td>Fully Paid</td>\n",
              "      <td>n</td>\n",
              "      <td>https://www.lendingclub.com/browse/loanDetail....</td>\n",
              "      <td>NaN</td>\n",
              "      <td>credit_card</td>\n",
              "      <td>payoff</td>\n",
              "      <td>921xx</td>\n",
              "      <td>CA</td>\n",
              "      <td>22.8</td>\n",
              "      <td>0.0</td>\n",
              "      <td>Feb-97</td>\n",
              "      <td>0.0</td>\n",
              "      <td>71.0</td>\n",
              "      <td>NaN</td>\n",
              "      <td>8.0</td>\n",
              "      <td>0.0</td>\n",
              "      <td>8676</td>\n",
              "      <td>49.9</td>\n",
              "      <td>19.0</td>\n",
              "      <td>f</td>\n",
              "      <td>0.0</td>\n",
              "      <td>0.0</td>\n",
              "      <td>9075.256522</td>\n",
              "      <td>9075.26</td>\n",
              "      <td>8125.0</td>\n",
              "      <td>950.26</td>\n",
              "      <td>0.0</td>\n",
              "      <td>0.0</td>\n",
              "      <td>0.0</td>\n",
              "      <td>Feb-15</td>\n",
              "      <td>4639.41</td>\n",
              "      <td>NaN</td>\n",
              "      <td>Mar-15</td>\n",
              "      <td>0.0</td>\n",
              "      <td>71.0</td>\n",
              "      <td>1</td>\n",
              "      <td>INDIVIDUAL</td>\n",
              "      <td>NaN</td>\n",
              "      <td>NaN</td>\n",
              "      <td>NaN</td>\n",
              "      <td>0.0</td>\n",
              "      <td>0.0</td>\n",
              "      <td>44110.0</td>\n",
              "      <td>NaN</td>\n",
              "      <td>NaN</td>\n",
              "      <td>NaN</td>\n",
              "      <td>NaN</td>\n",
              "      <td>NaN</td>\n",
              "      <td>NaN</td>\n",
              "      <td>NaN</td>\n",
              "      <td>NaN</td>\n",
              "      <td>NaN</td>\n",
              "      <td>NaN</td>\n",
              "      <td>NaN</td>\n",
              "      <td>17400.0</td>\n",
              "      <td>NaN</td>\n",
              "      <td>NaN</td>\n",
              "      <td>NaN</td>\n",
              "    </tr>\n",
              "  </tbody>\n",
              "</table>\n",
              "</div>\n",
              "      <button class=\"colab-df-convert\" onclick=\"convertToInteractive('df-1263d68a-d22f-4e48-9e89-313eb372e2d5')\"\n",
              "              title=\"Convert this dataframe to an interactive table.\"\n",
              "              style=\"display:none;\">\n",
              "        \n",
              "  <svg xmlns=\"http://www.w3.org/2000/svg\" height=\"24px\"viewBox=\"0 0 24 24\"\n",
              "       width=\"24px\">\n",
              "    <path d=\"M0 0h24v24H0V0z\" fill=\"none\"/>\n",
              "    <path d=\"M18.56 5.44l.94 2.06.94-2.06 2.06-.94-2.06-.94-.94-2.06-.94 2.06-2.06.94zm-11 1L8.5 8.5l.94-2.06 2.06-.94-2.06-.94L8.5 2.5l-.94 2.06-2.06.94zm10 10l.94 2.06.94-2.06 2.06-.94-2.06-.94-.94-2.06-.94 2.06-2.06.94z\"/><path d=\"M17.41 7.96l-1.37-1.37c-.4-.4-.92-.59-1.43-.59-.52 0-1.04.2-1.43.59L10.3 9.45l-7.72 7.72c-.78.78-.78 2.05 0 2.83L4 21.41c.39.39.9.59 1.41.59.51 0 1.02-.2 1.41-.59l7.78-7.78 2.81-2.81c.8-.78.8-2.07 0-2.86zM5.41 20L4 18.59l7.72-7.72 1.47 1.35L5.41 20z\"/>\n",
              "  </svg>\n",
              "      </button>\n",
              "      \n",
              "  <style>\n",
              "    .colab-df-container {\n",
              "      display:flex;\n",
              "      flex-wrap:wrap;\n",
              "      gap: 12px;\n",
              "    }\n",
              "\n",
              "    .colab-df-convert {\n",
              "      background-color: #E8F0FE;\n",
              "      border: none;\n",
              "      border-radius: 50%;\n",
              "      cursor: pointer;\n",
              "      display: none;\n",
              "      fill: #1967D2;\n",
              "      height: 32px;\n",
              "      padding: 0 0 0 0;\n",
              "      width: 32px;\n",
              "    }\n",
              "\n",
              "    .colab-df-convert:hover {\n",
              "      background-color: #E2EBFA;\n",
              "      box-shadow: 0px 1px 2px rgba(60, 64, 67, 0.3), 0px 1px 3px 1px rgba(60, 64, 67, 0.15);\n",
              "      fill: #174EA6;\n",
              "    }\n",
              "\n",
              "    [theme=dark] .colab-df-convert {\n",
              "      background-color: #3B4455;\n",
              "      fill: #D2E3FC;\n",
              "    }\n",
              "\n",
              "    [theme=dark] .colab-df-convert:hover {\n",
              "      background-color: #434B5C;\n",
              "      box-shadow: 0px 1px 3px 1px rgba(0, 0, 0, 0.15);\n",
              "      filter: drop-shadow(0px 1px 2px rgba(0, 0, 0, 0.3));\n",
              "      fill: #FFFFFF;\n",
              "    }\n",
              "  </style>\n",
              "\n",
              "      <script>\n",
              "        const buttonEl =\n",
              "          document.querySelector('#df-1263d68a-d22f-4e48-9e89-313eb372e2d5 button.colab-df-convert');\n",
              "        buttonEl.style.display =\n",
              "          google.colab.kernel.accessAllowed ? 'block' : 'none';\n",
              "\n",
              "        async function convertToInteractive(key) {\n",
              "          const element = document.querySelector('#df-1263d68a-d22f-4e48-9e89-313eb372e2d5');\n",
              "          const dataTable =\n",
              "            await google.colab.kernel.invokeFunction('convertToInteractive',\n",
              "                                                     [key], {});\n",
              "          if (!dataTable) return;\n",
              "\n",
              "          const docLinkHtml = 'Like what you see? Visit the ' +\n",
              "            '<a target=\"_blank\" href=https://colab.research.google.com/notebooks/data_table.ipynb>data table notebook</a>'\n",
              "            + ' to learn more about interactive tables.';\n",
              "          element.innerHTML = '';\n",
              "          dataTable['output_type'] = 'display_data';\n",
              "          await google.colab.output.renderOutput(dataTable, element);\n",
              "          const docLink = document.createElement('div');\n",
              "          docLink.innerHTML = docLinkHtml;\n",
              "          element.appendChild(docLink);\n",
              "        }\n",
              "      </script>\n",
              "    </div>\n",
              "  </div>\n",
              "  "
            ]
          },
          "metadata": {},
          "execution_count": 6
        }
      ],
      "source": [
        "data_raw.sample()"
      ],
      "id": "ae2de89b-b107-4aed-a27a-d3e459dad9a7"
    },
    {
      "cell_type": "code",
      "execution_count": null,
      "metadata": {
        "id": "b72e82ae-d940-42c7-afd7-c0b1355aee20",
        "colab": {
          "base_uri": "https://localhost:8080/"
        },
        "outputId": "787a002c-2d33-4eaa-9098-7ec70325118c"
      },
      "outputs": [
        {
          "output_type": "execute_result",
          "data": {
            "text/plain": [
              "466285"
            ]
          },
          "metadata": {},
          "execution_count": 7
        }
      ],
      "source": [
        "data_raw.id.nunique()"
      ],
      "id": "b72e82ae-d940-42c7-afd7-c0b1355aee20"
    },
    {
      "cell_type": "code",
      "execution_count": null,
      "metadata": {
        "id": "dc5c9660-f592-49a0-86ea-6117fcb1b177",
        "colab": {
          "base_uri": "https://localhost:8080/"
        },
        "outputId": "37c42ee8-b0cc-4460-a3b2-c8d675dc0cc9"
      },
      "outputs": [
        {
          "output_type": "execute_result",
          "data": {
            "text/plain": [
              "466285"
            ]
          },
          "metadata": {},
          "execution_count": 8
        }
      ],
      "source": [
        "data_raw.member_id.nunique()"
      ],
      "id": "dc5c9660-f592-49a0-86ea-6117fcb1b177"
    },
    {
      "cell_type": "markdown",
      "metadata": {
        "id": "2a432ed8-4223-4a72-a272-a3ec9e088dec"
      },
      "source": [
        "There is no duplicate `id` or `member_id` value. It means that each row represent of one person."
      ],
      "id": "2a432ed8-4223-4a72-a272-a3ec9e088dec"
    },
    {
      "cell_type": "markdown",
      "metadata": {
        "id": "96d47ff1-4569-4a19-8236-51efda3c4e45"
      },
      "source": [
        "Next we want to remove nonfunctional features. Like unique id, free text, null value, etc."
      ],
      "id": "96d47ff1-4569-4a19-8236-51efda3c4e45"
    },
    {
      "cell_type": "code",
      "execution_count": null,
      "metadata": {
        "id": "9b836e49-0716-47c6-b5e8-657156bc41ed"
      },
      "outputs": [],
      "source": [
        "cols_to_drop = [\n",
        "    # unique id\n",
        "    'id'\n",
        "    , 'member_id'\n",
        "    \n",
        "    # free text\n",
        "    , 'url'\n",
        "    , 'desc'\n",
        "    \n",
        "    # all null / constant / others\n",
        "    , 'zip_code' \n",
        "    , 'annual_inc_joint'\n",
        "    , 'dti_joint'\n",
        "    , 'verification_status_joint'\n",
        "    , 'open_acc_6m'\n",
        "    , 'open_il_6m'\n",
        "    , 'open_il_12m'\n",
        "    , 'open_il_24m'\n",
        "    , 'mths_since_rcnt_il'\n",
        "    , 'total_bal_il'\n",
        "    , 'il_util'\n",
        "    , 'open_rv_12m'\n",
        "    , 'open_rv_24m'\n",
        "    , 'max_bal_bc'\n",
        "    , 'all_util'\n",
        "    , 'inq_fi'\n",
        "    , 'total_cu_tl'\n",
        "    , 'inq_last_12m'\n",
        "    \n",
        "    # expert judgement\n",
        "    , 'sub_grade'\n",
        "]"
      ],
      "id": "9b836e49-0716-47c6-b5e8-657156bc41ed"
    },
    {
      "cell_type": "code",
      "execution_count": null,
      "metadata": {
        "id": "ad25b882-2dad-4f6a-a4b1-4d8560b18143"
      },
      "outputs": [],
      "source": [
        "data = data_raw.drop(cols_to_drop, axis=1)"
      ],
      "id": "ad25b882-2dad-4f6a-a4b1-4d8560b18143"
    },
    {
      "cell_type": "code",
      "execution_count": null,
      "metadata": {
        "colab": {
          "base_uri": "https://localhost:8080/",
          "height": 374
        },
        "id": "816f0626-4128-4070-a773-89032db86642",
        "outputId": "b0d06db8-628f-40f6-f9b7-4cf599c3869f"
      },
      "outputs": [
        {
          "output_type": "execute_result",
          "data": {
            "text/plain": [
              "        loan_amnt  funded_amnt  funded_amnt_inv        term  int_rate  \\\n",
              "198440      12000        12000          12000.0   36 months     15.80   \n",
              "80393       10625        10625          10625.0   36 months      6.03   \n",
              "423727       8500         8500           8500.0   36 months     18.25   \n",
              "422670      35000        35000          35000.0   36 months     14.16   \n",
              "6324        30000        30000          29950.0   60 months     22.35   \n",
              "\n",
              "        installment grade               emp_title emp_length home_ownership  \\\n",
              "198440       420.71     C  united parcel services  10+ years       MORTGAGE   \n",
              "80393        323.38     A                 painter  10+ years            OWN   \n",
              "423727       308.37     D                operator    7 years           RENT   \n",
              "422670      1198.94     C               president  10+ years       MORTGAGE   \n",
              "6324         834.55     F                    TASC  10+ years       MORTGAGE   \n",
              "\n",
              "        annual_inc verification_status issue_d  loan_status pymnt_plan  \\\n",
              "198440     93000.0     Source Verified  Sep-12   Fully Paid          n   \n",
              "80393     118612.0            Verified  Oct-13      Current          n   \n",
              "423727     65000.0        Not Verified  Mar-14  Charged Off          n   \n",
              "422670    175000.0            Verified  Mar-14      Current          n   \n",
              "6324      116000.0            Verified  Oct-11      Current          n   \n",
              "\n",
              "                   purpose               title addr_state    dti  delinq_2yrs  \\\n",
              "198440  debt_consolidation  Debt consolidation         TX  17.43          0.0   \n",
              "80393   debt_consolidation                debt         CA  10.35          0.0   \n",
              "423727            vacation            Vacation         CA  24.70          0.0   \n",
              "422670    home_improvement    Home improvement         CA  23.01          0.0   \n",
              "6324    debt_consolidation  Bill Consolidation         VA  22.41          0.0   \n",
              "\n",
              "       earliest_cr_line  inq_last_6mths  mths_since_last_delinq  \\\n",
              "198440           Oct-01             1.0                    29.0   \n",
              "80393            Mar-01             0.0                     NaN   \n",
              "423727           Mar-08             0.0                    50.0   \n",
              "422670           Aug-00             2.0                     NaN   \n",
              "6324             Jul-94             0.0                     NaN   \n",
              "\n",
              "        mths_since_last_record  open_acc  pub_rec  revol_bal  revol_util  \\\n",
              "198440                     NaN      15.0      0.0      10571        81.3   \n",
              "80393                      NaN      11.0      0.0      28422        42.0   \n",
              "423727                     NaN       9.0      0.0       6815        69.5   \n",
              "422670                    77.0      11.0      1.0      47112        95.4   \n",
              "6324                       NaN      15.0      0.0      41707        77.0   \n",
              "\n",
              "        total_acc initial_list_status  out_prncp  out_prncp_inv  total_pymnt  \\\n",
              "198440       38.0                   f        0.0           0.00  15044.29894   \n",
              "80393        22.0                   f     2839.2        2839.20   8730.46000   \n",
              "423727       15.0                   w        0.0           0.00   4008.81000   \n",
              "422670       31.0                   w     6440.2        6440.20  33723.74000   \n",
              "6324         30.0                   f     6871.6        6860.05  42525.20000   \n",
              "\n",
              "        total_pymnt_inv  total_rec_prncp  total_rec_int  total_rec_late_fee  \\\n",
              "198440         15044.30         12000.00        3044.30                 0.0   \n",
              "80393           8730.46          7785.80         944.66                 0.0   \n",
              "423727          4008.81          2553.06        1455.75                 0.0   \n",
              "422670         33723.74         28559.80        5163.94                 0.0   \n",
              "6324           42454.57         23128.40       19396.80                 0.0   \n",
              "\n",
              "        recoveries  collection_recovery_fee last_pymnt_d  last_pymnt_amnt  \\\n",
              "198440         0.0                      0.0       Mar-15          2854.59   \n",
              "80393          0.0                      0.0       Jan-16           323.38   \n",
              "423727         0.0                      0.0       Apr-15           308.37   \n",
              "422670         0.0                      0.0       Jan-16          1198.94   \n",
              "6324           0.0                      0.0       Jan-16           834.55   \n",
              "\n",
              "       next_pymnt_d last_credit_pull_d  collections_12_mths_ex_med  \\\n",
              "198440          NaN             Jan-16                         0.0   \n",
              "80393        Feb-16             Jan-16                         0.0   \n",
              "423727          NaN             Jan-16                         0.0   \n",
              "422670       Jan-16             Jan-16                         0.0   \n",
              "6324         Feb-16             Jan-16                         0.0   \n",
              "\n",
              "        mths_since_last_major_derog  policy_code application_type  \\\n",
              "198440                         48.0            1       INDIVIDUAL   \n",
              "80393                           NaN            1       INDIVIDUAL   \n",
              "423727                         50.0            1       INDIVIDUAL   \n",
              "422670                          NaN            1       INDIVIDUAL   \n",
              "6324                            NaN            1       INDIVIDUAL   \n",
              "\n",
              "        acc_now_delinq  tot_coll_amt  tot_cur_bal  total_rev_hi_lim  \n",
              "198440             0.0           0.0     164443.0           13000.0  \n",
              "80393              0.0           0.0     816433.0           67600.0  \n",
              "423727             0.0           0.0      39729.0            9800.0  \n",
              "422670             0.0           0.0     604022.0           49400.0  \n",
              "6324               0.0           NaN          NaN               NaN  "
            ],
            "text/html": [
              "\n",
              "  <div id=\"df-8c2b27ba-b385-4a9d-ab83-13ccaa50c884\">\n",
              "    <div class=\"colab-df-container\">\n",
              "      <div>\n",
              "<style scoped>\n",
              "    .dataframe tbody tr th:only-of-type {\n",
              "        vertical-align: middle;\n",
              "    }\n",
              "\n",
              "    .dataframe tbody tr th {\n",
              "        vertical-align: top;\n",
              "    }\n",
              "\n",
              "    .dataframe thead th {\n",
              "        text-align: right;\n",
              "    }\n",
              "</style>\n",
              "<table border=\"1\" class=\"dataframe\">\n",
              "  <thead>\n",
              "    <tr style=\"text-align: right;\">\n",
              "      <th></th>\n",
              "      <th>loan_amnt</th>\n",
              "      <th>funded_amnt</th>\n",
              "      <th>funded_amnt_inv</th>\n",
              "      <th>term</th>\n",
              "      <th>int_rate</th>\n",
              "      <th>installment</th>\n",
              "      <th>grade</th>\n",
              "      <th>emp_title</th>\n",
              "      <th>emp_length</th>\n",
              "      <th>home_ownership</th>\n",
              "      <th>annual_inc</th>\n",
              "      <th>verification_status</th>\n",
              "      <th>issue_d</th>\n",
              "      <th>loan_status</th>\n",
              "      <th>pymnt_plan</th>\n",
              "      <th>purpose</th>\n",
              "      <th>title</th>\n",
              "      <th>addr_state</th>\n",
              "      <th>dti</th>\n",
              "      <th>delinq_2yrs</th>\n",
              "      <th>earliest_cr_line</th>\n",
              "      <th>inq_last_6mths</th>\n",
              "      <th>mths_since_last_delinq</th>\n",
              "      <th>mths_since_last_record</th>\n",
              "      <th>open_acc</th>\n",
              "      <th>pub_rec</th>\n",
              "      <th>revol_bal</th>\n",
              "      <th>revol_util</th>\n",
              "      <th>total_acc</th>\n",
              "      <th>initial_list_status</th>\n",
              "      <th>out_prncp</th>\n",
              "      <th>out_prncp_inv</th>\n",
              "      <th>total_pymnt</th>\n",
              "      <th>total_pymnt_inv</th>\n",
              "      <th>total_rec_prncp</th>\n",
              "      <th>total_rec_int</th>\n",
              "      <th>total_rec_late_fee</th>\n",
              "      <th>recoveries</th>\n",
              "      <th>collection_recovery_fee</th>\n",
              "      <th>last_pymnt_d</th>\n",
              "      <th>last_pymnt_amnt</th>\n",
              "      <th>next_pymnt_d</th>\n",
              "      <th>last_credit_pull_d</th>\n",
              "      <th>collections_12_mths_ex_med</th>\n",
              "      <th>mths_since_last_major_derog</th>\n",
              "      <th>policy_code</th>\n",
              "      <th>application_type</th>\n",
              "      <th>acc_now_delinq</th>\n",
              "      <th>tot_coll_amt</th>\n",
              "      <th>tot_cur_bal</th>\n",
              "      <th>total_rev_hi_lim</th>\n",
              "    </tr>\n",
              "  </thead>\n",
              "  <tbody>\n",
              "    <tr>\n",
              "      <th>198440</th>\n",
              "      <td>12000</td>\n",
              "      <td>12000</td>\n",
              "      <td>12000.0</td>\n",
              "      <td>36 months</td>\n",
              "      <td>15.80</td>\n",
              "      <td>420.71</td>\n",
              "      <td>C</td>\n",
              "      <td>united parcel services</td>\n",
              "      <td>10+ years</td>\n",
              "      <td>MORTGAGE</td>\n",
              "      <td>93000.0</td>\n",
              "      <td>Source Verified</td>\n",
              "      <td>Sep-12</td>\n",
              "      <td>Fully Paid</td>\n",
              "      <td>n</td>\n",
              "      <td>debt_consolidation</td>\n",
              "      <td>Debt consolidation</td>\n",
              "      <td>TX</td>\n",
              "      <td>17.43</td>\n",
              "      <td>0.0</td>\n",
              "      <td>Oct-01</td>\n",
              "      <td>1.0</td>\n",
              "      <td>29.0</td>\n",
              "      <td>NaN</td>\n",
              "      <td>15.0</td>\n",
              "      <td>0.0</td>\n",
              "      <td>10571</td>\n",
              "      <td>81.3</td>\n",
              "      <td>38.0</td>\n",
              "      <td>f</td>\n",
              "      <td>0.0</td>\n",
              "      <td>0.00</td>\n",
              "      <td>15044.29894</td>\n",
              "      <td>15044.30</td>\n",
              "      <td>12000.00</td>\n",
              "      <td>3044.30</td>\n",
              "      <td>0.0</td>\n",
              "      <td>0.0</td>\n",
              "      <td>0.0</td>\n",
              "      <td>Mar-15</td>\n",
              "      <td>2854.59</td>\n",
              "      <td>NaN</td>\n",
              "      <td>Jan-16</td>\n",
              "      <td>0.0</td>\n",
              "      <td>48.0</td>\n",
              "      <td>1</td>\n",
              "      <td>INDIVIDUAL</td>\n",
              "      <td>0.0</td>\n",
              "      <td>0.0</td>\n",
              "      <td>164443.0</td>\n",
              "      <td>13000.0</td>\n",
              "    </tr>\n",
              "    <tr>\n",
              "      <th>80393</th>\n",
              "      <td>10625</td>\n",
              "      <td>10625</td>\n",
              "      <td>10625.0</td>\n",
              "      <td>36 months</td>\n",
              "      <td>6.03</td>\n",
              "      <td>323.38</td>\n",
              "      <td>A</td>\n",
              "      <td>painter</td>\n",
              "      <td>10+ years</td>\n",
              "      <td>OWN</td>\n",
              "      <td>118612.0</td>\n",
              "      <td>Verified</td>\n",
              "      <td>Oct-13</td>\n",
              "      <td>Current</td>\n",
              "      <td>n</td>\n",
              "      <td>debt_consolidation</td>\n",
              "      <td>debt</td>\n",
              "      <td>CA</td>\n",
              "      <td>10.35</td>\n",
              "      <td>0.0</td>\n",
              "      <td>Mar-01</td>\n",
              "      <td>0.0</td>\n",
              "      <td>NaN</td>\n",
              "      <td>NaN</td>\n",
              "      <td>11.0</td>\n",
              "      <td>0.0</td>\n",
              "      <td>28422</td>\n",
              "      <td>42.0</td>\n",
              "      <td>22.0</td>\n",
              "      <td>f</td>\n",
              "      <td>2839.2</td>\n",
              "      <td>2839.20</td>\n",
              "      <td>8730.46000</td>\n",
              "      <td>8730.46</td>\n",
              "      <td>7785.80</td>\n",
              "      <td>944.66</td>\n",
              "      <td>0.0</td>\n",
              "      <td>0.0</td>\n",
              "      <td>0.0</td>\n",
              "      <td>Jan-16</td>\n",
              "      <td>323.38</td>\n",
              "      <td>Feb-16</td>\n",
              "      <td>Jan-16</td>\n",
              "      <td>0.0</td>\n",
              "      <td>NaN</td>\n",
              "      <td>1</td>\n",
              "      <td>INDIVIDUAL</td>\n",
              "      <td>0.0</td>\n",
              "      <td>0.0</td>\n",
              "      <td>816433.0</td>\n",
              "      <td>67600.0</td>\n",
              "    </tr>\n",
              "    <tr>\n",
              "      <th>423727</th>\n",
              "      <td>8500</td>\n",
              "      <td>8500</td>\n",
              "      <td>8500.0</td>\n",
              "      <td>36 months</td>\n",
              "      <td>18.25</td>\n",
              "      <td>308.37</td>\n",
              "      <td>D</td>\n",
              "      <td>operator</td>\n",
              "      <td>7 years</td>\n",
              "      <td>RENT</td>\n",
              "      <td>65000.0</td>\n",
              "      <td>Not Verified</td>\n",
              "      <td>Mar-14</td>\n",
              "      <td>Charged Off</td>\n",
              "      <td>n</td>\n",
              "      <td>vacation</td>\n",
              "      <td>Vacation</td>\n",
              "      <td>CA</td>\n",
              "      <td>24.70</td>\n",
              "      <td>0.0</td>\n",
              "      <td>Mar-08</td>\n",
              "      <td>0.0</td>\n",
              "      <td>50.0</td>\n",
              "      <td>NaN</td>\n",
              "      <td>9.0</td>\n",
              "      <td>0.0</td>\n",
              "      <td>6815</td>\n",
              "      <td>69.5</td>\n",
              "      <td>15.0</td>\n",
              "      <td>w</td>\n",
              "      <td>0.0</td>\n",
              "      <td>0.00</td>\n",
              "      <td>4008.81000</td>\n",
              "      <td>4008.81</td>\n",
              "      <td>2553.06</td>\n",
              "      <td>1455.75</td>\n",
              "      <td>0.0</td>\n",
              "      <td>0.0</td>\n",
              "      <td>0.0</td>\n",
              "      <td>Apr-15</td>\n",
              "      <td>308.37</td>\n",
              "      <td>NaN</td>\n",
              "      <td>Jan-16</td>\n",
              "      <td>0.0</td>\n",
              "      <td>50.0</td>\n",
              "      <td>1</td>\n",
              "      <td>INDIVIDUAL</td>\n",
              "      <td>0.0</td>\n",
              "      <td>0.0</td>\n",
              "      <td>39729.0</td>\n",
              "      <td>9800.0</td>\n",
              "    </tr>\n",
              "    <tr>\n",
              "      <th>422670</th>\n",
              "      <td>35000</td>\n",
              "      <td>35000</td>\n",
              "      <td>35000.0</td>\n",
              "      <td>36 months</td>\n",
              "      <td>14.16</td>\n",
              "      <td>1198.94</td>\n",
              "      <td>C</td>\n",
              "      <td>president</td>\n",
              "      <td>10+ years</td>\n",
              "      <td>MORTGAGE</td>\n",
              "      <td>175000.0</td>\n",
              "      <td>Verified</td>\n",
              "      <td>Mar-14</td>\n",
              "      <td>Current</td>\n",
              "      <td>n</td>\n",
              "      <td>home_improvement</td>\n",
              "      <td>Home improvement</td>\n",
              "      <td>CA</td>\n",
              "      <td>23.01</td>\n",
              "      <td>0.0</td>\n",
              "      <td>Aug-00</td>\n",
              "      <td>2.0</td>\n",
              "      <td>NaN</td>\n",
              "      <td>77.0</td>\n",
              "      <td>11.0</td>\n",
              "      <td>1.0</td>\n",
              "      <td>47112</td>\n",
              "      <td>95.4</td>\n",
              "      <td>31.0</td>\n",
              "      <td>w</td>\n",
              "      <td>6440.2</td>\n",
              "      <td>6440.20</td>\n",
              "      <td>33723.74000</td>\n",
              "      <td>33723.74</td>\n",
              "      <td>28559.80</td>\n",
              "      <td>5163.94</td>\n",
              "      <td>0.0</td>\n",
              "      <td>0.0</td>\n",
              "      <td>0.0</td>\n",
              "      <td>Jan-16</td>\n",
              "      <td>1198.94</td>\n",
              "      <td>Jan-16</td>\n",
              "      <td>Jan-16</td>\n",
              "      <td>0.0</td>\n",
              "      <td>NaN</td>\n",
              "      <td>1</td>\n",
              "      <td>INDIVIDUAL</td>\n",
              "      <td>0.0</td>\n",
              "      <td>0.0</td>\n",
              "      <td>604022.0</td>\n",
              "      <td>49400.0</td>\n",
              "    </tr>\n",
              "    <tr>\n",
              "      <th>6324</th>\n",
              "      <td>30000</td>\n",
              "      <td>30000</td>\n",
              "      <td>29950.0</td>\n",
              "      <td>60 months</td>\n",
              "      <td>22.35</td>\n",
              "      <td>834.55</td>\n",
              "      <td>F</td>\n",
              "      <td>TASC</td>\n",
              "      <td>10+ years</td>\n",
              "      <td>MORTGAGE</td>\n",
              "      <td>116000.0</td>\n",
              "      <td>Verified</td>\n",
              "      <td>Oct-11</td>\n",
              "      <td>Current</td>\n",
              "      <td>n</td>\n",
              "      <td>debt_consolidation</td>\n",
              "      <td>Bill Consolidation</td>\n",
              "      <td>VA</td>\n",
              "      <td>22.41</td>\n",
              "      <td>0.0</td>\n",
              "      <td>Jul-94</td>\n",
              "      <td>0.0</td>\n",
              "      <td>NaN</td>\n",
              "      <td>NaN</td>\n",
              "      <td>15.0</td>\n",
              "      <td>0.0</td>\n",
              "      <td>41707</td>\n",
              "      <td>77.0</td>\n",
              "      <td>30.0</td>\n",
              "      <td>f</td>\n",
              "      <td>6871.6</td>\n",
              "      <td>6860.05</td>\n",
              "      <td>42525.20000</td>\n",
              "      <td>42454.57</td>\n",
              "      <td>23128.40</td>\n",
              "      <td>19396.80</td>\n",
              "      <td>0.0</td>\n",
              "      <td>0.0</td>\n",
              "      <td>0.0</td>\n",
              "      <td>Jan-16</td>\n",
              "      <td>834.55</td>\n",
              "      <td>Feb-16</td>\n",
              "      <td>Jan-16</td>\n",
              "      <td>0.0</td>\n",
              "      <td>NaN</td>\n",
              "      <td>1</td>\n",
              "      <td>INDIVIDUAL</td>\n",
              "      <td>0.0</td>\n",
              "      <td>NaN</td>\n",
              "      <td>NaN</td>\n",
              "      <td>NaN</td>\n",
              "    </tr>\n",
              "  </tbody>\n",
              "</table>\n",
              "</div>\n",
              "      <button class=\"colab-df-convert\" onclick=\"convertToInteractive('df-8c2b27ba-b385-4a9d-ab83-13ccaa50c884')\"\n",
              "              title=\"Convert this dataframe to an interactive table.\"\n",
              "              style=\"display:none;\">\n",
              "        \n",
              "  <svg xmlns=\"http://www.w3.org/2000/svg\" height=\"24px\"viewBox=\"0 0 24 24\"\n",
              "       width=\"24px\">\n",
              "    <path d=\"M0 0h24v24H0V0z\" fill=\"none\"/>\n",
              "    <path d=\"M18.56 5.44l.94 2.06.94-2.06 2.06-.94-2.06-.94-.94-2.06-.94 2.06-2.06.94zm-11 1L8.5 8.5l.94-2.06 2.06-.94-2.06-.94L8.5 2.5l-.94 2.06-2.06.94zm10 10l.94 2.06.94-2.06 2.06-.94-2.06-.94-.94-2.06-.94 2.06-2.06.94z\"/><path d=\"M17.41 7.96l-1.37-1.37c-.4-.4-.92-.59-1.43-.59-.52 0-1.04.2-1.43.59L10.3 9.45l-7.72 7.72c-.78.78-.78 2.05 0 2.83L4 21.41c.39.39.9.59 1.41.59.51 0 1.02-.2 1.41-.59l7.78-7.78 2.81-2.81c.8-.78.8-2.07 0-2.86zM5.41 20L4 18.59l7.72-7.72 1.47 1.35L5.41 20z\"/>\n",
              "  </svg>\n",
              "      </button>\n",
              "      \n",
              "  <style>\n",
              "    .colab-df-container {\n",
              "      display:flex;\n",
              "      flex-wrap:wrap;\n",
              "      gap: 12px;\n",
              "    }\n",
              "\n",
              "    .colab-df-convert {\n",
              "      background-color: #E8F0FE;\n",
              "      border: none;\n",
              "      border-radius: 50%;\n",
              "      cursor: pointer;\n",
              "      display: none;\n",
              "      fill: #1967D2;\n",
              "      height: 32px;\n",
              "      padding: 0 0 0 0;\n",
              "      width: 32px;\n",
              "    }\n",
              "\n",
              "    .colab-df-convert:hover {\n",
              "      background-color: #E2EBFA;\n",
              "      box-shadow: 0px 1px 2px rgba(60, 64, 67, 0.3), 0px 1px 3px 1px rgba(60, 64, 67, 0.15);\n",
              "      fill: #174EA6;\n",
              "    }\n",
              "\n",
              "    [theme=dark] .colab-df-convert {\n",
              "      background-color: #3B4455;\n",
              "      fill: #D2E3FC;\n",
              "    }\n",
              "\n",
              "    [theme=dark] .colab-df-convert:hover {\n",
              "      background-color: #434B5C;\n",
              "      box-shadow: 0px 1px 3px 1px rgba(0, 0, 0, 0.15);\n",
              "      filter: drop-shadow(0px 1px 2px rgba(0, 0, 0, 0.3));\n",
              "      fill: #FFFFFF;\n",
              "    }\n",
              "  </style>\n",
              "\n",
              "      <script>\n",
              "        const buttonEl =\n",
              "          document.querySelector('#df-8c2b27ba-b385-4a9d-ab83-13ccaa50c884 button.colab-df-convert');\n",
              "        buttonEl.style.display =\n",
              "          google.colab.kernel.accessAllowed ? 'block' : 'none';\n",
              "\n",
              "        async function convertToInteractive(key) {\n",
              "          const element = document.querySelector('#df-8c2b27ba-b385-4a9d-ab83-13ccaa50c884');\n",
              "          const dataTable =\n",
              "            await google.colab.kernel.invokeFunction('convertToInteractive',\n",
              "                                                     [key], {});\n",
              "          if (!dataTable) return;\n",
              "\n",
              "          const docLinkHtml = 'Like what you see? Visit the ' +\n",
              "            '<a target=\"_blank\" href=https://colab.research.google.com/notebooks/data_table.ipynb>data table notebook</a>'\n",
              "            + ' to learn more about interactive tables.';\n",
              "          element.innerHTML = '';\n",
              "          dataTable['output_type'] = 'display_data';\n",
              "          await google.colab.output.renderOutput(dataTable, element);\n",
              "          const docLink = document.createElement('div');\n",
              "          docLink.innerHTML = docLinkHtml;\n",
              "          element.appendChild(docLink);\n",
              "        }\n",
              "      </script>\n",
              "    </div>\n",
              "  </div>\n",
              "  "
            ]
          },
          "metadata": {},
          "execution_count": 12
        }
      ],
      "source": [
        "data.sample(5)"
      ],
      "id": "816f0626-4128-4070-a773-89032db86642"
    },
    {
      "cell_type": "markdown",
      "metadata": {
        "id": "da3e1988-70da-4958-85ec-c8866cebd7fd"
      },
      "source": [
        "# DEFINE TARGET VARIABLE / LABELLING"
      ],
      "id": "da3e1988-70da-4958-85ec-c8866cebd7fd"
    },
    {
      "cell_type": "markdown",
      "metadata": {
        "id": "44602917-ef8a-46c6-9331-9272c123e0e5"
      },
      "source": [
        "Main goal of this credit risk modelling is to predict the ability of each individual for their credit payment. Hence, the target variable should reflected that conditions."
      ],
      "id": "44602917-ef8a-46c6-9331-9272c123e0e5"
    },
    {
      "cell_type": "markdown",
      "metadata": {
        "id": "5e4fcac9-6eb4-4890-9eb5-538f21f0983c"
      },
      "source": [
        "In this dataset, `loan_status` variable can be a target variable because it reflected their performance of each individual in credit payments."
      ],
      "id": "5e4fcac9-6eb4-4890-9eb5-538f21f0983c"
    },
    {
      "cell_type": "code",
      "execution_count": null,
      "metadata": {
        "colab": {
          "base_uri": "https://localhost:8080/"
        },
        "id": "44f62c30-218b-421a-a0ae-435b0a10fad1",
        "outputId": "f7e3e203-2c64-4f58-c827-1de4b8f0f393"
      },
      "outputs": [
        {
          "output_type": "execute_result",
          "data": {
            "text/plain": [
              "Current                                                48.087757\n",
              "Fully Paid                                             39.619332\n",
              "Charged Off                                             9.109236\n",
              "Late (31-120 days)                                      1.479782\n",
              "In Grace Period                                         0.674695\n",
              "Does not meet the credit policy. Status:Fully Paid      0.426349\n",
              "Late (16-30 days)                                       0.261214\n",
              "Default                                                 0.178432\n",
              "Does not meet the credit policy. Status:Charged Off     0.163205\n",
              "Name: loan_status, dtype: float64"
            ]
          },
          "metadata": {},
          "execution_count": 13
        }
      ],
      "source": [
        "data.loan_status.value_counts(normalize=True)*100"
      ],
      "id": "44f62c30-218b-421a-a0ae-435b0a10fad1"
    },
    {
      "cell_type": "markdown",
      "metadata": {
        "id": "a2eae777-8b21-41be-b3e6-6f94e7da71b1"
      },
      "source": [
        "Based on that value counts, `loan_status` have several values, such as: `Current` means smooth payment,`Charged Off` means stuck payment until deleted on account book, `Late` means late payment, `In Grace Period` means grace period payment, `Fully Paid` means fully payment, and `Default` means stuck payment.\n"
      ],
      "id": "a2eae777-8b21-41be-b3e6-6f94e7da71b1"
    },
    {
      "cell_type": "markdown",
      "metadata": {
        "id": "cef1c933-a27a-4f31-b8f5-6396b4230a71"
      },
      "source": [
        "Dari definisi-definisi tersebut, masing-masing individu dapat ditandai apakah mereka merupakan `bad loan` (peminjam yang buruk) atau `good loan` (peminjam yang baik)"
      ],
      "id": "cef1c933-a27a-4f31-b8f5-6396b4230a71"
    },
    {
      "cell_type": "markdown",
      "metadata": {
        "id": "ae1c5e10-21cc-46f5-9afe-9eb15e1cb08e"
      },
      "source": [
        "Definisi bad dan good loan terkadang bisa berbeda tergantung dari kebutuhan bisnis. Pada contoh ini, saya menggunakan keterlambatan pembayaran di atas 30 hari dan yang lebih buruk dari itu sebagai penanda bad loan."
      ],
      "id": "ae1c5e10-21cc-46f5-9afe-9eb15e1cb08e"
    },
    {
      "cell_type": "code",
      "execution_count": null,
      "metadata": {
        "id": "40095b4b-0181-432d-af07-fc25e5c6b8fe"
      },
      "outputs": [],
      "source": [
        "bad_status = [\n",
        "    'Charged Off' \n",
        "    , 'Default' \n",
        "    , 'Does not meet the credit policy. Status:Charged Off'\n",
        "    , 'Late (31-120 days)'\n",
        "]\n",
        "\n",
        "data['bad_flag'] = np.where(data['loan_status'].isin(bad_status), 1, 0)"
      ],
      "id": "40095b4b-0181-432d-af07-fc25e5c6b8fe"
    },
    {
      "cell_type": "code",
      "execution_count": null,
      "metadata": {
        "colab": {
          "base_uri": "https://localhost:8080/"
        },
        "id": "d2e90734-c995-4dca-af6c-7db90b3beb79",
        "outputId": "192fd6aa-bd1c-4604-cca0-b6a19283e88f"
      },
      "outputs": [
        {
          "output_type": "execute_result",
          "data": {
            "text/plain": [
              "0    89.069346\n",
              "1    10.930654\n",
              "Name: bad_flag, dtype: float64"
            ]
          },
          "metadata": {},
          "execution_count": 14
        }
      ],
      "source": [
        "data['bad_flag'].value_counts(normalize=True)*100"
      ],
      "id": "d2e90734-c995-4dca-af6c-7db90b3beb79"
    },
    {
      "cell_type": "markdown",
      "metadata": {
        "id": "934107d7-9757-42d4-9333-c234430c0648"
      },
      "source": [
        "Setelah melakukan flagging terhadap bad/good loan, dapat dilihat bahwa jumlah individu yang ditandai sebagai bad loan jauh lebih sedikit daripada good loan. Hal ini menyebabkan problem ini menjadi problem imbalanced dataset."
      ],
      "id": "934107d7-9757-42d4-9333-c234430c0648"
    },
    {
      "cell_type": "markdown",
      "metadata": {
        "id": "175024c9-9686-4a2f-8c9c-f4b2f74edb29"
      },
      "source": [
        "Jangan lupa untuk membuang kolom asal `loan_status` "
      ],
      "id": "175024c9-9686-4a2f-8c9c-f4b2f74edb29"
    },
    {
      "cell_type": "code",
      "execution_count": null,
      "metadata": {
        "id": "64ca6b3f-d165-4e53-9368-b890335c0f04"
      },
      "outputs": [],
      "source": [
        "data.drop('loan_status', axis=1, inplace=True)"
      ],
      "id": "64ca6b3f-d165-4e53-9368-b890335c0f04"
    },
    {
      "cell_type": "markdown",
      "metadata": {
        "id": "55a4d30b-deea-4d22-b082-9e47fff922d5"
      },
      "source": [
        "# DATA CLEANING, PREPROCESSING AND FEATURE ENGINEERING"
      ],
      "id": "55a4d30b-deea-4d22-b082-9e47fff922d5"
    },
    {
      "cell_type": "markdown",
      "metadata": {
        "id": "36ea8436-a032-4c92-b267-d6c600b8f51a"
      },
      "source": [
        "Pada step ini, dilakukan pembersihan/modifikasi beberapa fitur ke dalam format yang dapat digunakan untuk modeling."
      ],
      "id": "36ea8436-a032-4c92-b267-d6c600b8f51a"
    },
    {
      "cell_type": "markdown",
      "metadata": {
        "id": "07f366c4-907d-4ab9-84bb-49ba304baae7"
      },
      "source": [
        "### emp_length"
      ],
      "id": "07f366c4-907d-4ab9-84bb-49ba304baae7"
    },
    {
      "cell_type": "markdown",
      "metadata": {
        "id": "8b0089ae-9856-4295-8f13-259ffa53541e"
      },
      "source": [
        "Memodifikasi `emp_length`. Contoh: 4 years -> 4"
      ],
      "id": "8b0089ae-9856-4295-8f13-259ffa53541e"
    },
    {
      "cell_type": "code",
      "execution_count": null,
      "metadata": {
        "colab": {
          "base_uri": "https://localhost:8080/"
        },
        "id": "f3a36a04-a5dc-4e16-8930-176c03442155",
        "outputId": "87ec2b47-3f38-40d7-b190-8c8f7bc5061d"
      },
      "outputs": [
        {
          "output_type": "execute_result",
          "data": {
            "text/plain": [
              "array(['10+ years', '< 1 year', '1 year', '3 years', '8 years', '9 years',\n",
              "       '4 years', '5 years', '6 years', '2 years', '7 years', nan],\n",
              "      dtype=object)"
            ]
          },
          "metadata": {},
          "execution_count": 16
        }
      ],
      "source": [
        "data['emp_length'].unique()"
      ],
      "id": "f3a36a04-a5dc-4e16-8930-176c03442155"
    },
    {
      "cell_type": "code",
      "execution_count": null,
      "metadata": {
        "colab": {
          "base_uri": "https://localhost:8080/"
        },
        "id": "e39a05a9-b651-413a-8e12-9890f68923b5",
        "outputId": "2a96d569-2cf3-43e5-a3fe-b59d07a81376"
      },
      "outputs": [
        {
          "output_type": "stream",
          "name": "stderr",
          "text": [
            "<ipython-input-17-a93402c6aad3>:1: FutureWarning: The default value of regex will change from True to False in a future version.\n",
            "  data['emp_length_int'] = data['emp_length'].str.replace('\\+ years', '')\n"
          ]
        }
      ],
      "source": [
        "data['emp_length_int'] = data['emp_length'].str.replace('\\+ years', '')\n",
        "data['emp_length_int'] = data['emp_length_int'].str.replace('< 1 year', str(0))\n",
        "data['emp_length_int'] = data['emp_length_int'].str.replace(' years', '')\n",
        "data['emp_length_int'] = data['emp_length_int'].str.replace(' year', '')"
      ],
      "id": "e39a05a9-b651-413a-8e12-9890f68923b5"
    },
    {
      "cell_type": "code",
      "execution_count": null,
      "metadata": {
        "id": "da25ef25-1c61-45a4-bd2d-0b7b44ac19cd"
      },
      "outputs": [],
      "source": [
        "data['emp_length_int'] = data['emp_length_int'].astype(float)"
      ],
      "id": "da25ef25-1c61-45a4-bd2d-0b7b44ac19cd"
    },
    {
      "cell_type": "code",
      "execution_count": null,
      "metadata": {
        "id": "882c194d-9e31-4b64-b333-c653466db304"
      },
      "outputs": [],
      "source": [
        "data.drop('emp_length', axis=1, inplace=True)"
      ],
      "id": "882c194d-9e31-4b64-b333-c653466db304"
    },
    {
      "cell_type": "markdown",
      "metadata": {
        "id": "752b77e6-0b41-4126-bf8f-48267cbadce7"
      },
      "source": [
        "### term"
      ],
      "id": "752b77e6-0b41-4126-bf8f-48267cbadce7"
    },
    {
      "cell_type": "markdown",
      "metadata": {
        "id": "d5887e83-7874-4f46-978e-c760f872da6e"
      },
      "source": [
        "Memodifikasi `term`. Contoh: 36 months -> 36"
      ],
      "id": "d5887e83-7874-4f46-978e-c760f872da6e"
    },
    {
      "cell_type": "code",
      "execution_count": null,
      "metadata": {
        "colab": {
          "base_uri": "https://localhost:8080/"
        },
        "id": "a2fe1bd1-ee4e-4d24-a7da-48915f7994ac",
        "outputId": "3b87c446-ba14-4a73-e527-d21a1f31272a"
      },
      "outputs": [
        {
          "output_type": "execute_result",
          "data": {
            "text/plain": [
              "array([' 36 months', ' 60 months'], dtype=object)"
            ]
          },
          "metadata": {},
          "execution_count": 20
        }
      ],
      "source": [
        "data['term'].unique()"
      ],
      "id": "a2fe1bd1-ee4e-4d24-a7da-48915f7994ac"
    },
    {
      "cell_type": "code",
      "execution_count": null,
      "metadata": {
        "id": "fcb118cf-b5e6-4e4d-a599-2cbd467c93f9"
      },
      "outputs": [],
      "source": [
        "data['term_int'] = data['term'].str.replace(' months', '')\n",
        "data['term_int'] = data['term_int'].astype(float)"
      ],
      "id": "fcb118cf-b5e6-4e4d-a599-2cbd467c93f9"
    },
    {
      "cell_type": "code",
      "execution_count": null,
      "metadata": {
        "id": "612fb81d-be67-498c-9b66-ec318aa91147"
      },
      "outputs": [],
      "source": [
        "data.drop('term', axis=1, inplace=True)"
      ],
      "id": "612fb81d-be67-498c-9b66-ec318aa91147"
    },
    {
      "cell_type": "markdown",
      "metadata": {
        "id": "29f06348-36b5-4dcb-8bf0-ba9ce8fe5926"
      },
      "source": [
        "### earliest_cr_line"
      ],
      "id": "29f06348-36b5-4dcb-8bf0-ba9ce8fe5926"
    },
    {
      "cell_type": "markdown",
      "metadata": {
        "id": "ee00acc9-5100-45d8-bd2e-f60897611c81"
      },
      "source": [
        "Memodifikasi `earliest_cr_line` dari format bulan-tahun menjadi perhitungan berapa lama waktu berlalu sejak waktu tersebut. Untuk melakukan hal ini, umumnya digunakan reference date = hari ini. Namun, karena dataset ini merupakan dataset tahun 2007-2014, maka akan lebih relevan jika menggunakan reference date di sekitar tahun 2017. Dalam contoh ini, saya menggunakan tanggal 2017-12-01 sebagai reference date."
      ],
      "id": "ee00acc9-5100-45d8-bd2e-f60897611c81"
    },
    {
      "cell_type": "code",
      "execution_count": null,
      "metadata": {
        "colab": {
          "base_uri": "https://localhost:8080/"
        },
        "id": "61a11bc8-67bc-4049-85e2-49d14e0a7595",
        "outputId": "8fb22ef0-f842-4f69-9b9d-27cabe5b1ab2"
      },
      "outputs": [
        {
          "output_type": "execute_result",
          "data": {
            "text/plain": [
              "0    Jan-85\n",
              "1    Apr-99\n",
              "2    Nov-01\n",
              "Name: earliest_cr_line, dtype: object"
            ]
          },
          "metadata": {},
          "execution_count": 23
        }
      ],
      "source": [
        "data['earliest_cr_line'].head(3)"
      ],
      "id": "61a11bc8-67bc-4049-85e2-49d14e0a7595"
    },
    {
      "cell_type": "code",
      "execution_count": null,
      "metadata": {
        "colab": {
          "base_uri": "https://localhost:8080/"
        },
        "id": "ef6a827e-9b23-4c6d-b6ea-35f18466278f",
        "outputId": "dcba351c-d80b-4eb3-dc57-e00d8f0b15b9"
      },
      "outputs": [
        {
          "output_type": "execute_result",
          "data": {
            "text/plain": [
              "0   1985-01-01\n",
              "1   1999-04-01\n",
              "2   2001-11-01\n",
              "Name: earliest_cr_line_date, dtype: datetime64[ns]"
            ]
          },
          "metadata": {},
          "execution_count": 24
        }
      ],
      "source": [
        "data['earliest_cr_line_date'] = pd.to_datetime(data['earliest_cr_line'], format='%b-%y')\n",
        "data['earliest_cr_line_date'].head(3)"
      ],
      "id": "ef6a827e-9b23-4c6d-b6ea-35f18466278f"
    },
    {
      "cell_type": "code",
      "execution_count": null,
      "metadata": {
        "colab": {
          "base_uri": "https://localhost:8080/"
        },
        "id": "927e5fa7-f538-42c4-a41d-2d1e675e34a0",
        "outputId": "ed2deb5b-43e7-4241-8c9b-ae33ca6fc933"
      },
      "outputs": [
        {
          "output_type": "execute_result",
          "data": {
            "text/plain": [
              "0    395.0\n",
              "1    224.0\n",
              "2    193.0\n",
              "Name: mths_since_earliest_cr_line, dtype: float64"
            ]
          },
          "metadata": {},
          "execution_count": 25
        }
      ],
      "source": [
        "data['mths_since_earliest_cr_line'] = round(pd.to_numeric((pd.to_datetime('2017-12-01') - data['earliest_cr_line_date']) / np.timedelta64(1, 'M')))\n",
        "data['mths_since_earliest_cr_line'].head(3)"
      ],
      "id": "927e5fa7-f538-42c4-a41d-2d1e675e34a0"
    },
    {
      "cell_type": "code",
      "execution_count": null,
      "metadata": {
        "colab": {
          "base_uri": "https://localhost:8080/"
        },
        "id": "734bde13-2bf2-4672-907a-4e684c2f3701",
        "outputId": "800e64ff-6ce5-49a6-ef8c-0923a8e84334"
      },
      "outputs": [
        {
          "output_type": "execute_result",
          "data": {
            "text/plain": [
              "count    466256.000000\n",
              "mean        239.482430\n",
              "std          93.974829\n",
              "min        -612.000000\n",
              "25%         183.000000\n",
              "50%         225.000000\n",
              "75%         285.000000\n",
              "max         587.000000\n",
              "Name: mths_since_earliest_cr_line, dtype: float64"
            ]
          },
          "metadata": {},
          "execution_count": 26
        }
      ],
      "source": [
        "data['mths_since_earliest_cr_line'].describe()"
      ],
      "id": "734bde13-2bf2-4672-907a-4e684c2f3701"
    },
    {
      "cell_type": "markdown",
      "metadata": {
        "id": "17cc3cf6-d3f3-4673-97cb-53394a43ec3b"
      },
      "source": [
        "Terlihat ada nilai yang aneh, yaitu negatif."
      ],
      "id": "17cc3cf6-d3f3-4673-97cb-53394a43ec3b"
    },
    {
      "cell_type": "code",
      "execution_count": null,
      "metadata": {
        "colab": {
          "base_uri": "https://localhost:8080/",
          "height": 207
        },
        "id": "d84de89b-00ab-40d5-8690-a78d9ef0c98d",
        "outputId": "4b79b572-3f25-44ee-9291-4250c4000828"
      },
      "outputs": [
        {
          "output_type": "execute_result",
          "data": {
            "text/plain": [
              "     earliest_cr_line earliest_cr_line_date  mths_since_earliest_cr_line\n",
              "1580           Sep-62            2062-09-01                       -537.0\n",
              "1770           Sep-68            2068-09-01                       -609.0\n",
              "2799           Sep-64            2064-09-01                       -561.0"
            ],
            "text/html": [
              "\n",
              "  <div id=\"df-06154b40-deee-44a8-8d7f-7af17bdfdab2\">\n",
              "    <div class=\"colab-df-container\">\n",
              "      <div>\n",
              "<style scoped>\n",
              "    .dataframe tbody tr th:only-of-type {\n",
              "        vertical-align: middle;\n",
              "    }\n",
              "\n",
              "    .dataframe tbody tr th {\n",
              "        vertical-align: top;\n",
              "    }\n",
              "\n",
              "    .dataframe thead th {\n",
              "        text-align: right;\n",
              "    }\n",
              "</style>\n",
              "<table border=\"1\" class=\"dataframe\">\n",
              "  <thead>\n",
              "    <tr style=\"text-align: right;\">\n",
              "      <th></th>\n",
              "      <th>earliest_cr_line</th>\n",
              "      <th>earliest_cr_line_date</th>\n",
              "      <th>mths_since_earliest_cr_line</th>\n",
              "    </tr>\n",
              "  </thead>\n",
              "  <tbody>\n",
              "    <tr>\n",
              "      <th>1580</th>\n",
              "      <td>Sep-62</td>\n",
              "      <td>2062-09-01</td>\n",
              "      <td>-537.0</td>\n",
              "    </tr>\n",
              "    <tr>\n",
              "      <th>1770</th>\n",
              "      <td>Sep-68</td>\n",
              "      <td>2068-09-01</td>\n",
              "      <td>-609.0</td>\n",
              "    </tr>\n",
              "    <tr>\n",
              "      <th>2799</th>\n",
              "      <td>Sep-64</td>\n",
              "      <td>2064-09-01</td>\n",
              "      <td>-561.0</td>\n",
              "    </tr>\n",
              "  </tbody>\n",
              "</table>\n",
              "</div>\n",
              "      <button class=\"colab-df-convert\" onclick=\"convertToInteractive('df-06154b40-deee-44a8-8d7f-7af17bdfdab2')\"\n",
              "              title=\"Convert this dataframe to an interactive table.\"\n",
              "              style=\"display:none;\">\n",
              "        \n",
              "  <svg xmlns=\"http://www.w3.org/2000/svg\" height=\"24px\"viewBox=\"0 0 24 24\"\n",
              "       width=\"24px\">\n",
              "    <path d=\"M0 0h24v24H0V0z\" fill=\"none\"/>\n",
              "    <path d=\"M18.56 5.44l.94 2.06.94-2.06 2.06-.94-2.06-.94-.94-2.06-.94 2.06-2.06.94zm-11 1L8.5 8.5l.94-2.06 2.06-.94-2.06-.94L8.5 2.5l-.94 2.06-2.06.94zm10 10l.94 2.06.94-2.06 2.06-.94-2.06-.94-.94-2.06-.94 2.06-2.06.94z\"/><path d=\"M17.41 7.96l-1.37-1.37c-.4-.4-.92-.59-1.43-.59-.52 0-1.04.2-1.43.59L10.3 9.45l-7.72 7.72c-.78.78-.78 2.05 0 2.83L4 21.41c.39.39.9.59 1.41.59.51 0 1.02-.2 1.41-.59l7.78-7.78 2.81-2.81c.8-.78.8-2.07 0-2.86zM5.41 20L4 18.59l7.72-7.72 1.47 1.35L5.41 20z\"/>\n",
              "  </svg>\n",
              "      </button>\n",
              "      \n",
              "  <style>\n",
              "    .colab-df-container {\n",
              "      display:flex;\n",
              "      flex-wrap:wrap;\n",
              "      gap: 12px;\n",
              "    }\n",
              "\n",
              "    .colab-df-convert {\n",
              "      background-color: #E8F0FE;\n",
              "      border: none;\n",
              "      border-radius: 50%;\n",
              "      cursor: pointer;\n",
              "      display: none;\n",
              "      fill: #1967D2;\n",
              "      height: 32px;\n",
              "      padding: 0 0 0 0;\n",
              "      width: 32px;\n",
              "    }\n",
              "\n",
              "    .colab-df-convert:hover {\n",
              "      background-color: #E2EBFA;\n",
              "      box-shadow: 0px 1px 2px rgba(60, 64, 67, 0.3), 0px 1px 3px 1px rgba(60, 64, 67, 0.15);\n",
              "      fill: #174EA6;\n",
              "    }\n",
              "\n",
              "    [theme=dark] .colab-df-convert {\n",
              "      background-color: #3B4455;\n",
              "      fill: #D2E3FC;\n",
              "    }\n",
              "\n",
              "    [theme=dark] .colab-df-convert:hover {\n",
              "      background-color: #434B5C;\n",
              "      box-shadow: 0px 1px 3px 1px rgba(0, 0, 0, 0.15);\n",
              "      filter: drop-shadow(0px 1px 2px rgba(0, 0, 0, 0.3));\n",
              "      fill: #FFFFFF;\n",
              "    }\n",
              "  </style>\n",
              "\n",
              "      <script>\n",
              "        const buttonEl =\n",
              "          document.querySelector('#df-06154b40-deee-44a8-8d7f-7af17bdfdab2 button.colab-df-convert');\n",
              "        buttonEl.style.display =\n",
              "          google.colab.kernel.accessAllowed ? 'block' : 'none';\n",
              "\n",
              "        async function convertToInteractive(key) {\n",
              "          const element = document.querySelector('#df-06154b40-deee-44a8-8d7f-7af17bdfdab2');\n",
              "          const dataTable =\n",
              "            await google.colab.kernel.invokeFunction('convertToInteractive',\n",
              "                                                     [key], {});\n",
              "          if (!dataTable) return;\n",
              "\n",
              "          const docLinkHtml = 'Like what you see? Visit the ' +\n",
              "            '<a target=\"_blank\" href=https://colab.research.google.com/notebooks/data_table.ipynb>data table notebook</a>'\n",
              "            + ' to learn more about interactive tables.';\n",
              "          element.innerHTML = '';\n",
              "          dataTable['output_type'] = 'display_data';\n",
              "          await google.colab.output.renderOutput(dataTable, element);\n",
              "          const docLink = document.createElement('div');\n",
              "          docLink.innerHTML = docLinkHtml;\n",
              "          element.appendChild(docLink);\n",
              "        }\n",
              "      </script>\n",
              "    </div>\n",
              "  </div>\n",
              "  "
            ]
          },
          "metadata": {},
          "execution_count": 27
        }
      ],
      "source": [
        "data[data['mths_since_earliest_cr_line']<0][['earliest_cr_line', 'earliest_cr_line_date', 'mths_since_earliest_cr_line']].head(3)"
      ],
      "id": "d84de89b-00ab-40d5-8690-a78d9ef0c98d"
    },
    {
      "cell_type": "markdown",
      "metadata": {
        "id": "6a0374c3-77fa-46e3-8075-5ff6cedb7de7"
      },
      "source": [
        "Ternyata nilai negatif muncul karena fungsi Python salah menginterpretasikan tahun 62 menjadi tahun 2062, padahal seharusnya merupakan tahun 1962."
      ],
      "id": "6a0374c3-77fa-46e3-8075-5ff6cedb7de7"
    },
    {
      "cell_type": "markdown",
      "metadata": {
        "id": "3d909118-1988-4bfc-8795-f6a44809b3c7"
      },
      "source": [
        "Untuk mengatasi hal ini, dapat dilakukan preprocessing lebih jauh jika ingin membenarkan tahun 2062 menjadi 1962. Namun, kali ini saya hanya mengubah nilai yang negatif menjadi nilai maximum dari fitur tersebut. Karena di sini saya mengetahui bahwa nilai-nilai yang negatif artinya adalah data yang sudah tua (tahun 1900an), maka masih masuk akal jika saya mengganti nilai-nilai tersebut menjadi nilai terbesar."
      ],
      "id": "3d909118-1988-4bfc-8795-f6a44809b3c7"
    },
    {
      "cell_type": "code",
      "execution_count": null,
      "metadata": {
        "id": "3eece212-c803-4298-91db-f8f645ca5e22"
      },
      "outputs": [],
      "source": [
        "data.loc[data['mths_since_earliest_cr_line']<0, 'mths_since_earliest_cr_line'] = data['mths_since_earliest_cr_line'].max()"
      ],
      "id": "3eece212-c803-4298-91db-f8f645ca5e22"
    },
    {
      "cell_type": "code",
      "execution_count": null,
      "metadata": {
        "id": "c834fa5d-7f28-4a3e-afa7-11bd919973c3"
      },
      "outputs": [],
      "source": [
        "data.drop(['earliest_cr_line', 'earliest_cr_line_date'], axis=1, inplace=True)"
      ],
      "id": "c834fa5d-7f28-4a3e-afa7-11bd919973c3"
    },
    {
      "cell_type": "markdown",
      "metadata": {
        "id": "f37a5e3b-480f-4c63-8e95-bb4852654c6c"
      },
      "source": [
        "### issue_d"
      ],
      "id": "f37a5e3b-480f-4c63-8e95-bb4852654c6c"
    },
    {
      "cell_type": "markdown",
      "metadata": {
        "id": "715e5c98-bf11-46e8-902f-601d8e2eee3f"
      },
      "source": [
        "Konsep preprocessing yang dilakukan sama dengan yang dilakukan terhadap variabel `earliest_cr_line`"
      ],
      "id": "715e5c98-bf11-46e8-902f-601d8e2eee3f"
    },
    {
      "cell_type": "code",
      "execution_count": null,
      "metadata": {
        "id": "aa592e64-24ea-475e-b7ff-df599dc07943"
      },
      "outputs": [],
      "source": [
        "data['issue_d_date'] = pd.to_datetime(data['issue_d'], format='%b-%y')\n",
        "data['mths_since_issue_d'] = round(pd.to_numeric((pd.to_datetime('2017-12-01') - data['issue_d_date']) / np.timedelta64(1, 'M')))"
      ],
      "id": "aa592e64-24ea-475e-b7ff-df599dc07943"
    },
    {
      "cell_type": "code",
      "execution_count": null,
      "metadata": {
        "colab": {
          "base_uri": "https://localhost:8080/"
        },
        "id": "c39bc522-0586-4952-9de8-d60d4b5a605d",
        "outputId": "271f9a7e-7eb7-495a-c7c5-6f62f97782a0"
      },
      "outputs": [
        {
          "output_type": "execute_result",
          "data": {
            "text/plain": [
              "count    466285.000000\n",
              "mean         51.255187\n",
              "std          14.340154\n",
              "min          36.000000\n",
              "25%          41.000000\n",
              "50%          47.000000\n",
              "75%          57.000000\n",
              "max         126.000000\n",
              "Name: mths_since_issue_d, dtype: float64"
            ]
          },
          "metadata": {},
          "execution_count": 31
        }
      ],
      "source": [
        "data['mths_since_issue_d'].describe()"
      ],
      "id": "c39bc522-0586-4952-9de8-d60d4b5a605d"
    },
    {
      "cell_type": "code",
      "execution_count": null,
      "metadata": {
        "id": "2ac3f14a-0234-40e4-a069-86ce36cf6c48"
      },
      "outputs": [],
      "source": [
        "data.drop(['issue_d', 'issue_d_date'], axis=1, inplace=True)"
      ],
      "id": "2ac3f14a-0234-40e4-a069-86ce36cf6c48"
    },
    {
      "cell_type": "markdown",
      "metadata": {
        "id": "20cb8392-d204-4b9c-a7b2-ca6e69ce3b7e"
      },
      "source": [
        "### last_pymnt_d"
      ],
      "id": "20cb8392-d204-4b9c-a7b2-ca6e69ce3b7e"
    },
    {
      "cell_type": "markdown",
      "metadata": {
        "id": "f7cdd097-6263-45da-8bf6-dc3d2a15c2c3"
      },
      "source": [
        "Konsep preprocessing yang dilakukan sama dengan yang dilakukan terhadap variabel `earliest_cr_line`"
      ],
      "id": "f7cdd097-6263-45da-8bf6-dc3d2a15c2c3"
    },
    {
      "cell_type": "code",
      "execution_count": null,
      "metadata": {
        "id": "ee5adad6-8ab8-43df-8a34-21b21effe274"
      },
      "outputs": [],
      "source": [
        "data['last_pymnt_d_date'] = pd.to_datetime(data['last_pymnt_d'], format='%b-%y')\n",
        "data['mths_since_last_pymnt_d'] = round(pd.to_numeric((pd.to_datetime('2017-12-01') - data['last_pymnt_d_date']) / np.timedelta64(1, 'M')))"
      ],
      "id": "ee5adad6-8ab8-43df-8a34-21b21effe274"
    },
    {
      "cell_type": "code",
      "execution_count": null,
      "metadata": {
        "colab": {
          "base_uri": "https://localhost:8080/"
        },
        "id": "6ef28e75-4263-48bc-a2f2-56d05236afd4",
        "outputId": "73008ce2-da1d-4750-d098-aa4bffe2e0ba"
      },
      "outputs": [
        {
          "output_type": "execute_result",
          "data": {
            "text/plain": [
              "count    465909.000000\n",
              "mean         31.294369\n",
              "std          12.809898\n",
              "min          23.000000\n",
              "25%          23.000000\n",
              "50%          24.000000\n",
              "75%          35.000000\n",
              "max         120.000000\n",
              "Name: mths_since_last_pymnt_d, dtype: float64"
            ]
          },
          "metadata": {},
          "execution_count": 34
        }
      ],
      "source": [
        "data['mths_since_last_pymnt_d'].describe()"
      ],
      "id": "6ef28e75-4263-48bc-a2f2-56d05236afd4"
    },
    {
      "cell_type": "code",
      "execution_count": null,
      "metadata": {
        "id": "0a6c53d6-0659-4e2b-b643-6ae7531f87e6"
      },
      "outputs": [],
      "source": [
        "data.drop(['last_pymnt_d', 'last_pymnt_d_date'], axis=1, inplace=True)"
      ],
      "id": "0a6c53d6-0659-4e2b-b643-6ae7531f87e6"
    },
    {
      "cell_type": "markdown",
      "metadata": {
        "id": "f79cfb76-cf00-4c9a-9516-f27f6a2886bf"
      },
      "source": [
        "### next_pymnt_d"
      ],
      "id": "f79cfb76-cf00-4c9a-9516-f27f6a2886bf"
    },
    {
      "cell_type": "markdown",
      "metadata": {
        "id": "b9590ea1-c59c-4c9e-a7b6-842cd7746bbe"
      },
      "source": [
        "Konsep preprocessing yang dilakukan sama dengan yang dilakukan terhadap variabel `earliest_cr_line`"
      ],
      "id": "b9590ea1-c59c-4c9e-a7b6-842cd7746bbe"
    },
    {
      "cell_type": "code",
      "execution_count": null,
      "metadata": {
        "id": "e6cf8d29-edc9-42af-b837-6fa1d4eb5519"
      },
      "outputs": [],
      "source": [
        "data['next_pymnt_d_date'] = pd.to_datetime(data['next_pymnt_d'], format='%b-%y')\n",
        "data['mths_since_next_pymnt_d'] = round(pd.to_numeric((pd.to_datetime('2017-12-01') - data['next_pymnt_d_date']) / np.timedelta64(1, 'M')))"
      ],
      "id": "e6cf8d29-edc9-42af-b837-6fa1d4eb5519"
    },
    {
      "cell_type": "code",
      "execution_count": null,
      "metadata": {
        "colab": {
          "base_uri": "https://localhost:8080/"
        },
        "id": "78b1654d-25b1-4d84-9fbb-4ba6ee77f9e9",
        "outputId": "896a7f6b-8ccf-48c1-b4a2-e83642a53fc7"
      },
      "outputs": [
        {
          "output_type": "execute_result",
          "data": {
            "text/plain": [
              "count    239071.000000\n",
              "mean         22.738136\n",
              "std           6.082298\n",
              "min          21.000000\n",
              "25%          22.000000\n",
              "50%          22.000000\n",
              "75%          22.000000\n",
              "max         120.000000\n",
              "Name: mths_since_next_pymnt_d, dtype: float64"
            ]
          },
          "metadata": {},
          "execution_count": 37
        }
      ],
      "source": [
        "data['mths_since_next_pymnt_d'].describe()"
      ],
      "id": "78b1654d-25b1-4d84-9fbb-4ba6ee77f9e9"
    },
    {
      "cell_type": "code",
      "execution_count": null,
      "metadata": {
        "id": "43b09dc7-2c7f-499d-8c9c-499252754bd4"
      },
      "outputs": [],
      "source": [
        "data.drop(['next_pymnt_d', 'next_pymnt_d_date'], axis=1, inplace=True)"
      ],
      "id": "43b09dc7-2c7f-499d-8c9c-499252754bd4"
    },
    {
      "cell_type": "markdown",
      "metadata": {
        "id": "a1af0a43-71e2-4b08-9ad3-7f8cf394b1d0"
      },
      "source": [
        "### last_credit_pull_d"
      ],
      "id": "a1af0a43-71e2-4b08-9ad3-7f8cf394b1d0"
    },
    {
      "cell_type": "markdown",
      "metadata": {
        "id": "b20d2cb6-570a-4055-9c0d-5c8313f3289b"
      },
      "source": [
        "Konsep preprocessing yang dilakukan sama dengan yang dilakukan terhadap variabel `earliest_cr_line`"
      ],
      "id": "b20d2cb6-570a-4055-9c0d-5c8313f3289b"
    },
    {
      "cell_type": "code",
      "execution_count": null,
      "metadata": {
        "id": "19581450-4d1a-4ca6-9c5b-08cd3b730b84"
      },
      "outputs": [],
      "source": [
        "data['last_credit_pull_d_date'] = pd.to_datetime(data['last_credit_pull_d'], format='%b-%y')\n",
        "data['mths_since_last_credit_pull_d'] = round(pd.to_numeric((pd.to_datetime('2017-12-01') - data['last_credit_pull_d_date']) / np.timedelta64(1, 'M')))"
      ],
      "id": "19581450-4d1a-4ca6-9c5b-08cd3b730b84"
    },
    {
      "cell_type": "code",
      "execution_count": null,
      "metadata": {
        "colab": {
          "base_uri": "https://localhost:8080/"
        },
        "id": "cb959846-54bf-4ec3-8160-b6b35b6bc093",
        "outputId": "50467b23-df7e-42d0-a4b6-6160881442b1"
      },
      "outputs": [
        {
          "output_type": "execute_result",
          "data": {
            "text/plain": [
              "count    466243.000000\n",
              "mean         27.045588\n",
              "std           9.636423\n",
              "min          23.000000\n",
              "25%          23.000000\n",
              "50%          23.000000\n",
              "75%          25.000000\n",
              "max         127.000000\n",
              "Name: mths_since_last_credit_pull_d, dtype: float64"
            ]
          },
          "metadata": {},
          "execution_count": 40
        }
      ],
      "source": [
        "data['mths_since_last_credit_pull_d'].describe()"
      ],
      "id": "cb959846-54bf-4ec3-8160-b6b35b6bc093"
    },
    {
      "cell_type": "code",
      "execution_count": null,
      "metadata": {
        "id": "58a28346-0b6d-4b5f-acc6-3f8bf8ca3395"
      },
      "outputs": [],
      "source": [
        "data.drop(['last_credit_pull_d', 'last_credit_pull_d_date'], axis=1, inplace=True)"
      ],
      "id": "58a28346-0b6d-4b5f-acc6-3f8bf8ca3395"
    },
    {
      "cell_type": "markdown",
      "metadata": {
        "id": "202362f6-3d5f-4e72-a795-b3d145416277"
      },
      "source": [
        "# EXPLORATORY DATA ANALYSIS (EDA)"
      ],
      "id": "202362f6-3d5f-4e72-a795-b3d145416277"
    },
    {
      "cell_type": "markdown",
      "metadata": {
        "id": "f35f6fc5-19b4-47b5-83c6-410a296a3561"
      },
      "source": [
        "### Correlation Check"
      ],
      "id": "f35f6fc5-19b4-47b5-83c6-410a296a3561"
    },
    {
      "cell_type": "code",
      "execution_count": null,
      "metadata": {
        "colab": {
          "base_uri": "https://localhost:8080/",
          "height": 354
        },
        "id": "d13dd53d-fdbf-4a55-b2c3-9c175e027a32",
        "outputId": "9b6ab89f-aa75-4f01-fb0b-62b1a8842c5d"
      },
      "outputs": [
        {
          "output_type": "execute_result",
          "data": {
            "text/plain": [
              "<matplotlib.axes._subplots.AxesSubplot at 0x7f4f8f480a30>"
            ]
          },
          "metadata": {},
          "execution_count": 42
        },
        {
          "output_type": "display_data",
          "data": {
            "text/plain": [
              "<Figure size 1440x1440 with 2 Axes>"
            ],
            "image/png": "[encoded data removed]"
          },
          "metadata": {}
        }
      ],
      "source": [
        "plt.figure(figsize=(20,20))\n",
        "sns.heatmap(data.corr())"
      ],
      "id": "d13dd53d-fdbf-4a55-b2c3-9c175e027a32"
    },
    {
      "cell_type": "markdown",
      "metadata": {
        "id": "79ee2ff5-f2a5-4ab1-b286-5bcca623bb2b"
      },
      "source": [
        "Di sini, jika ada pasangan fitur-fitur yang memiliki korelasi tinggi maka akan diambil salah satu saja. Nilai korelasi yang dijadikan patokan sebagai korelasi tinggi tidak pasti, umumnya digunakan angka 0.7."
      ],
      "id": "79ee2ff5-f2a5-4ab1-b286-5bcca623bb2b"
    },
    {
      "cell_type": "code",
      "execution_count": null,
      "metadata": {
        "colab": {
          "base_uri": "https://localhost:8080/"
        },
        "id": "c0dc104b-10be-425f-a192-7ed77ef73805",
        "outputId": "0f663aef-bdfd-4dcc-b876-d0d971bad295"
      },
      "outputs": [
        {
          "output_type": "stream",
          "name": "stderr",
          "text": [
            "<ipython-input-43-b958f315e56a>:2: DeprecationWarning: `np.bool` is a deprecated alias for the builtin `bool`. To silence this warning, use `bool` by itself. Doing this will not modify any behavior and is safe. If you specifically wanted the numpy scalar type, use `np.bool_` here.\n",
            "Deprecated in NumPy 1.20; for more details and guidance: https://numpy.org/devdocs/release/1.20.0-notes.html#deprecations\n",
            "  upper = corr_matrix.where(np.triu(np.ones(corr_matrix.shape), k=1).astype(np.bool))\n"
          ]
        }
      ],
      "source": [
        "corr_matrix = data.corr().abs()\n",
        "upper = corr_matrix.where(np.triu(np.ones(corr_matrix.shape), k=1).astype(np.bool))\n",
        "to_drop_hicorr = [column for column in upper.columns if any(upper[column] > 0.7)]"
      ],
      "id": "c0dc104b-10be-425f-a192-7ed77ef73805"
    },
    {
      "cell_type": "code",
      "execution_count": null,
      "metadata": {
        "colab": {
          "base_uri": "https://localhost:8080/"
        },
        "id": "e113849b-e0fb-4b08-8d26-68d5436d2480",
        "outputId": "7194ad1e-0ccd-4263-b899-f2ebef499da3"
      },
      "outputs": [
        {
          "output_type": "execute_result",
          "data": {
            "text/plain": [
              "['funded_amnt',\n",
              " 'funded_amnt_inv',\n",
              " 'installment',\n",
              " 'out_prncp_inv',\n",
              " 'total_pymnt',\n",
              " 'total_pymnt_inv',\n",
              " 'total_rec_prncp',\n",
              " 'total_rec_int',\n",
              " 'collection_recovery_fee',\n",
              " 'last_pymnt_amnt',\n",
              " 'mths_since_last_major_derog',\n",
              " 'total_rev_hi_lim',\n",
              " 'mths_since_last_pymnt_d',\n",
              " 'mths_since_next_pymnt_d',\n",
              " 'mths_since_last_credit_pull_d']"
            ]
          },
          "metadata": {},
          "execution_count": 44
        }
      ],
      "source": [
        "to_drop_hicorr"
      ],
      "id": "e113849b-e0fb-4b08-8d26-68d5436d2480"
    },
    {
      "cell_type": "code",
      "execution_count": null,
      "metadata": {
        "id": "b150ab38-812e-468b-aa67-99d39a9a3fbb"
      },
      "outputs": [],
      "source": [
        "data.drop(to_drop_hicorr, axis=1, inplace=True)"
      ],
      "id": "b150ab38-812e-468b-aa67-99d39a9a3fbb"
    },
    {
      "cell_type": "markdown",
      "metadata": {
        "id": "6bb5b4b0-bab4-400d-b3ce-464273308583"
      },
      "source": [
        "### Check Categorical Features"
      ],
      "id": "6bb5b4b0-bab4-400d-b3ce-464273308583"
    },
    {
      "cell_type": "code",
      "execution_count": null,
      "metadata": {
        "colab": {
          "base_uri": "https://localhost:8080/"
        },
        "id": "1652040d-321a-46b2-890a-c1a44cb8417f",
        "outputId": "f254bd01-67a6-4c47-bfa8-8539f29f8397"
      },
      "outputs": [
        {
          "output_type": "execute_result",
          "data": {
            "text/plain": [
              "grade                       7\n",
              "emp_title              205475\n",
              "home_ownership              6\n",
              "verification_status         3\n",
              "pymnt_plan                  2\n",
              "purpose                    14\n",
              "title                   63099\n",
              "addr_state                 50\n",
              "initial_list_status         2\n",
              "application_type            1\n",
              "dtype: int64"
            ]
          },
          "metadata": {},
          "execution_count": 46
        }
      ],
      "source": [
        "data.select_dtypes(include='object').nunique()"
      ],
      "id": "1652040d-321a-46b2-890a-c1a44cb8417f"
    },
    {
      "cell_type": "markdown",
      "metadata": {
        "id": "6666c857-7105-4038-a02d-0e930aba210f"
      },
      "source": [
        "Pada tahap ini dilakukan pembuangan fitur yang memiliki nilai unik yang sangat tinggi (high cardinality) dan fitur yang hanya memiliki satu nilai unik saja."
      ],
      "id": "6666c857-7105-4038-a02d-0e930aba210f"
    },
    {
      "cell_type": "code",
      "execution_count": null,
      "metadata": {
        "id": "db7d858a-8b92-4f2b-bfb5-534161faeda0"
      },
      "outputs": [],
      "source": [
        "data.drop(['emp_title', 'title', 'application_type'], axis=1, inplace=True)"
      ],
      "id": "db7d858a-8b92-4f2b-bfb5-534161faeda0"
    },
    {
      "cell_type": "code",
      "execution_count": null,
      "metadata": {
        "colab": {
          "base_uri": "https://localhost:8080/"
        },
        "id": "c8d4b6e7-40d3-4558-9136-bf2ed6eba493",
        "outputId": "1e217710-5677-4903-a6e7-a88fad710630"
      },
      "outputs": [
        {
          "output_type": "execute_result",
          "data": {
            "text/plain": [
              "loan_amnt                        1352\n",
              "int_rate                          506\n",
              "annual_inc                      31901\n",
              "dti                              3997\n",
              "delinq_2yrs                        24\n",
              "inq_last_6mths                     28\n",
              "mths_since_last_delinq            145\n",
              "mths_since_last_record            123\n",
              "open_acc                           62\n",
              "pub_rec                            26\n",
              "revol_bal                       58142\n",
              "revol_util                       1269\n",
              "total_acc                         112\n",
              "out_prncp                      135665\n",
              "total_rec_late_fee               5808\n",
              "recoveries                      22773\n",
              "collections_12_mths_ex_med          9\n",
              "policy_code                         1\n",
              "acc_now_delinq                      6\n",
              "tot_coll_amt                     6321\n",
              "tot_cur_bal                    220690\n",
              "bad_flag                            2\n",
              "emp_length_int                     11\n",
              "term_int                            2\n",
              "mths_since_earliest_cr_line       515\n",
              "mths_since_issue_d                 91\n",
              "dtype: int64"
            ]
          },
          "metadata": {},
          "execution_count": 48
        }
      ],
      "source": [
        "data.select_dtypes(exclude='object').nunique()"
      ],
      "id": "c8d4b6e7-40d3-4558-9136-bf2ed6eba493"
    },
    {
      "cell_type": "markdown",
      "metadata": {
        "id": "ed85b594-0a47-4fb4-9f07-9e7a3a530709"
      },
      "source": [
        "Ternyata, pada tipe data selain `object` juga terdapat fitur yang hanya memiliki satu nilai unik saja, maka akan ikut dibuang juga."
      ],
      "id": "ed85b594-0a47-4fb4-9f07-9e7a3a530709"
    },
    {
      "cell_type": "code",
      "execution_count": null,
      "metadata": {
        "id": "0554d26d-dec2-40fd-8eae-b58ecc295a20"
      },
      "outputs": [],
      "source": [
        "data.drop(['policy_code'], axis=1, inplace=True)"
      ],
      "id": "0554d26d-dec2-40fd-8eae-b58ecc295a20"
    },
    {
      "cell_type": "code",
      "execution_count": null,
      "metadata": {
        "colab": {
          "base_uri": "https://localhost:8080/"
        },
        "id": "dcb23327-e01d-49e2-99ed-8ddf1a59b554",
        "outputId": "1b82ae54-3230-41a7-c73d-9e9cbf9b49dd"
      },
      "outputs": [
        {
          "output_type": "stream",
          "name": "stdout",
          "text": [
            "B    29.365946\n",
            "C    26.870476\n",
            "D    16.489486\n",
            "A    16.056060\n",
            "E     7.668486\n",
            "F     2.837106\n",
            "G     0.712440\n",
            "Name: grade, dtype: float64\n",
            "\n",
            "\n",
            "MORTGAGE    50.586015\n",
            "RENT        40.420129\n",
            "OWN          8.943886\n",
            "OTHER        0.039032\n",
            "NONE         0.010723\n",
            "ANY          0.000214\n",
            "Name: home_ownership, dtype: float64\n",
            "\n",
            "\n",
            "Verified           36.041262\n",
            "Source Verified    32.167666\n",
            "Not Verified       31.791072\n",
            "Name: verification_status, dtype: float64\n",
            "\n",
            "\n",
            "n    99.99807\n",
            "y     0.00193\n",
            "Name: pymnt_plan, dtype: float64\n",
            "\n",
            "\n",
            "debt_consolidation    58.804165\n",
            "credit_card           22.337626\n",
            "home_improvement       5.691155\n",
            "other                  5.080584\n",
            "major_purchase         2.107724\n",
            "small_business         1.504016\n",
            "car                    1.157447\n",
            "medical                0.986950\n",
            "moving                 0.642097\n",
            "vacation               0.533365\n",
            "wedding                0.502482\n",
            "house                  0.486612\n",
            "educational            0.090503\n",
            "renewable_energy       0.075276\n",
            "Name: purpose, dtype: float64\n",
            "\n",
            "\n",
            "CA    15.323247\n",
            "NY     8.630344\n",
            "TX     7.814748\n",
            "FL     6.784906\n",
            "IL     3.991550\n",
            "NJ     3.873382\n",
            "PA     3.522309\n",
            "OH     3.267744\n",
            "GA     3.211555\n",
            "VA     3.050066\n",
            "NC     2.719796\n",
            "MI     2.476811\n",
            "MA     2.374513\n",
            "MD     2.353496\n",
            "AZ     2.297307\n",
            "WA     2.255488\n",
            "CO     2.088637\n",
            "MN     1.749574\n",
            "MO     1.610174\n",
            "CT     1.544978\n",
            "IN     1.399359\n",
            "NV     1.398072\n",
            "TN     1.283335\n",
            "OR     1.275829\n",
            "WI     1.267680\n",
            "AL     1.255241\n",
            "SC     1.197336\n",
            "LA     1.177177\n",
            "KY     0.951778\n",
            "KS     0.898592\n",
            "OK     0.882936\n",
            "AR     0.748040\n",
            "UT     0.735173\n",
            "NM     0.555025\n",
            "HI     0.533365\n",
            "WV     0.517280\n",
            "NH     0.478677\n",
            "RI     0.439645\n",
            "DC     0.305822\n",
            "MT     0.299388\n",
            "DE     0.272795\n",
            "AK     0.268291\n",
            "MS     0.262929\n",
            "WY     0.241912\n",
            "SD     0.210172\n",
            "VT     0.194087\n",
            "IA     0.003002\n",
            "NE     0.003002\n",
            "ID     0.002574\n",
            "ME     0.000858\n",
            "Name: addr_state, dtype: float64\n",
            "\n",
            "\n",
            "f    64.982789\n",
            "w    35.017211\n",
            "Name: initial_list_status, dtype: float64\n",
            "\n",
            "\n"
          ]
        }
      ],
      "source": [
        "for col in data.select_dtypes(include='object').columns.tolist():\n",
        "    print(data[col].value_counts(normalize=True)*100)\n",
        "    print('\\n')"
      ],
      "id": "dcb23327-e01d-49e2-99ed-8ddf1a59b554"
    },
    {
      "cell_type": "markdown",
      "metadata": {
        "id": "69075c25-4d3e-486a-9120-b453a67e6894"
      },
      "source": [
        "Fitur yang sangat didominasi oleh salah satu nilai saja akan dibuang pada tahap ini."
      ],
      "id": "69075c25-4d3e-486a-9120-b453a67e6894"
    },
    {
      "cell_type": "code",
      "execution_count": null,
      "metadata": {
        "id": "d01b0ed0-2223-4cd6-a7d4-b4ad40373c31"
      },
      "outputs": [],
      "source": [
        "data.drop('pymnt_plan', axis=1, inplace=True)"
      ],
      "id": "d01b0ed0-2223-4cd6-a7d4-b4ad40373c31"
    },
    {
      "cell_type": "markdown",
      "metadata": {
        "id": "8483ce96-e8bc-4dd4-b247-d58b1d269442"
      },
      "source": [
        "# MISSING VALUES"
      ],
      "id": "8483ce96-e8bc-4dd4-b247-d58b1d269442"
    },
    {
      "cell_type": "markdown",
      "metadata": {
        "id": "1101903e-08e6-4d64-8b5e-89977b5b9131"
      },
      "source": [
        "### Missing Value Checking"
      ],
      "id": "1101903e-08e6-4d64-8b5e-89977b5b9131"
    },
    {
      "cell_type": "code",
      "execution_count": null,
      "metadata": {
        "colab": {
          "base_uri": "https://localhost:8080/"
        },
        "id": "5cdcfdbc-4b86-4660-8cab-a6af9c28c972",
        "outputId": "6749354d-7966-4c39-8a8e-41d4965a5d1c"
      },
      "outputs": [
        {
          "output_type": "execute_result",
          "data": {
            "text/plain": [
              "mths_since_last_record         86.566585\n",
              "mths_since_last_delinq         53.690554\n",
              "tot_coll_amt                   15.071469\n",
              "tot_cur_bal                    15.071469\n",
              "emp_length_int                  4.505399\n",
              "revol_util                      0.072917\n",
              "collections_12_mths_ex_med      0.031097\n",
              "delinq_2yrs                     0.006219\n",
              "inq_last_6mths                  0.006219\n",
              "open_acc                        0.006219\n",
              "pub_rec                         0.006219\n",
              "total_acc                       0.006219\n",
              "acc_now_delinq                  0.006219\n",
              "mths_since_earliest_cr_line     0.006219\n",
              "annual_inc                      0.000858\n",
              "dtype: float64"
            ]
          },
          "metadata": {},
          "execution_count": 52
        }
      ],
      "source": [
        "check_missing = data.isnull().sum() * 100 / data.shape[0]\n",
        "check_missing[check_missing > 0].sort_values(ascending=False)"
      ],
      "id": "5cdcfdbc-4b86-4660-8cab-a6af9c28c972"
    },
    {
      "cell_type": "markdown",
      "metadata": {
        "id": "0ad9003e-ebbe-4fba-8d14-ab076156679f"
      },
      "source": [
        "Di sini, kolom-kolom dengan missing values di atas 75% dibuang"
      ],
      "id": "0ad9003e-ebbe-4fba-8d14-ab076156679f"
    },
    {
      "cell_type": "code",
      "execution_count": null,
      "metadata": {
        "id": "c90de401-3c8f-4e30-8d44-1c9454f28fbd"
      },
      "outputs": [],
      "source": [
        "data.drop('mths_since_last_record', axis=1, inplace=True)"
      ],
      "id": "c90de401-3c8f-4e30-8d44-1c9454f28fbd"
    },
    {
      "cell_type": "markdown",
      "metadata": {
        "id": "517f9f50-a6a9-4256-bed5-9c7257cb7d7c"
      },
      "source": [
        "### Missing Values Filling"
      ],
      "id": "517f9f50-a6a9-4256-bed5-9c7257cb7d7c"
    },
    {
      "cell_type": "code",
      "execution_count": null,
      "metadata": {
        "id": "54d0a97a-751e-47a6-82dc-30d69f84c542"
      },
      "outputs": [],
      "source": [
        "data['annual_inc'].fillna(data['annual_inc'].mean(), inplace=True)\n",
        "data['mths_since_earliest_cr_line'].fillna(0, inplace=True)\n",
        "data['acc_now_delinq'].fillna(0, inplace=True)\n",
        "data['total_acc'].fillna(0, inplace=True)\n",
        "data['pub_rec'].fillna(0, inplace=True)\n",
        "data['open_acc'].fillna(0, inplace=True)\n",
        "data['inq_last_6mths'].fillna(0, inplace=True)\n",
        "data['delinq_2yrs'].fillna(0, inplace=True)\n",
        "data['collections_12_mths_ex_med'].fillna(0, inplace=True)\n",
        "data['revol_util'].fillna(0, inplace=True)\n",
        "data['emp_length_int'].fillna(0, inplace=True)\n",
        "data['tot_cur_bal'].fillna(0, inplace=True)\n",
        "data['tot_coll_amt'].fillna(0, inplace=True)\n",
        "data['mths_since_last_delinq'].fillna(-1, inplace=True)"
      ],
      "id": "54d0a97a-751e-47a6-82dc-30d69f84c542"
    },
    {
      "cell_type": "markdown",
      "metadata": {
        "id": "c28ecfd6-bfd0-4d45-b34e-42317e867501"
      },
      "source": [
        "# FEATURE SCALING AND TRANSFORMATION"
      ],
      "id": "c28ecfd6-bfd0-4d45-b34e-42317e867501"
    },
    {
      "cell_type": "markdown",
      "metadata": {
        "id": "ab3c322d-1522-4a5c-9dcf-c1a886b39682"
      },
      "source": [
        "### One Hot Encoding"
      ],
      "id": "ab3c322d-1522-4a5c-9dcf-c1a886b39682"
    },
    {
      "cell_type": "markdown",
      "metadata": {
        "id": "991d3330-8cca-499e-9954-1c808d3b2f34"
      },
      "source": [
        "Semua kolom kategorikal dilakukan One Hot Encoding."
      ],
      "id": "991d3330-8cca-499e-9954-1c808d3b2f34"
    },
    {
      "cell_type": "code",
      "execution_count": null,
      "metadata": {
        "id": "bb2303a2-31ef-43ab-b56e-768549a03cc3"
      },
      "outputs": [],
      "source": [
        "categorical_cols = [col for col in data.select_dtypes(include='object').columns.tolist()]"
      ],
      "id": "bb2303a2-31ef-43ab-b56e-768549a03cc3"
    },
    {
      "cell_type": "code",
      "execution_count": null,
      "metadata": {
        "id": "cfa85b8b-37e4-4340-bac5-195823e6e826"
      },
      "outputs": [],
      "source": [
        "onehot = pd.get_dummies(data[categorical_cols], drop_first=True)"
      ],
      "id": "cfa85b8b-37e4-4340-bac5-195823e6e826"
    },
    {
      "cell_type": "code",
      "execution_count": null,
      "metadata": {
        "colab": {
          "base_uri": "https://localhost:8080/"
        },
        "id": "1b03ef73-68fa-4cf1-a818-30c351da5371",
        "outputId": "2dbe2218-181a-480f-c2ac-fe55d7507e79"
      },
      "outputs": [
        {
          "output_type": "execute_result",
          "data": {
            "text/plain": [
              "   grade_B  grade_C  grade_D  grade_E  grade_F  grade_G  \\\n",
              "0        1        0        0        0        0        0   \n",
              "1        0        1        0        0        0        0   \n",
              "2        0        1        0        0        0        0   \n",
              "3        0        1        0        0        0        0   \n",
              "4        1        0        0        0        0        0   \n",
              "\n",
              "   home_ownership_MORTGAGE  home_ownership_NONE  home_ownership_OTHER  \\\n",
              "0                        0                    0                     0   \n",
              "1                        0                    0                     0   \n",
              "2                        0                    0                     0   \n",
              "3                        0                    0                     0   \n",
              "4                        0                    0                     0   \n",
              "\n",
              "   home_ownership_OWN  home_ownership_RENT  \\\n",
              "0                   0                    1   \n",
              "1                   0                    1   \n",
              "2                   0                    1   \n",
              "3                   0                    1   \n",
              "4                   0                    1   \n",
              "\n",
              "   verification_status_Source Verified  verification_status_Verified  \\\n",
              "0                                    0                             1   \n",
              "1                                    1                             0   \n",
              "2                                    0                             0   \n",
              "3                                    1                             0   \n",
              "4                                    1                             0   \n",
              "\n",
              "   purpose_credit_card  purpose_debt_consolidation  purpose_educational  \\\n",
              "0                    1                           0                    0   \n",
              "1                    0                           0                    0   \n",
              "2                    0                           0                    0   \n",
              "3                    0                           0                    0   \n",
              "4                    0                           0                    0   \n",
              "\n",
              "   purpose_home_improvement  purpose_house  purpose_major_purchase  \\\n",
              "0                         0              0                       0   \n",
              "1                         0              0                       0   \n",
              "2                         0              0                       0   \n",
              "3                         0              0                       0   \n",
              "4                         0              0                       0   \n",
              "\n",
              "   purpose_medical  purpose_moving  purpose_other  purpose_renewable_energy  \\\n",
              "0                0               0              0                         0   \n",
              "1                0               0              0                         0   \n",
              "2                0               0              0                         0   \n",
              "3                0               0              1                         0   \n",
              "4                0               0              1                         0   \n",
              "\n",
              "   purpose_small_business  purpose_vacation  purpose_wedding  addr_state_AL  \\\n",
              "0                       0                 0                0              0   \n",
              "1                       0                 0                0              0   \n",
              "2                       1                 0                0              0   \n",
              "3                       0                 0                0              0   \n",
              "4                       0                 0                0              0   \n",
              "\n",
              "   addr_state_AR  addr_state_AZ  addr_state_CA  addr_state_CO  addr_state_CT  \\\n",
              "0              0              1              0              0              0   \n",
              "1              0              0              0              0              0   \n",
              "2              0              0              0              0              0   \n",
              "3              0              0              1              0              0   \n",
              "4              0              0              0              0              0   \n",
              "\n",
              "   addr_state_DC  addr_state_DE  addr_state_FL  addr_state_GA  addr_state_HI  \\\n",
              "0              0              0              0              0              0   \n",
              "1              0              0              0              1              0   \n",
              "2              0              0              0              0              0   \n",
              "3              0              0              0              0              0   \n",
              "4              0              0              0              0              0   \n",
              "\n",
              "   addr_state_IA  addr_state_ID  addr_state_IL  addr_state_IN  addr_state_KS  \\\n",
              "0              0              0              0              0              0   \n",
              "1              0              0              0              0              0   \n",
              "2              0              0              1              0              0   \n",
              "3              0              0              0              0              0   \n",
              "4              0              0              0              0              0   \n",
              "\n",
              "   addr_state_KY  addr_state_LA  addr_state_MA  addr_state_MD  addr_state_ME  \\\n",
              "0              0              0              0              0              0   \n",
              "1              0              0              0              0              0   \n",
              "2              0              0              0              0              0   \n",
              "3              0              0              0              0              0   \n",
              "4              0              0              0              0              0   \n",
              "\n",
              "   addr_state_MI  addr_state_MN  addr_state_MO  addr_state_MS  addr_state_MT  \\\n",
              "0              0              0              0              0              0   \n",
              "1              0              0              0              0              0   \n",
              "2              0              0              0              0              0   \n",
              "3              0              0              0              0              0   \n",
              "4              0              0              0              0              0   \n",
              "\n",
              "   addr_state_NC  addr_state_NE  addr_state_NH  addr_state_NJ  addr_state_NM  \\\n",
              "0              0              0              0              0              0   \n",
              "1              0              0              0              0              0   \n",
              "2              0              0              0              0              0   \n",
              "3              0              0              0              0              0   \n",
              "4              0              0              0              0              0   \n",
              "\n",
              "   addr_state_NV  addr_state_NY  addr_state_OH  addr_state_OK  addr_state_OR  \\\n",
              "0              0              0              0              0              0   \n",
              "1              0              0              0              0              0   \n",
              "2              0              0              0              0              0   \n",
              "3              0              0              0              0              0   \n",
              "4              0              0              0              0              1   \n",
              "\n",
              "   addr_state_PA  addr_state_RI  addr_state_SC  addr_state_SD  addr_state_TN  \\\n",
              "0              0              0              0              0              0   \n",
              "1              0              0              0              0              0   \n",
              "2              0              0              0              0              0   \n",
              "3              0              0              0              0              0   \n",
              "4              0              0              0              0              0   \n",
              "\n",
              "   addr_state_TX  addr_state_UT  addr_state_VA  addr_state_VT  addr_state_WA  \\\n",
              "0              0              0              0              0              0   \n",
              "1              0              0              0              0              0   \n",
              "2              0              0              0              0              0   \n",
              "3              0              0              0              0              0   \n",
              "4              0              0              0              0              0   \n",
              "\n",
              "   addr_state_WI  addr_state_WV  addr_state_WY  initial_list_status_w  \n",
              "0              0              0              0                      0  \n",
              "1              0              0              0                      0  \n",
              "2              0              0              0                      0  \n",
              "3              0              0              0                      0  \n",
              "4              0              0              0                      0  "
            ],
            "text/html": [
              "\n",
              "  <div id=\"df-4fbc2c58-f53b-4391-b5e1-2cbb3fbd9fdb\">\n",
              "    <div class=\"colab-df-container\">\n",
              "      <div>\n",
              "<style scoped>\n",
              "    .dataframe tbody tr th:only-of-type {\n",
              "        vertical-align: middle;\n",
              "    }\n",
              "\n",
              "    .dataframe tbody tr th {\n",
              "        vertical-align: top;\n",
              "    }\n",
              "\n",
              "    .dataframe thead th {\n",
              "        text-align: right;\n",
              "    }\n",
              "</style>\n",
              "<table border=\"1\" class=\"dataframe\">\n",
              "  <thead>\n",
              "    <tr style=\"text-align: right;\">\n",
              "      <th></th>\n",
              "      <th>grade_B</th>\n",
              "      <th>grade_C</th>\n",
              "      <th>grade_D</th>\n",
              "      <th>grade_E</th>\n",
              "      <th>grade_F</th>\n",
              "      <th>grade_G</th>\n",
              "      <th>home_ownership_MORTGAGE</th>\n",
              "      <th>home_ownership_NONE</th>\n",
              "      <th>home_ownership_OTHER</th>\n",
              "      <th>home_ownership_OWN</th>\n",
              "      <th>home_ownership_RENT</th>\n",
              "      <th>verification_status_Source Verified</th>\n",
              "      <th>verification_status_Verified</th>\n",
              "      <th>purpose_credit_card</th>\n",
              "      <th>purpose_debt_consolidation</th>\n",
              "      <th>purpose_educational</th>\n",
              "      <th>purpose_home_improvement</th>\n",
              "      <th>purpose_house</th>\n",
              "      <th>purpose_major_purchase</th>\n",
              "      <th>purpose_medical</th>\n",
              "      <th>purpose_moving</th>\n",
              "      <th>purpose_other</th>\n",
              "      <th>purpose_renewable_energy</th>\n",
              "      <th>purpose_small_business</th>\n",
              "      <th>purpose_vacation</th>\n",
              "      <th>purpose_wedding</th>\n",
              "      <th>addr_state_AL</th>\n",
              "      <th>addr_state_AR</th>\n",
              "      <th>addr_state_AZ</th>\n",
              "      <th>addr_state_CA</th>\n",
              "      <th>addr_state_CO</th>\n",
              "      <th>addr_state_CT</th>\n",
              "      <th>addr_state_DC</th>\n",
              "      <th>addr_state_DE</th>\n",
              "      <th>addr_state_FL</th>\n",
              "      <th>addr_state_GA</th>\n",
              "      <th>addr_state_HI</th>\n",
              "      <th>addr_state_IA</th>\n",
              "      <th>addr_state_ID</th>\n",
              "      <th>addr_state_IL</th>\n",
              "      <th>addr_state_IN</th>\n",
              "      <th>addr_state_KS</th>\n",
              "      <th>addr_state_KY</th>\n",
              "      <th>addr_state_LA</th>\n",
              "      <th>addr_state_MA</th>\n",
              "      <th>addr_state_MD</th>\n",
              "      <th>addr_state_ME</th>\n",
              "      <th>addr_state_MI</th>\n",
              "      <th>addr_state_MN</th>\n",
              "      <th>addr_state_MO</th>\n",
              "      <th>addr_state_MS</th>\n",
              "      <th>addr_state_MT</th>\n",
              "      <th>addr_state_NC</th>\n",
              "      <th>addr_state_NE</th>\n",
              "      <th>addr_state_NH</th>\n",
              "      <th>addr_state_NJ</th>\n",
              "      <th>addr_state_NM</th>\n",
              "      <th>addr_state_NV</th>\n",
              "      <th>addr_state_NY</th>\n",
              "      <th>addr_state_OH</th>\n",
              "      <th>addr_state_OK</th>\n",
              "      <th>addr_state_OR</th>\n",
              "      <th>addr_state_PA</th>\n",
              "      <th>addr_state_RI</th>\n",
              "      <th>addr_state_SC</th>\n",
              "      <th>addr_state_SD</th>\n",
              "      <th>addr_state_TN</th>\n",
              "      <th>addr_state_TX</th>\n",
              "      <th>addr_state_UT</th>\n",
              "      <th>addr_state_VA</th>\n",
              "      <th>addr_state_VT</th>\n",
              "      <th>addr_state_WA</th>\n",
              "      <th>addr_state_WI</th>\n",
              "      <th>addr_state_WV</th>\n",
              "      <th>addr_state_WY</th>\n",
              "      <th>initial_list_status_w</th>\n",
              "    </tr>\n",
              "  </thead>\n",
              "  <tbody>\n",
              "    <tr>\n",
              "      <th>0</th>\n",
              "      <td>1</td>\n",
              "      <td>0</td>\n",
              "      <td>0</td>\n",
              "      <td>0</td>\n",
              "      <td>0</td>\n",
              "      <td>0</td>\n",
              "      <td>0</td>\n",
              "      <td>0</td>\n",
              "      <td>0</td>\n",
              "      <td>0</td>\n",
              "      <td>1</td>\n",
              "      <td>0</td>\n",
              "      <td>1</td>\n",
              "      <td>1</td>\n",
              "      <td>0</td>\n",
              "      <td>0</td>\n",
              "      <td>0</td>\n",
              "      <td>0</td>\n",
              "      <td>0</td>\n",
              "      <td>0</td>\n",
              "      <td>0</td>\n",
              "      <td>0</td>\n",
              "      <td>0</td>\n",
              "      <td>0</td>\n",
              "      <td>0</td>\n",
              "      <td>0</td>\n",
              "      <td>0</td>\n",
              "      <td>0</td>\n",
              "      <td>1</td>\n",
              "      <td>0</td>\n",
              "      <td>0</td>\n",
              "      <td>0</td>\n",
              "      <td>0</td>\n",
              "      <td>0</td>\n",
              "      <td>0</td>\n",
              "      <td>0</td>\n",
              "      <td>0</td>\n",
              "      <td>0</td>\n",
              "      <td>0</td>\n",
              "      <td>0</td>\n",
              "      <td>0</td>\n",
              "      <td>0</td>\n",
              "      <td>0</td>\n",
              "      <td>0</td>\n",
              "      <td>0</td>\n",
              "      <td>0</td>\n",
              "      <td>0</td>\n",
              "      <td>0</td>\n",
              "      <td>0</td>\n",
              "      <td>0</td>\n",
              "      <td>0</td>\n",
              "      <td>0</td>\n",
              "      <td>0</td>\n",
              "      <td>0</td>\n",
              "      <td>0</td>\n",
              "      <td>0</td>\n",
              "      <td>0</td>\n",
              "      <td>0</td>\n",
              "      <td>0</td>\n",
              "      <td>0</td>\n",
              "      <td>0</td>\n",
              "      <td>0</td>\n",
              "      <td>0</td>\n",
              "      <td>0</td>\n",
              "      <td>0</td>\n",
              "      <td>0</td>\n",
              "      <td>0</td>\n",
              "      <td>0</td>\n",
              "      <td>0</td>\n",
              "      <td>0</td>\n",
              "      <td>0</td>\n",
              "      <td>0</td>\n",
              "      <td>0</td>\n",
              "      <td>0</td>\n",
              "      <td>0</td>\n",
              "      <td>0</td>\n",
              "    </tr>\n",
              "    <tr>\n",
              "      <th>1</th>\n",
              "      <td>0</td>\n",
              "      <td>1</td>\n",
              "      <td>0</td>\n",
              "      <td>0</td>\n",
              "      <td>0</td>\n",
              "      <td>0</td>\n",
              "      <td>0</td>\n",
              "      <td>0</td>\n",
              "      <td>0</td>\n",
              "      <td>0</td>\n",
              "      <td>1</td>\n",
              "      <td>1</td>\n",
              "      <td>0</td>\n",
              "      <td>0</td>\n",
              "      <td>0</td>\n",
              "      <td>0</td>\n",
              "      <td>0</td>\n",
              "      <td>0</td>\n",
              "      <td>0</td>\n",
              "      <td>0</td>\n",
              "      <td>0</td>\n",
              "      <td>0</td>\n",
              "      <td>0</td>\n",
              "      <td>0</td>\n",
              "      <td>0</td>\n",
              "      <td>0</td>\n",
              "      <td>0</td>\n",
              "      <td>0</td>\n",
              "      <td>0</td>\n",
              "      <td>0</td>\n",
              "      <td>0</td>\n",
              "      <td>0</td>\n",
              "      <td>0</td>\n",
              "      <td>0</td>\n",
              "      <td>0</td>\n",
              "      <td>1</td>\n",
              "      <td>0</td>\n",
              "      <td>0</td>\n",
              "      <td>0</td>\n",
              "      <td>0</td>\n",
              "      <td>0</td>\n",
              "      <td>0</td>\n",
              "      <td>0</td>\n",
              "      <td>0</td>\n",
              "      <td>0</td>\n",
              "      <td>0</td>\n",
              "      <td>0</td>\n",
              "      <td>0</td>\n",
              "      <td>0</td>\n",
              "      <td>0</td>\n",
              "      <td>0</td>\n",
              "      <td>0</td>\n",
              "      <td>0</td>\n",
              "      <td>0</td>\n",
              "      <td>0</td>\n",
              "      <td>0</td>\n",
              "      <td>0</td>\n",
              "      <td>0</td>\n",
              "      <td>0</td>\n",
              "      <td>0</td>\n",
              "      <td>0</td>\n",
              "      <td>0</td>\n",
              "      <td>0</td>\n",
              "      <td>0</td>\n",
              "      <td>0</td>\n",
              "      <td>0</td>\n",
              "      <td>0</td>\n",
              "      <td>0</td>\n",
              "      <td>0</td>\n",
              "      <td>0</td>\n",
              "      <td>0</td>\n",
              "      <td>0</td>\n",
              "      <td>0</td>\n",
              "      <td>0</td>\n",
              "      <td>0</td>\n",
              "      <td>0</td>\n",
              "    </tr>\n",
              "    <tr>\n",
              "      <th>2</th>\n",
              "      <td>0</td>\n",
              "      <td>1</td>\n",
              "      <td>0</td>\n",
              "      <td>0</td>\n",
              "      <td>0</td>\n",
              "      <td>0</td>\n",
              "      <td>0</td>\n",
              "      <td>0</td>\n",
              "      <td>0</td>\n",
              "      <td>0</td>\n",
              "      <td>1</td>\n",
              "      <td>0</td>\n",
              "      <td>0</td>\n",
              "      <td>0</td>\n",
              "      <td>0</td>\n",
              "      <td>0</td>\n",
              "      <td>0</td>\n",
              "      <td>0</td>\n",
              "      <td>0</td>\n",
              "      <td>0</td>\n",
              "      <td>0</td>\n",
              "      <td>0</td>\n",
              "      <td>0</td>\n",
              "      <td>1</td>\n",
              "      <td>0</td>\n",
              "      <td>0</td>\n",
              "      <td>0</td>\n",
              "      <td>0</td>\n",
              "      <td>0</td>\n",
              "      <td>0</td>\n",
              "      <td>0</td>\n",
              "      <td>0</td>\n",
              "      <td>0</td>\n",
              "      <td>0</td>\n",
              "      <td>0</td>\n",
              "      <td>0</td>\n",
              "      <td>0</td>\n",
              "      <td>0</td>\n",
              "      <td>0</td>\n",
              "      <td>1</td>\n",
              "      <td>0</td>\n",
              "      <td>0</td>\n",
              "      <td>0</td>\n",
              "      <td>0</td>\n",
              "      <td>0</td>\n",
              "      <td>0</td>\n",
              "      <td>0</td>\n",
              "      <td>0</td>\n",
              "      <td>0</td>\n",
              "      <td>0</td>\n",
              "      <td>0</td>\n",
              "      <td>0</td>\n",
              "      <td>0</td>\n",
              "      <td>0</td>\n",
              "      <td>0</td>\n",
              "      <td>0</td>\n",
              "      <td>0</td>\n",
              "      <td>0</td>\n",
              "      <td>0</td>\n",
              "      <td>0</td>\n",
              "      <td>0</td>\n",
              "      <td>0</td>\n",
              "      <td>0</td>\n",
              "      <td>0</td>\n",
              "      <td>0</td>\n",
              "      <td>0</td>\n",
              "      <td>0</td>\n",
              "      <td>0</td>\n",
              "      <td>0</td>\n",
              "      <td>0</td>\n",
              "      <td>0</td>\n",
              "      <td>0</td>\n",
              "      <td>0</td>\n",
              "      <td>0</td>\n",
              "      <td>0</td>\n",
              "      <td>0</td>\n",
              "    </tr>\n",
              "    <tr>\n",
              "      <th>3</th>\n",
              "      <td>0</td>\n",
              "      <td>1</td>\n",
              "      <td>0</td>\n",
              "      <td>0</td>\n",
              "      <td>0</td>\n",
              "      <td>0</td>\n",
              "      <td>0</td>\n",
              "      <td>0</td>\n",
              "      <td>0</td>\n",
              "      <td>0</td>\n",
              "      <td>1</td>\n",
              "      <td>1</td>\n",
              "      <td>0</td>\n",
              "      <td>0</td>\n",
              "      <td>0</td>\n",
              "      <td>0</td>\n",
              "      <td>0</td>\n",
              "      <td>0</td>\n",
              "      <td>0</td>\n",
              "      <td>0</td>\n",
              "      <td>0</td>\n",
              "      <td>1</td>\n",
              "      <td>0</td>\n",
              "      <td>0</td>\n",
              "      <td>0</td>\n",
              "      <td>0</td>\n",
              "      <td>0</td>\n",
              "      <td>0</td>\n",
              "      <td>0</td>\n",
              "      <td>1</td>\n",
              "      <td>0</td>\n",
              "      <td>0</td>\n",
              "      <td>0</td>\n",
              "      <td>0</td>\n",
              "      <td>0</td>\n",
              "      <td>0</td>\n",
              "      <td>0</td>\n",
              "      <td>0</td>\n",
              "      <td>0</td>\n",
              "      <td>0</td>\n",
              "      <td>0</td>\n",
              "      <td>0</td>\n",
              "      <td>0</td>\n",
              "      <td>0</td>\n",
              "      <td>0</td>\n",
              "      <td>0</td>\n",
              "      <td>0</td>\n",
              "      <td>0</td>\n",
              "      <td>0</td>\n",
              "      <td>0</td>\n",
              "      <td>0</td>\n",
              "      <td>0</td>\n",
              "      <td>0</td>\n",
              "      <td>0</td>\n",
              "      <td>0</td>\n",
              "      <td>0</td>\n",
              "      <td>0</td>\n",
              "      <td>0</td>\n",
              "      <td>0</td>\n",
              "      <td>0</td>\n",
              "      <td>0</td>\n",
              "      <td>0</td>\n",
              "      <td>0</td>\n",
              "      <td>0</td>\n",
              "      <td>0</td>\n",
              "      <td>0</td>\n",
              "      <td>0</td>\n",
              "      <td>0</td>\n",
              "      <td>0</td>\n",
              "      <td>0</td>\n",
              "      <td>0</td>\n",
              "      <td>0</td>\n",
              "      <td>0</td>\n",
              "      <td>0</td>\n",
              "      <td>0</td>\n",
              "      <td>0</td>\n",
              "    </tr>\n",
              "    <tr>\n",
              "      <th>4</th>\n",
              "      <td>1</td>\n",
              "      <td>0</td>\n",
              "      <td>0</td>\n",
              "      <td>0</td>\n",
              "      <td>0</td>\n",
              "      <td>0</td>\n",
              "      <td>0</td>\n",
              "      <td>0</td>\n",
              "      <td>0</td>\n",
              "      <td>0</td>\n",
              "      <td>1</td>\n",
              "      <td>1</td>\n",
              "      <td>0</td>\n",
              "      <td>0</td>\n",
              "      <td>0</td>\n",
              "      <td>0</td>\n",
              "      <td>0</td>\n",
              "      <td>0</td>\n",
              "      <td>0</td>\n",
              "      <td>0</td>\n",
              "      <td>0</td>\n",
              "      <td>1</td>\n",
              "      <td>0</td>\n",
              "      <td>0</td>\n",
              "      <td>0</td>\n",
              "      <td>0</td>\n",
              "      <td>0</td>\n",
              "      <td>0</td>\n",
              "      <td>0</td>\n",
              "      <td>0</td>\n",
              "      <td>0</td>\n",
              "      <td>0</td>\n",
              "      <td>0</td>\n",
              "      <td>0</td>\n",
              "      <td>0</td>\n",
              "      <td>0</td>\n",
              "      <td>0</td>\n",
              "      <td>0</td>\n",
              "      <td>0</td>\n",
              "      <td>0</td>\n",
              "      <td>0</td>\n",
              "      <td>0</td>\n",
              "      <td>0</td>\n",
              "      <td>0</td>\n",
              "      <td>0</td>\n",
              "      <td>0</td>\n",
              "      <td>0</td>\n",
              "      <td>0</td>\n",
              "      <td>0</td>\n",
              "      <td>0</td>\n",
              "      <td>0</td>\n",
              "      <td>0</td>\n",
              "      <td>0</td>\n",
              "      <td>0</td>\n",
              "      <td>0</td>\n",
              "      <td>0</td>\n",
              "      <td>0</td>\n",
              "      <td>0</td>\n",
              "      <td>0</td>\n",
              "      <td>0</td>\n",
              "      <td>0</td>\n",
              "      <td>1</td>\n",
              "      <td>0</td>\n",
              "      <td>0</td>\n",
              "      <td>0</td>\n",
              "      <td>0</td>\n",
              "      <td>0</td>\n",
              "      <td>0</td>\n",
              "      <td>0</td>\n",
              "      <td>0</td>\n",
              "      <td>0</td>\n",
              "      <td>0</td>\n",
              "      <td>0</td>\n",
              "      <td>0</td>\n",
              "      <td>0</td>\n",
              "      <td>0</td>\n",
              "    </tr>\n",
              "  </tbody>\n",
              "</table>\n",
              "</div>\n",
              "      <button class=\"colab-df-convert\" onclick=\"convertToInteractive('df-4fbc2c58-f53b-4391-b5e1-2cbb3fbd9fdb')\"\n",
              "              title=\"Convert this dataframe to an interactive table.\"\n",
              "              style=\"display:none;\">\n",
              "        \n",
              "  <svg xmlns=\"http://www.w3.org/2000/svg\" height=\"24px\"viewBox=\"0 0 24 24\"\n",
              "       width=\"24px\">\n",
              "    <path d=\"M0 0h24v24H0V0z\" fill=\"none\"/>\n",
              "    <path d=\"M18.56 5.44l.94 2.06.94-2.06 2.06-.94-2.06-.94-.94-2.06-.94 2.06-2.06.94zm-11 1L8.5 8.5l.94-2.06 2.06-.94-2.06-.94L8.5 2.5l-.94 2.06-2.06.94zm10 10l.94 2.06.94-2.06 2.06-.94-2.06-.94-.94-2.06-.94 2.06-2.06.94z\"/><path d=\"M17.41 7.96l-1.37-1.37c-.4-.4-.92-.59-1.43-.59-.52 0-1.04.2-1.43.59L10.3 9.45l-7.72 7.72c-.78.78-.78 2.05 0 2.83L4 21.41c.39.39.9.59 1.41.59.51 0 1.02-.2 1.41-.59l7.78-7.78 2.81-2.81c.8-.78.8-2.07 0-2.86zM5.41 20L4 18.59l7.72-7.72 1.47 1.35L5.41 20z\"/>\n",
              "  </svg>\n",
              "      </button>\n",
              "      \n",
              "  <style>\n",
              "    .colab-df-container {\n",
              "      display:flex;\n",
              "      flex-wrap:wrap;\n",
              "      gap: 12px;\n",
              "    }\n",
              "\n",
              "    .colab-df-convert {\n",
              "      background-color: #E8F0FE;\n",
              "      border: none;\n",
              "      border-radius: 50%;\n",
              "      cursor: pointer;\n",
              "      display: none;\n",
              "      fill: #1967D2;\n",
              "      height: 32px;\n",
              "      padding: 0 0 0 0;\n",
              "      width: 32px;\n",
              "    }\n",
              "\n",
              "    .colab-df-convert:hover {\n",
              "      background-color: #E2EBFA;\n",
              "      box-shadow: 0px 1px 2px rgba(60, 64, 67, 0.3), 0px 1px 3px 1px rgba(60, 64, 67, 0.15);\n",
              "      fill: #174EA6;\n",
              "    }\n",
              "\n",
              "    [theme=dark] .colab-df-convert {\n",
              "      background-color: #3B4455;\n",
              "      fill: #D2E3FC;\n",
              "    }\n",
              "\n",
              "    [theme=dark] .colab-df-convert:hover {\n",
              "      background-color: #434B5C;\n",
              "      box-shadow: 0px 1px 3px 1px rgba(0, 0, 0, 0.15);\n",
              "      filter: drop-shadow(0px 1px 2px rgba(0, 0, 0, 0.3));\n",
              "      fill: #FFFFFF;\n",
              "    }\n",
              "  </style>\n",
              "\n",
              "      <script>\n",
              "        const buttonEl =\n",
              "          document.querySelector('#df-4fbc2c58-f53b-4391-b5e1-2cbb3fbd9fdb button.colab-df-convert');\n",
              "        buttonEl.style.display =\n",
              "          google.colab.kernel.accessAllowed ? 'block' : 'none';\n",
              "\n",
              "        async function convertToInteractive(key) {\n",
              "          const element = document.querySelector('#df-4fbc2c58-f53b-4391-b5e1-2cbb3fbd9fdb');\n",
              "          const dataTable =\n",
              "            await google.colab.kernel.invokeFunction('convertToInteractive',\n",
              "                                                     [key], {});\n",
              "          if (!dataTable) return;\n",
              "\n",
              "          const docLinkHtml = 'Like what you see? Visit the ' +\n",
              "            '<a target=\"_blank\" href=https://colab.research.google.com/notebooks/data_table.ipynb>data table notebook</a>'\n",
              "            + ' to learn more about interactive tables.';\n",
              "          element.innerHTML = '';\n",
              "          dataTable['output_type'] = 'display_data';\n",
              "          await google.colab.output.renderOutput(dataTable, element);\n",
              "          const docLink = document.createElement('div');\n",
              "          docLink.innerHTML = docLinkHtml;\n",
              "          element.appendChild(docLink);\n",
              "        }\n",
              "      </script>\n",
              "    </div>\n",
              "  </div>\n",
              "  "
            ]
          },
          "metadata": {},
          "execution_count": 57
        }
      ],
      "source": [
        "onehot.head()"
      ],
      "id": "1b03ef73-68fa-4cf1-a818-30c351da5371"
    },
    {
      "cell_type": "markdown",
      "metadata": {
        "id": "deb37d80-a83a-4256-837f-f3e4f66cc148"
      },
      "source": [
        "### Standardization"
      ],
      "id": "deb37d80-a83a-4256-837f-f3e4f66cc148"
    },
    {
      "cell_type": "markdown",
      "metadata": {
        "id": "6d32ab99-ff99-4984-91f2-2c8dba37ac47"
      },
      "source": [
        "Semua kolom numerikal dilakukan proses standarisasi dengan StandardScaler."
      ],
      "id": "6d32ab99-ff99-4984-91f2-2c8dba37ac47"
    },
    {
      "cell_type": "code",
      "execution_count": null,
      "metadata": {
        "id": "e46550bb-77e4-49dd-b995-4d3c8cd9bd00"
      },
      "outputs": [],
      "source": [
        "numerical_cols = [col for col in data.columns.tolist() if col not in categorical_cols + ['bad_flag']]"
      ],
      "id": "e46550bb-77e4-49dd-b995-4d3c8cd9bd00"
    },
    {
      "cell_type": "code",
      "execution_count": null,
      "metadata": {
        "id": "795b4222-6018-41c3-a655-f9fa130228c5"
      },
      "outputs": [],
      "source": [
        "from sklearn.preprocessing import StandardScaler\n",
        "\n",
        "ss = StandardScaler()\n",
        "std = pd.DataFrame(ss.fit_transform(data[numerical_cols]), columns=numerical_cols)"
      ],
      "id": "795b4222-6018-41c3-a655-f9fa130228c5"
    },
    {
      "cell_type": "code",
      "execution_count": null,
      "metadata": {
        "colab": {
          "base_uri": "https://localhost:8080/"
        },
        "id": "3d5fd301-e010-42ed-bb7e-5c85165251a2",
        "outputId": "c8e1ab4f-f25b-471b-c070-2239ef6ba1f3"
      },
      "outputs": [
        {
          "output_type": "execute_result",
          "data": {
            "text/plain": [
              "   loan_amnt  int_rate  annual_inc       dti  delinq_2yrs  inq_last_6mths  \\\n",
              "0  -1.124392 -0.729587   -0.896551  1.328632    -0.357012        0.178920   \n",
              "1  -1.426088  0.330634   -0.787387 -2.065791    -0.357012        3.843328   \n",
              "2  -1.438156  0.488979   -1.110294 -1.082491    -0.357012        1.095022   \n",
              "3  -0.521001 -0.077850   -0.438063  0.354248    -0.357012        0.178920   \n",
              "4  -1.365749 -0.261438    0.122311  0.091865    -0.357012       -0.737182   \n",
              "\n",
              "   mths_since_last_delinq  open_acc  pub_rec  revol_bal  revol_util  \\\n",
              "0               -0.708792 -1.641166 -0.31429  -0.124888    1.159498   \n",
              "1               -0.708792 -1.641166 -0.31429  -0.703378   -1.965980   \n",
              "2               -0.708792 -1.841641 -0.31429  -0.642003    1.782070   \n",
              "3                0.860811 -0.237839 -0.31429  -0.514224   -1.478018   \n",
              "4                0.991612  0.764538 -0.31429   0.558748   -0.094058   \n",
              "\n",
              "   total_acc  out_prncp  total_rec_late_fee  recoveries  \\\n",
              "0  -1.384557  -0.693944           -0.123464   -0.154549   \n",
              "1  -1.815538  -0.693944           -0.123464    0.057470   \n",
              "2  -1.298361  -0.693944           -0.123464   -0.154549   \n",
              "3   1.028934  -0.693944            3.099264   -0.154549   \n",
              "4   1.115130  -0.573268           -0.123464   -0.154549   \n",
              "\n",
              "   collections_12_mths_ex_med  acc_now_delinq  tot_coll_amt  tot_cur_bal  \\\n",
              "0                   -0.083608       -0.058307     -0.012089    -0.792648   \n",
              "1                   -0.083608       -0.058307     -0.012089    -0.792648   \n",
              "2                   -0.083608       -0.058307     -0.012089    -0.792648   \n",
              "3                   -0.083608       -0.058307     -0.012089    -0.792648   \n",
              "4                   -0.083608       -0.058307     -0.012089    -0.792648   \n",
              "\n",
              "   emp_length_int  term_int  mths_since_earliest_cr_line  mths_since_issue_d  \n",
              "0        1.138605 -0.616225                     1.764941            1.446626  \n",
              "1       -1.523744  1.622784                    -0.212426            1.446626  \n",
              "2        1.138605 -0.616225                    -0.570896            1.446626  \n",
              "3        1.138605 -0.616225                     0.226989            1.446626  \n",
              "4       -1.257509  1.622784                     0.238553            1.446626  "
            ],
            "text/html": [
              "\n",
              "  <div id=\"df-25827012-491e-4c74-8cbb-456c78634204\">\n",
              "    <div class=\"colab-df-container\">\n",
              "      <div>\n",
              "<style scoped>\n",
              "    .dataframe tbody tr th:only-of-type {\n",
              "        vertical-align: middle;\n",
              "    }\n",
              "\n",
              "    .dataframe tbody tr th {\n",
              "        vertical-align: top;\n",
              "    }\n",
              "\n",
              "    .dataframe thead th {\n",
              "        text-align: right;\n",
              "    }\n",
              "</style>\n",
              "<table border=\"1\" class=\"dataframe\">\n",
              "  <thead>\n",
              "    <tr style=\"text-align: right;\">\n",
              "      <th></th>\n",
              "      <th>loan_amnt</th>\n",
              "      <th>int_rate</th>\n",
              "      <th>annual_inc</th>\n",
              "      <th>dti</th>\n",
              "      <th>delinq_2yrs</th>\n",
              "      <th>inq_last_6mths</th>\n",
              "      <th>mths_since_last_delinq</th>\n",
              "      <th>open_acc</th>\n",
              "      <th>pub_rec</th>\n",
              "      <th>revol_bal</th>\n",
              "      <th>revol_util</th>\n",
              "      <th>total_acc</th>\n",
              "      <th>out_prncp</th>\n",
              "      <th>total_rec_late_fee</th>\n",
              "      <th>recoveries</th>\n",
              "      <th>collections_12_mths_ex_med</th>\n",
              "      <th>acc_now_delinq</th>\n",
              "      <th>tot_coll_amt</th>\n",
              "      <th>tot_cur_bal</th>\n",
              "      <th>emp_length_int</th>\n",
              "      <th>term_int</th>\n",
              "      <th>mths_since_earliest_cr_line</th>\n",
              "      <th>mths_since_issue_d</th>\n",
              "    </tr>\n",
              "  </thead>\n",
              "  <tbody>\n",
              "    <tr>\n",
              "      <th>0</th>\n",
              "      <td>-1.124392</td>\n",
              "      <td>-0.729587</td>\n",
              "      <td>-0.896551</td>\n",
              "      <td>1.328632</td>\n",
              "      <td>-0.357012</td>\n",
              "      <td>0.178920</td>\n",
              "      <td>-0.708792</td>\n",
              "      <td>-1.641166</td>\n",
              "      <td>-0.31429</td>\n",
              "      <td>-0.124888</td>\n",
              "      <td>1.159498</td>\n",
              "      <td>-1.384557</td>\n",
              "      <td>-0.693944</td>\n",
              "      <td>-0.123464</td>\n",
              "      <td>-0.154549</td>\n",
              "      <td>-0.083608</td>\n",
              "      <td>-0.058307</td>\n",
              "      <td>-0.012089</td>\n",
              "      <td>-0.792648</td>\n",
              "      <td>1.138605</td>\n",
              "      <td>-0.616225</td>\n",
              "      <td>1.764941</td>\n",
              "      <td>1.446626</td>\n",
              "    </tr>\n",
              "    <tr>\n",
              "      <th>1</th>\n",
              "      <td>-1.426088</td>\n",
              "      <td>0.330634</td>\n",
              "      <td>-0.787387</td>\n",
              "      <td>-2.065791</td>\n",
              "      <td>-0.357012</td>\n",
              "      <td>3.843328</td>\n",
              "      <td>-0.708792</td>\n",
              "      <td>-1.641166</td>\n",
              "      <td>-0.31429</td>\n",
              "      <td>-0.703378</td>\n",
              "      <td>-1.965980</td>\n",
              "      <td>-1.815538</td>\n",
              "      <td>-0.693944</td>\n",
              "      <td>-0.123464</td>\n",
              "      <td>0.057470</td>\n",
              "      <td>-0.083608</td>\n",
              "      <td>-0.058307</td>\n",
              "      <td>-0.012089</td>\n",
              "      <td>-0.792648</td>\n",
              "      <td>-1.523744</td>\n",
              "      <td>1.622784</td>\n",
              "      <td>-0.212426</td>\n",
              "      <td>1.446626</td>\n",
              "    </tr>\n",
              "    <tr>\n",
              "      <th>2</th>\n",
              "      <td>-1.438156</td>\n",
              "      <td>0.488979</td>\n",
              "      <td>-1.110294</td>\n",
              "      <td>-1.082491</td>\n",
              "      <td>-0.357012</td>\n",
              "      <td>1.095022</td>\n",
              "      <td>-0.708792</td>\n",
              "      <td>-1.841641</td>\n",
              "      <td>-0.31429</td>\n",
              "      <td>-0.642003</td>\n",
              "      <td>1.782070</td>\n",
              "      <td>-1.298361</td>\n",
              "      <td>-0.693944</td>\n",
              "      <td>-0.123464</td>\n",
              "      <td>-0.154549</td>\n",
              "      <td>-0.083608</td>\n",
              "      <td>-0.058307</td>\n",
              "      <td>-0.012089</td>\n",
              "      <td>-0.792648</td>\n",
              "      <td>1.138605</td>\n",
              "      <td>-0.616225</td>\n",
              "      <td>-0.570896</td>\n",
              "      <td>1.446626</td>\n",
              "    </tr>\n",
              "    <tr>\n",
              "      <th>3</th>\n",
              "      <td>-0.521001</td>\n",
              "      <td>-0.077850</td>\n",
              "      <td>-0.438063</td>\n",
              "      <td>0.354248</td>\n",
              "      <td>-0.357012</td>\n",
              "      <td>0.178920</td>\n",
              "      <td>0.860811</td>\n",
              "      <td>-0.237839</td>\n",
              "      <td>-0.31429</td>\n",
              "      <td>-0.514224</td>\n",
              "      <td>-1.478018</td>\n",
              "      <td>1.028934</td>\n",
              "      <td>-0.693944</td>\n",
              "      <td>3.099264</td>\n",
              "      <td>-0.154549</td>\n",
              "      <td>-0.083608</td>\n",
              "      <td>-0.058307</td>\n",
              "      <td>-0.012089</td>\n",
              "      <td>-0.792648</td>\n",
              "      <td>1.138605</td>\n",
              "      <td>-0.616225</td>\n",
              "      <td>0.226989</td>\n",
              "      <td>1.446626</td>\n",
              "    </tr>\n",
              "    <tr>\n",
              "      <th>4</th>\n",
              "      <td>-1.365749</td>\n",
              "      <td>-0.261438</td>\n",
              "      <td>0.122311</td>\n",
              "      <td>0.091865</td>\n",
              "      <td>-0.357012</td>\n",
              "      <td>-0.737182</td>\n",
              "      <td>0.991612</td>\n",
              "      <td>0.764538</td>\n",
              "      <td>-0.31429</td>\n",
              "      <td>0.558748</td>\n",
              "      <td>-0.094058</td>\n",
              "      <td>1.115130</td>\n",
              "      <td>-0.573268</td>\n",
              "      <td>-0.123464</td>\n",
              "      <td>-0.154549</td>\n",
              "      <td>-0.083608</td>\n",
              "      <td>-0.058307</td>\n",
              "      <td>-0.012089</td>\n",
              "      <td>-0.792648</td>\n",
              "      <td>-1.257509</td>\n",
              "      <td>1.622784</td>\n",
              "      <td>0.238553</td>\n",
              "      <td>1.446626</td>\n",
              "    </tr>\n",
              "  </tbody>\n",
              "</table>\n",
              "</div>\n",
              "      <button class=\"colab-df-convert\" onclick=\"convertToInteractive('df-25827012-491e-4c74-8cbb-456c78634204')\"\n",
              "              title=\"Convert this dataframe to an interactive table.\"\n",
              "              style=\"display:none;\">\n",
              "        \n",
              "  <svg xmlns=\"http://www.w3.org/2000/svg\" height=\"24px\"viewBox=\"0 0 24 24\"\n",
              "       width=\"24px\">\n",
              "    <path d=\"M0 0h24v24H0V0z\" fill=\"none\"/>\n",
              "    <path d=\"M18.56 5.44l.94 2.06.94-2.06 2.06-.94-2.06-.94-.94-2.06-.94 2.06-2.06.94zm-11 1L8.5 8.5l.94-2.06 2.06-.94-2.06-.94L8.5 2.5l-.94 2.06-2.06.94zm10 10l.94 2.06.94-2.06 2.06-.94-2.06-.94-.94-2.06-.94 2.06-2.06.94z\"/><path d=\"M17.41 7.96l-1.37-1.37c-.4-.4-.92-.59-1.43-.59-.52 0-1.04.2-1.43.59L10.3 9.45l-7.72 7.72c-.78.78-.78 2.05 0 2.83L4 21.41c.39.39.9.59 1.41.59.51 0 1.02-.2 1.41-.59l7.78-7.78 2.81-2.81c.8-.78.8-2.07 0-2.86zM5.41 20L4 18.59l7.72-7.72 1.47 1.35L5.41 20z\"/>\n",
              "  </svg>\n",
              "      </button>\n",
              "      \n",
              "  <style>\n",
              "    .colab-df-container {\n",
              "      display:flex;\n",
              "      flex-wrap:wrap;\n",
              "      gap: 12px;\n",
              "    }\n",
              "\n",
              "    .colab-df-convert {\n",
              "      background-color: #E8F0FE;\n",
              "      border: none;\n",
              "      border-radius: 50%;\n",
              "      cursor: pointer;\n",
              "      display: none;\n",
              "      fill: #1967D2;\n",
              "      height: 32px;\n",
              "      padding: 0 0 0 0;\n",
              "      width: 32px;\n",
              "    }\n",
              "\n",
              "    .colab-df-convert:hover {\n",
              "      background-color: #E2EBFA;\n",
              "      box-shadow: 0px 1px 2px rgba(60, 64, 67, 0.3), 0px 1px 3px 1px rgba(60, 64, 67, 0.15);\n",
              "      fill: #174EA6;\n",
              "    }\n",
              "\n",
              "    [theme=dark] .colab-df-convert {\n",
              "      background-color: #3B4455;\n",
              "      fill: #D2E3FC;\n",
              "    }\n",
              "\n",
              "    [theme=dark] .colab-df-convert:hover {\n",
              "      background-color: #434B5C;\n",
              "      box-shadow: 0px 1px 3px 1px rgba(0, 0, 0, 0.15);\n",
              "      filter: drop-shadow(0px 1px 2px rgba(0, 0, 0, 0.3));\n",
              "      fill: #FFFFFF;\n",
              "    }\n",
              "  </style>\n",
              "\n",
              "      <script>\n",
              "        const buttonEl =\n",
              "          document.querySelector('#df-25827012-491e-4c74-8cbb-456c78634204 button.colab-df-convert');\n",
              "        buttonEl.style.display =\n",
              "          google.colab.kernel.accessAllowed ? 'block' : 'none';\n",
              "\n",
              "        async function convertToInteractive(key) {\n",
              "          const element = document.querySelector('#df-25827012-491e-4c74-8cbb-456c78634204');\n",
              "          const dataTable =\n",
              "            await google.colab.kernel.invokeFunction('convertToInteractive',\n",
              "                                                     [key], {});\n",
              "          if (!dataTable) return;\n",
              "\n",
              "          const docLinkHtml = 'Like what you see? Visit the ' +\n",
              "            '<a target=\"_blank\" href=https://colab.research.google.com/notebooks/data_table.ipynb>data table notebook</a>'\n",
              "            + ' to learn more about interactive tables.';\n",
              "          element.innerHTML = '';\n",
              "          dataTable['output_type'] = 'display_data';\n",
              "          await google.colab.output.renderOutput(dataTable, element);\n",
              "          const docLink = document.createElement('div');\n",
              "          docLink.innerHTML = docLinkHtml;\n",
              "          element.appendChild(docLink);\n",
              "        }\n",
              "      </script>\n",
              "    </div>\n",
              "  </div>\n",
              "  "
            ]
          },
          "metadata": {},
          "execution_count": 60
        }
      ],
      "source": [
        "std.head()"
      ],
      "id": "3d5fd301-e010-42ed-bb7e-5c85165251a2"
    },
    {
      "cell_type": "markdown",
      "metadata": {
        "id": "fe95f2f6-6372-46bf-8b8b-58f9ef3f823b"
      },
      "source": [
        "### Transformed Dataframe"
      ],
      "id": "fe95f2f6-6372-46bf-8b8b-58f9ef3f823b"
    },
    {
      "cell_type": "markdown",
      "metadata": {
        "id": "379b69f2-ab72-460d-a566-f4fbd88d697f"
      },
      "source": [
        "Menggabungkan kembali kolom-kolom hasil transformasi "
      ],
      "id": "379b69f2-ab72-460d-a566-f4fbd88d697f"
    },
    {
      "cell_type": "code",
      "execution_count": null,
      "metadata": {
        "id": "fc2ace56-2789-4a19-9a70-bdb72ee3d680"
      },
      "outputs": [],
      "source": [
        "data_model = pd.concat([onehot, std, data[['bad_flag']]], axis=1)"
      ],
      "id": "fc2ace56-2789-4a19-9a70-bdb72ee3d680"
    },
    {
      "cell_type": "markdown",
      "metadata": {
        "id": "e0b46ea7-3070-4865-beef-9df79ffbc289"
      },
      "source": [
        "# MODELLING"
      ],
      "id": "e0b46ea7-3070-4865-beef-9df79ffbc289"
    },
    {
      "cell_type": "markdown",
      "metadata": {
        "id": "0b0e6c1a-d336-4f67-b67e-3a8e8a1da5f8"
      },
      "source": [
        "### Train-Test Split"
      ],
      "id": "0b0e6c1a-d336-4f67-b67e-3a8e8a1da5f8"
    },
    {
      "cell_type": "code",
      "execution_count": null,
      "metadata": {
        "id": "84d129a3-759f-4ccd-8522-0a80712a271a"
      },
      "outputs": [],
      "source": [
        "from sklearn.model_selection import train_test_split"
      ],
      "id": "84d129a3-759f-4ccd-8522-0a80712a271a"
    },
    {
      "cell_type": "code",
      "execution_count": null,
      "metadata": {
        "id": "ce1fdd10-2163-415b-8eb4-987721fa7154"
      },
      "outputs": [],
      "source": [
        "X = data_model.drop('bad_flag', axis=1)\n",
        "y = data_model['bad_flag']\n",
        "\n",
        "X_train, X_test, y_train, y_test = train_test_split(X, y, test_size=0.2, random_state=42)"
      ],
      "id": "ce1fdd10-2163-415b-8eb4-987721fa7154"
    },
    {
      "cell_type": "code",
      "execution_count": null,
      "metadata": {
        "colab": {
          "base_uri": "https://localhost:8080/"
        },
        "id": "712fafef-a848-4b65-9ce9-3c007d9cef56",
        "outputId": "c471a49e-b440-4e64-e0ef-a8cdc1046f55"
      },
      "outputs": [
        {
          "output_type": "execute_result",
          "data": {
            "text/plain": [
              "((373028, 99), (93257, 99))"
            ]
          },
          "metadata": {},
          "execution_count": 64
        }
      ],
      "source": [
        "X_train.shape, X_test.shape"
      ],
      "id": "712fafef-a848-4b65-9ce9-3c007d9cef56"
    },
    {
      "cell_type": "markdown",
      "metadata": {
        "id": "822eb53e-57c5-4126-821b-07d50274b39c"
      },
      "source": [
        "### Training"
      ],
      "id": "822eb53e-57c5-4126-821b-07d50274b39c"
    },
    {
      "cell_type": "markdown",
      "metadata": {
        "id": "ab1cc741-d1b3-442a-b5e9-91a507b4d9f6"
      },
      "source": [
        "Pada contoh ini digunakan algoritma Random Forest untuk pemodelan."
      ],
      "id": "ab1cc741-d1b3-442a-b5e9-91a507b4d9f6"
    },
    {
      "cell_type": "code",
      "execution_count": null,
      "metadata": {
        "id": "a9409d9a-52c8-4bcb-a08b-e41fcd699285"
      },
      "outputs": [],
      "source": [
        "from sklearn.ensemble import RandomForestClassifier"
      ],
      "id": "a9409d9a-52c8-4bcb-a08b-e41fcd699285"
    },
    {
      "cell_type": "code",
      "execution_count": null,
      "metadata": {
        "id": "87d787ae-b9ce-48bf-aef1-a906ce6157c9",
        "colab": {
          "base_uri": "https://localhost:8080/"
        },
        "outputId": "843b56e8-5bbe-42eb-9ae0-943ce746cadd"
      },
      "outputs": [
        {
          "output_type": "execute_result",
          "data": {
            "text/plain": [
              "RandomForestClassifier(max_depth=4)"
            ]
          },
          "metadata": {},
          "execution_count": 66
        }
      ],
      "source": [
        "rfc = RandomForestClassifier(max_depth=4)\n",
        "rfc.fit(X_train, y_train)"
      ],
      "id": "87d787ae-b9ce-48bf-aef1-a906ce6157c9"
    },
    {
      "cell_type": "markdown",
      "metadata": {
        "id": "aa049614-8711-47a4-9b5d-c354fc9441f5"
      },
      "source": [
        "Feature Importance dapat ditampilkan."
      ],
      "id": "aa049614-8711-47a4-9b5d-c354fc9441f5"
    },
    {
      "cell_type": "code",
      "execution_count": null,
      "metadata": {
        "id": "b3b29f1c-009d-4ca0-9a9c-1a69f4bb7b9e",
        "colab": {
          "base_uri": "https://localhost:8080/"
        },
        "outputId": "321ad1dc-0bcc-4fde-a4eb-f4b0c6c862a5"
      },
      "outputs": [
        {
          "output_type": "execute_result",
          "data": {
            "text/plain": [
              "                                feature    importance\n",
              "90                           recoveries  4.707144e-01\n",
              "88                            out_prncp  1.937191e-01\n",
              "89                   total_rec_late_fee  8.520924e-02\n",
              "77                             int_rate  5.478140e-02\n",
              "3                               grade_E  2.935182e-02\n",
              "98                   mths_since_issue_d  2.638765e-02\n",
              "96                             term_int  2.056482e-02\n",
              "94                          tot_cur_bal  1.522729e-02\n",
              "2                               grade_D  1.485357e-02\n",
              "0                               grade_B  1.388926e-02\n",
              "78                           annual_inc  1.234216e-02\n",
              "4                               grade_F  9.030067e-03\n",
              "79                                  dti  6.887885e-03\n",
              "81                       inq_last_6mths  6.665751e-03\n",
              "12         verification_status_Verified  5.635960e-03\n",
              "86                           revol_util  4.827636e-03\n",
              "75                initial_list_status_w  4.517680e-03\n",
              "6               home_ownership_MORTGAGE  4.132359e-03\n",
              "23               purpose_small_business  3.361339e-03\n",
              "5                               grade_G  3.195681e-03\n",
              "76                            loan_amnt  2.312527e-03\n",
              "1                               grade_C  2.106708e-03\n",
              "13                  purpose_credit_card  1.792641e-03\n",
              "10                  home_ownership_RENT  1.601035e-03\n",
              "97          mths_since_earliest_cr_line  1.347671e-03\n",
              "85                            revol_bal  1.057602e-03\n",
              "95                       emp_length_int  8.920448e-04\n",
              "87                            total_acc  7.283552e-04\n",
              "21                        purpose_other  3.004476e-04\n",
              "14           purpose_debt_consolidation  2.640450e-04\n",
              "93                         tot_coll_amt  2.556852e-04\n",
              "84                              pub_rec  2.090309e-04\n",
              "16             purpose_home_improvement  1.961955e-04\n",
              "39                        addr_state_IL  1.567764e-04\n",
              "34                        addr_state_FL  1.441871e-04\n",
              "83                             open_acc  1.367955e-04\n",
              "82               mths_since_last_delinq  1.309736e-04\n",
              "58                        addr_state_NY  1.080161e-04\n",
              "67                        addr_state_TX  1.042326e-04\n",
              "11  verification_status_Source Verified  9.530153e-05\n",
              "20                       purpose_moving  9.502504e-05\n",
              "53                        addr_state_NE  5.351633e-05\n",
              "44                        addr_state_MA  4.621223e-05\n",
              "66                        addr_state_TN  4.375582e-05\n",
              "31                        addr_state_CT  4.017255e-05\n",
              "80                          delinq_2yrs  3.501464e-05\n",
              "91           collections_12_mths_ex_med  3.443971e-05\n",
              "18               purpose_major_purchase  3.345918e-05\n",
              "33                        addr_state_DE  3.273546e-05\n",
              "32                        addr_state_DC  2.962983e-05\n",
              "57                        addr_state_NV  2.903626e-05\n",
              "24                     purpose_vacation  2.752233e-05\n",
              "29                        addr_state_CA  2.688247e-05\n",
              "69                        addr_state_VA  2.679371e-05\n",
              "15                  purpose_educational  2.661953e-05\n",
              "63                        addr_state_RI  1.997319e-05\n",
              "8                  home_ownership_OTHER  1.993746e-05\n",
              "59                        addr_state_OH  1.544484e-05\n",
              "17                        purpose_house  1.444124e-05\n",
              "25                      purpose_wedding  1.360830e-05\n",
              "92                       acc_now_delinq  1.305028e-05\n",
              "50                        addr_state_MS  1.213856e-05\n",
              "47                        addr_state_MI  1.007976e-05\n",
              "73                        addr_state_WV  9.869376e-06\n",
              "62                        addr_state_PA  8.922392e-06\n",
              "9                    home_ownership_OWN  7.373586e-06\n",
              "45                        addr_state_MD  6.119099e-06\n",
              "52                        addr_state_NC  5.724368e-06\n",
              "42                        addr_state_KY  5.574868e-06\n",
              "19                      purpose_medical  3.780051e-06\n",
              "30                        addr_state_CO  3.560546e-06\n",
              "74                        addr_state_WY  3.147001e-06\n",
              "48                        addr_state_MN  3.012342e-06\n",
              "36                        addr_state_HI  2.211218e-06\n",
              "64                        addr_state_SC  1.949026e-06\n",
              "65                        addr_state_SD  1.206877e-06\n",
              "41                        addr_state_KS  9.839333e-07\n",
              "55                        addr_state_NJ  6.396846e-07\n",
              "28                        addr_state_AZ  5.154825e-07\n",
              "71                        addr_state_WA  4.926082e-07\n",
              "72                        addr_state_WI  6.998911e-08\n",
              "7                   home_ownership_NONE  0.000000e+00\n",
              "54                        addr_state_NH  0.000000e+00\n",
              "70                        addr_state_VT  0.000000e+00\n",
              "68                        addr_state_UT  0.000000e+00\n",
              "61                        addr_state_OR  0.000000e+00\n",
              "60                        addr_state_OK  0.000000e+00\n",
              "56                        addr_state_NM  0.000000e+00\n",
              "51                        addr_state_MT  0.000000e+00\n",
              "46                        addr_state_ME  0.000000e+00\n",
              "43                        addr_state_LA  0.000000e+00\n",
              "40                        addr_state_IN  0.000000e+00\n",
              "38                        addr_state_ID  0.000000e+00\n",
              "37                        addr_state_IA  0.000000e+00\n",
              "35                        addr_state_GA  0.000000e+00\n",
              "27                        addr_state_AR  0.000000e+00\n",
              "26                        addr_state_AL  0.000000e+00\n",
              "22             purpose_renewable_energy  0.000000e+00\n",
              "49                        addr_state_MO  0.000000e+00"
            ],
            "text/html": [
              "\n",
              "  <div id=\"df-0a0ab0af-20c7-4d63-8222-48ad88cbc88c\">\n",
              "    <div class=\"colab-df-container\">\n",
              "      <div>\n",
              "<style scoped>\n",
              "    .dataframe tbody tr th:only-of-type {\n",
              "        vertical-align: middle;\n",
              "    }\n",
              "\n",
              "    .dataframe tbody tr th {\n",
              "        vertical-align: top;\n",
              "    }\n",
              "\n",
              "    .dataframe thead th {\n",
              "        text-align: right;\n",
              "    }\n",
              "</style>\n",
              "<table border=\"1\" class=\"dataframe\">\n",
              "  <thead>\n",
              "    <tr style=\"text-align: right;\">\n",
              "      <th></th>\n",
              "      <th>feature</th>\n",
              "      <th>importance</th>\n",
              "    </tr>\n",
              "  </thead>\n",
              "  <tbody>\n",
              "    <tr>\n",
              "      <th>90</th>\n",
              "      <td>recoveries</td>\n",
              "      <td>4.707144e-01</td>\n",
              "    </tr>\n",
              "    <tr>\n",
              "      <th>88</th>\n",
              "      <td>out_prncp</td>\n",
              "      <td>1.937191e-01</td>\n",
              "    </tr>\n",
              "    <tr>\n",
              "      <th>89</th>\n",
              "      <td>total_rec_late_fee</td>\n",
              "      <td>8.520924e-02</td>\n",
              "    </tr>\n",
              "    <tr>\n",
              "      <th>77</th>\n",
              "      <td>int_rate</td>\n",
              "      <td>5.478140e-02</td>\n",
              "    </tr>\n",
              "    <tr>\n",
              "      <th>3</th>\n",
              "      <td>grade_E</td>\n",
              "      <td>2.935182e-02</td>\n",
              "    </tr>\n",
              "    <tr>\n",
              "      <th>98</th>\n",
              "      <td>mths_since_issue_d</td>\n",
              "      <td>2.638765e-02</td>\n",
              "    </tr>\n",
              "    <tr>\n",
              "      <th>96</th>\n",
              "      <td>term_int</td>\n",
              "      <td>2.056482e-02</td>\n",
              "    </tr>\n",
              "    <tr>\n",
              "      <th>94</th>\n",
              "      <td>tot_cur_bal</td>\n",
              "      <td>1.522729e-02</td>\n",
              "    </tr>\n",
              "    <tr>\n",
              "      <th>2</th>\n",
              "      <td>grade_D</td>\n",
              "      <td>1.485357e-02</td>\n",
              "    </tr>\n",
              "    <tr>\n",
              "      <th>0</th>\n",
              "      <td>grade_B</td>\n",
              "      <td>1.388926e-02</td>\n",
              "    </tr>\n",
              "    <tr>\n",
              "      <th>78</th>\n",
              "      <td>annual_inc</td>\n",
              "      <td>1.234216e-02</td>\n",
              "    </tr>\n",
              "    <tr>\n",
              "      <th>4</th>\n",
              "      <td>grade_F</td>\n",
              "      <td>9.030067e-03</td>\n",
              "    </tr>\n",
              "    <tr>\n",
              "      <th>79</th>\n",
              "      <td>dti</td>\n",
              "      <td>6.887885e-03</td>\n",
              "    </tr>\n",
              "    <tr>\n",
              "      <th>81</th>\n",
              "      <td>inq_last_6mths</td>\n",
              "      <td>6.665751e-03</td>\n",
              "    </tr>\n",
              "    <tr>\n",
              "      <th>12</th>\n",
              "      <td>verification_status_Verified</td>\n",
              "      <td>5.635960e-03</td>\n",
              "    </tr>\n",
              "    <tr>\n",
              "      <th>86</th>\n",
              "      <td>revol_util</td>\n",
              "      <td>4.827636e-03</td>\n",
              "    </tr>\n",
              "    <tr>\n",
              "      <th>75</th>\n",
              "      <td>initial_list_status_w</td>\n",
              "      <td>4.517680e-03</td>\n",
              "    </tr>\n",
              "    <tr>\n",
              "      <th>6</th>\n",
              "      <td>home_ownership_MORTGAGE</td>\n",
              "      <td>4.132359e-03</td>\n",
              "    </tr>\n",
              "    <tr>\n",
              "      <th>23</th>\n",
              "      <td>purpose_small_business</td>\n",
              "      <td>3.361339e-03</td>\n",
              "    </tr>\n",
              "    <tr>\n",
              "      <th>5</th>\n",
              "      <td>grade_G</td>\n",
              "      <td>3.195681e-03</td>\n",
              "    </tr>\n",
              "    <tr>\n",
              "      <th>76</th>\n",
              "      <td>loan_amnt</td>\n",
              "      <td>2.312527e-03</td>\n",
              "    </tr>\n",
              "    <tr>\n",
              "      <th>1</th>\n",
              "      <td>grade_C</td>\n",
              "      <td>2.106708e-03</td>\n",
              "    </tr>\n",
              "    <tr>\n",
              "      <th>13</th>\n",
              "      <td>purpose_credit_card</td>\n",
              "      <td>1.792641e-03</td>\n",
              "    </tr>\n",
              "    <tr>\n",
              "      <th>10</th>\n",
              "      <td>home_ownership_RENT</td>\n",
              "      <td>1.601035e-03</td>\n",
              "    </tr>\n",
              "    <tr>\n",
              "      <th>97</th>\n",
              "      <td>mths_since_earliest_cr_line</td>\n",
              "      <td>1.347671e-03</td>\n",
              "    </tr>\n",
              "    <tr>\n",
              "      <th>85</th>\n",
              "      <td>revol_bal</td>\n",
              "      <td>1.057602e-03</td>\n",
              "    </tr>\n",
              "    <tr>\n",
              "      <th>95</th>\n",
              "      <td>emp_length_int</td>\n",
              "      <td>8.920448e-04</td>\n",
              "    </tr>\n",
              "    <tr>\n",
              "      <th>87</th>\n",
              "      <td>total_acc</td>\n",
              "      <td>7.283552e-04</td>\n",
              "    </tr>\n",
              "    <tr>\n",
              "      <th>21</th>\n",
              "      <td>purpose_other</td>\n",
              "      <td>3.004476e-04</td>\n",
              "    </tr>\n",
              "    <tr>\n",
              "      <th>14</th>\n",
              "      <td>purpose_debt_consolidation</td>\n",
              "      <td>2.640450e-04</td>\n",
              "    </tr>\n",
              "    <tr>\n",
              "      <th>93</th>\n",
              "      <td>tot_coll_amt</td>\n",
              "      <td>2.556852e-04</td>\n",
              "    </tr>\n",
              "    <tr>\n",
              "      <th>84</th>\n",
              "      <td>pub_rec</td>\n",
              "      <td>2.090309e-04</td>\n",
              "    </tr>\n",
              "    <tr>\n",
              "      <th>16</th>\n",
              "      <td>purpose_home_improvement</td>\n",
              "      <td>1.961955e-04</td>\n",
              "    </tr>\n",
              "    <tr>\n",
              "      <th>39</th>\n",
              "      <td>addr_state_IL</td>\n",
              "      <td>1.567764e-04</td>\n",
              "    </tr>\n",
              "    <tr>\n",
              "      <th>34</th>\n",
              "      <td>addr_state_FL</td>\n",
              "      <td>1.441871e-04</td>\n",
              "    </tr>\n",
              "    <tr>\n",
              "      <th>83</th>\n",
              "      <td>open_acc</td>\n",
              "      <td>1.367955e-04</td>\n",
              "    </tr>\n",
              "    <tr>\n",
              "      <th>82</th>\n",
              "      <td>mths_since_last_delinq</td>\n",
              "      <td>1.309736e-04</td>\n",
              "    </tr>\n",
              "    <tr>\n",
              "      <th>58</th>\n",
              "      <td>addr_state_NY</td>\n",
              "      <td>1.080161e-04</td>\n",
              "    </tr>\n",
              "    <tr>\n",
              "      <th>67</th>\n",
              "      <td>addr_state_TX</td>\n",
              "      <td>1.042326e-04</td>\n",
              "    </tr>\n",
              "    <tr>\n",
              "      <th>11</th>\n",
              "      <td>verification_status_Source Verified</td>\n",
              "      <td>9.530153e-05</td>\n",
              "    </tr>\n",
              "    <tr>\n",
              "      <th>20</th>\n",
              "      <td>purpose_moving</td>\n",
              "      <td>9.502504e-05</td>\n",
              "    </tr>\n",
              "    <tr>\n",
              "      <th>53</th>\n",
              "      <td>addr_state_NE</td>\n",
              "      <td>5.351633e-05</td>\n",
              "    </tr>\n",
              "    <tr>\n",
              "      <th>44</th>\n",
              "      <td>addr_state_MA</td>\n",
              "      <td>4.621223e-05</td>\n",
              "    </tr>\n",
              "    <tr>\n",
              "      <th>66</th>\n",
              "      <td>addr_state_TN</td>\n",
              "      <td>4.375582e-05</td>\n",
              "    </tr>\n",
              "    <tr>\n",
              "      <th>31</th>\n",
              "      <td>addr_state_CT</td>\n",
              "      <td>4.017255e-05</td>\n",
              "    </tr>\n",
              "    <tr>\n",
              "      <th>80</th>\n",
              "      <td>delinq_2yrs</td>\n",
              "      <td>3.501464e-05</td>\n",
              "    </tr>\n",
              "    <tr>\n",
              "      <th>91</th>\n",
              "      <td>collections_12_mths_ex_med</td>\n",
              "      <td>3.443971e-05</td>\n",
              "    </tr>\n",
              "    <tr>\n",
              "      <th>18</th>\n",
              "      <td>purpose_major_purchase</td>\n",
              "      <td>3.345918e-05</td>\n",
              "    </tr>\n",
              "    <tr>\n",
              "      <th>33</th>\n",
              "      <td>addr_state_DE</td>\n",
              "      <td>3.273546e-05</td>\n",
              "    </tr>\n",
              "    <tr>\n",
              "      <th>32</th>\n",
              "      <td>addr_state_DC</td>\n",
              "      <td>2.962983e-05</td>\n",
              "    </tr>\n",
              "    <tr>\n",
              "      <th>57</th>\n",
              "      <td>addr_state_NV</td>\n",
              "      <td>2.903626e-05</td>\n",
              "    </tr>\n",
              "    <tr>\n",
              "      <th>24</th>\n",
              "      <td>purpose_vacation</td>\n",
              "      <td>2.752233e-05</td>\n",
              "    </tr>\n",
              "    <tr>\n",
              "      <th>29</th>\n",
              "      <td>addr_state_CA</td>\n",
              "      <td>2.688247e-05</td>\n",
              "    </tr>\n",
              "    <tr>\n",
              "      <th>69</th>\n",
              "      <td>addr_state_VA</td>\n",
              "      <td>2.679371e-05</td>\n",
              "    </tr>\n",
              "    <tr>\n",
              "      <th>15</th>\n",
              "      <td>purpose_educational</td>\n",
              "      <td>2.661953e-05</td>\n",
              "    </tr>\n",
              "    <tr>\n",
              "      <th>63</th>\n",
              "      <td>addr_state_RI</td>\n",
              "      <td>1.997319e-05</td>\n",
              "    </tr>\n",
              "    <tr>\n",
              "      <th>8</th>\n",
              "      <td>home_ownership_OTHER</td>\n",
              "      <td>1.993746e-05</td>\n",
              "    </tr>\n",
              "    <tr>\n",
              "      <th>59</th>\n",
              "      <td>addr_state_OH</td>\n",
              "      <td>1.544484e-05</td>\n",
              "    </tr>\n",
              "    <tr>\n",
              "      <th>17</th>\n",
              "      <td>purpose_house</td>\n",
              "      <td>1.444124e-05</td>\n",
              "    </tr>\n",
              "    <tr>\n",
              "      <th>25</th>\n",
              "      <td>purpose_wedding</td>\n",
              "      <td>1.360830e-05</td>\n",
              "    </tr>\n",
              "    <tr>\n",
              "      <th>92</th>\n",
              "      <td>acc_now_delinq</td>\n",
              "      <td>1.305028e-05</td>\n",
              "    </tr>\n",
              "    <tr>\n",
              "      <th>50</th>\n",
              "      <td>addr_state_MS</td>\n",
              "      <td>1.213856e-05</td>\n",
              "    </tr>\n",
              "    <tr>\n",
              "      <th>47</th>\n",
              "      <td>addr_state_MI</td>\n",
              "      <td>1.007976e-05</td>\n",
              "    </tr>\n",
              "    <tr>\n",
              "      <th>73</th>\n",
              "      <td>addr_state_WV</td>\n",
              "      <td>9.869376e-06</td>\n",
              "    </tr>\n",
              "    <tr>\n",
              "      <th>62</th>\n",
              "      <td>addr_state_PA</td>\n",
              "      <td>8.922392e-06</td>\n",
              "    </tr>\n",
              "    <tr>\n",
              "      <th>9</th>\n",
              "      <td>home_ownership_OWN</td>\n",
              "      <td>7.373586e-06</td>\n",
              "    </tr>\n",
              "    <tr>\n",
              "      <th>45</th>\n",
              "      <td>addr_state_MD</td>\n",
              "      <td>6.119099e-06</td>\n",
              "    </tr>\n",
              "    <tr>\n",
              "      <th>52</th>\n",
              "      <td>addr_state_NC</td>\n",
              "      <td>5.724368e-06</td>\n",
              "    </tr>\n",
              "    <tr>\n",
              "      <th>42</th>\n",
              "      <td>addr_state_KY</td>\n",
              "      <td>5.574868e-06</td>\n",
              "    </tr>\n",
              "    <tr>\n",
              "      <th>19</th>\n",
              "      <td>purpose_medical</td>\n",
              "      <td>3.780051e-06</td>\n",
              "    </tr>\n",
              "    <tr>\n",
              "      <th>30</th>\n",
              "      <td>addr_state_CO</td>\n",
              "      <td>3.560546e-06</td>\n",
              "    </tr>\n",
              "    <tr>\n",
              "      <th>74</th>\n",
              "      <td>addr_state_WY</td>\n",
              "      <td>3.147001e-06</td>\n",
              "    </tr>\n",
              "    <tr>\n",
              "      <th>48</th>\n",
              "      <td>addr_state_MN</td>\n",
              "      <td>3.012342e-06</td>\n",
              "    </tr>\n",
              "    <tr>\n",
              "      <th>36</th>\n",
              "      <td>addr_state_HI</td>\n",
              "      <td>2.211218e-06</td>\n",
              "    </tr>\n",
              "    <tr>\n",
              "      <th>64</th>\n",
              "      <td>addr_state_SC</td>\n",
              "      <td>1.949026e-06</td>\n",
              "    </tr>\n",
              "    <tr>\n",
              "      <th>65</th>\n",
              "      <td>addr_state_SD</td>\n",
              "      <td>1.206877e-06</td>\n",
              "    </tr>\n",
              "    <tr>\n",
              "      <th>41</th>\n",
              "      <td>addr_state_KS</td>\n",
              "      <td>9.839333e-07</td>\n",
              "    </tr>\n",
              "    <tr>\n",
              "      <th>55</th>\n",
              "      <td>addr_state_NJ</td>\n",
              "      <td>6.396846e-07</td>\n",
              "    </tr>\n",
              "    <tr>\n",
              "      <th>28</th>\n",
              "      <td>addr_state_AZ</td>\n",
              "      <td>5.154825e-07</td>\n",
              "    </tr>\n",
              "    <tr>\n",
              "      <th>71</th>\n",
              "      <td>addr_state_WA</td>\n",
              "      <td>4.926082e-07</td>\n",
              "    </tr>\n",
              "    <tr>\n",
              "      <th>72</th>\n",
              "      <td>addr_state_WI</td>\n",
              "      <td>6.998911e-08</td>\n",
              "    </tr>\n",
              "    <tr>\n",
              "      <th>7</th>\n",
              "      <td>home_ownership_NONE</td>\n",
              "      <td>0.000000e+00</td>\n",
              "    </tr>\n",
              "    <tr>\n",
              "      <th>54</th>\n",
              "      <td>addr_state_NH</td>\n",
              "      <td>0.000000e+00</td>\n",
              "    </tr>\n",
              "    <tr>\n",
              "      <th>70</th>\n",
              "      <td>addr_state_VT</td>\n",
              "      <td>0.000000e+00</td>\n",
              "    </tr>\n",
              "    <tr>\n",
              "      <th>68</th>\n",
              "      <td>addr_state_UT</td>\n",
              "      <td>0.000000e+00</td>\n",
              "    </tr>\n",
              "    <tr>\n",
              "      <th>61</th>\n",
              "      <td>addr_state_OR</td>\n",
              "      <td>0.000000e+00</td>\n",
              "    </tr>\n",
              "    <tr>\n",
              "      <th>60</th>\n",
              "      <td>addr_state_OK</td>\n",
              "      <td>0.000000e+00</td>\n",
              "    </tr>\n",
              "    <tr>\n",
              "      <th>56</th>\n",
              "      <td>addr_state_NM</td>\n",
              "      <td>0.000000e+00</td>\n",
              "    </tr>\n",
              "    <tr>\n",
              "      <th>51</th>\n",
              "      <td>addr_state_MT</td>\n",
              "      <td>0.000000e+00</td>\n",
              "    </tr>\n",
              "    <tr>\n",
              "      <th>46</th>\n",
              "      <td>addr_state_ME</td>\n",
              "      <td>0.000000e+00</td>\n",
              "    </tr>\n",
              "    <tr>\n",
              "      <th>43</th>\n",
              "      <td>addr_state_LA</td>\n",
              "      <td>0.000000e+00</td>\n",
              "    </tr>\n",
              "    <tr>\n",
              "      <th>40</th>\n",
              "      <td>addr_state_IN</td>\n",
              "      <td>0.000000e+00</td>\n",
              "    </tr>\n",
              "    <tr>\n",
              "      <th>38</th>\n",
              "      <td>addr_state_ID</td>\n",
              "      <td>0.000000e+00</td>\n",
              "    </tr>\n",
              "    <tr>\n",
              "      <th>37</th>\n",
              "      <td>addr_state_IA</td>\n",
              "      <td>0.000000e+00</td>\n",
              "    </tr>\n",
              "    <tr>\n",
              "      <th>35</th>\n",
              "      <td>addr_state_GA</td>\n",
              "      <td>0.000000e+00</td>\n",
              "    </tr>\n",
              "    <tr>\n",
              "      <th>27</th>\n",
              "      <td>addr_state_AR</td>\n",
              "      <td>0.000000e+00</td>\n",
              "    </tr>\n",
              "    <tr>\n",
              "      <th>26</th>\n",
              "      <td>addr_state_AL</td>\n",
              "      <td>0.000000e+00</td>\n",
              "    </tr>\n",
              "    <tr>\n",
              "      <th>22</th>\n",
              "      <td>purpose_renewable_energy</td>\n",
              "      <td>0.000000e+00</td>\n",
              "    </tr>\n",
              "    <tr>\n",
              "      <th>49</th>\n",
              "      <td>addr_state_MO</td>\n",
              "      <td>0.000000e+00</td>\n",
              "    </tr>\n",
              "  </tbody>\n",
              "</table>\n",
              "</div>\n",
              "      <button class=\"colab-df-convert\" onclick=\"convertToInteractive('df-0a0ab0af-20c7-4d63-8222-48ad88cbc88c')\"\n",
              "              title=\"Convert this dataframe to an interactive table.\"\n",
              "              style=\"display:none;\">\n",
              "        \n",
              "  <svg xmlns=\"http://www.w3.org/2000/svg\" height=\"24px\"viewBox=\"0 0 24 24\"\n",
              "       width=\"24px\">\n",
              "    <path d=\"M0 0h24v24H0V0z\" fill=\"none\"/>\n",
              "    <path d=\"M18.56 5.44l.94 2.06.94-2.06 2.06-.94-2.06-.94-.94-2.06-.94 2.06-2.06.94zm-11 1L8.5 8.5l.94-2.06 2.06-.94-2.06-.94L8.5 2.5l-.94 2.06-2.06.94zm10 10l.94 2.06.94-2.06 2.06-.94-2.06-.94-.94-2.06-.94 2.06-2.06.94z\"/><path d=\"M17.41 7.96l-1.37-1.37c-.4-.4-.92-.59-1.43-.59-.52 0-1.04.2-1.43.59L10.3 9.45l-7.72 7.72c-.78.78-.78 2.05 0 2.83L4 21.41c.39.39.9.59 1.41.59.51 0 1.02-.2 1.41-.59l7.78-7.78 2.81-2.81c.8-.78.8-2.07 0-2.86zM5.41 20L4 18.59l7.72-7.72 1.47 1.35L5.41 20z\"/>\n",
              "  </svg>\n",
              "      </button>\n",
              "      \n",
              "  <style>\n",
              "    .colab-df-container {\n",
              "      display:flex;\n",
              "      flex-wrap:wrap;\n",
              "      gap: 12px;\n",
              "    }\n",
              "\n",
              "    .colab-df-convert {\n",
              "      background-color: #E8F0FE;\n",
              "      border: none;\n",
              "      border-radius: 50%;\n",
              "      cursor: pointer;\n",
              "      display: none;\n",
              "      fill: #1967D2;\n",
              "      height: 32px;\n",
              "      padding: 0 0 0 0;\n",
              "      width: 32px;\n",
              "    }\n",
              "\n",
              "    .colab-df-convert:hover {\n",
              "      background-color: #E2EBFA;\n",
              "      box-shadow: 0px 1px 2px rgba(60, 64, 67, 0.3), 0px 1px 3px 1px rgba(60, 64, 67, 0.15);\n",
              "      fill: #174EA6;\n",
              "    }\n",
              "\n",
              "    [theme=dark] .colab-df-convert {\n",
              "      background-color: #3B4455;\n",
              "      fill: #D2E3FC;\n",
              "    }\n",
              "\n",
              "    [theme=dark] .colab-df-convert:hover {\n",
              "      background-color: #434B5C;\n",
              "      box-shadow: 0px 1px 3px 1px rgba(0, 0, 0, 0.15);\n",
              "      filter: drop-shadow(0px 1px 2px rgba(0, 0, 0, 0.3));\n",
              "      fill: #FFFFFF;\n",
              "    }\n",
              "  </style>\n",
              "\n",
              "      <script>\n",
              "        const buttonEl =\n",
              "          document.querySelector('#df-0a0ab0af-20c7-4d63-8222-48ad88cbc88c button.colab-df-convert');\n",
              "        buttonEl.style.display =\n",
              "          google.colab.kernel.accessAllowed ? 'block' : 'none';\n",
              "\n",
              "        async function convertToInteractive(key) {\n",
              "          const element = document.querySelector('#df-0a0ab0af-20c7-4d63-8222-48ad88cbc88c');\n",
              "          const dataTable =\n",
              "            await google.colab.kernel.invokeFunction('convertToInteractive',\n",
              "                                                     [key], {});\n",
              "          if (!dataTable) return;\n",
              "\n",
              "          const docLinkHtml = 'Like what you see? Visit the ' +\n",
              "            '<a target=\"_blank\" href=https://colab.research.google.com/notebooks/data_table.ipynb>data table notebook</a>'\n",
              "            + ' to learn more about interactive tables.';\n",
              "          element.innerHTML = '';\n",
              "          dataTable['output_type'] = 'display_data';\n",
              "          await google.colab.output.renderOutput(dataTable, element);\n",
              "          const docLink = document.createElement('div');\n",
              "          docLink.innerHTML = docLinkHtml;\n",
              "          element.appendChild(docLink);\n",
              "        }\n",
              "      </script>\n",
              "    </div>\n",
              "  </div>\n",
              "  "
            ]
          },
          "metadata": {},
          "execution_count": 67
        }
      ],
      "source": [
        "arr_feature_importances = rfc.feature_importances_\n",
        "arr_feature_names = X_train.columns.values\n",
        "    \n",
        "df_feature_importance = pd.DataFrame(index=range(len(arr_feature_importances)), columns=['feature', 'importance'])\n",
        "df_feature_importance['feature'] = arr_feature_names\n",
        "df_feature_importance['importance'] = arr_feature_importances\n",
        "df_all_features = df_feature_importance.sort_values(by='importance', ascending=False)\n",
        "df_all_features"
      ],
      "id": "b3b29f1c-009d-4ca0-9a9c-1a69f4bb7b9e"
    },
    {
      "cell_type": "markdown",
      "metadata": {
        "id": "b9885137-7b1c-4abd-bc4e-793dbb509493"
      },
      "source": [
        "### Validation"
      ],
      "id": "b9885137-7b1c-4abd-bc4e-793dbb509493"
    },
    {
      "cell_type": "markdown",
      "metadata": {
        "id": "9172461d-9baa-4929-9abe-c2ade127f9c8"
      },
      "source": [
        "Untuk mengukur performa model, dua metrik yang umum dipakai dalam dunia credit risk adalah AUC dan KS."
      ],
      "id": "9172461d-9baa-4929-9abe-c2ade127f9c8"
    },
    {
      "cell_type": "code",
      "execution_count": null,
      "metadata": {
        "id": "8ed8e2b1-f26d-4dc8-a2cd-2a3681add028"
      },
      "outputs": [],
      "source": [
        "y_pred_proba = rfc.predict_proba(X_test)[:][:,1]\n",
        "\n",
        "df_actual_predicted = pd.concat([pd.DataFrame(np.array(y_test), columns=['y_actual']), pd.DataFrame(y_pred_proba, columns=['y_pred_proba'])], axis=1)\n",
        "df_actual_predicted.index = y_test.index"
      ],
      "id": "8ed8e2b1-f26d-4dc8-a2cd-2a3681add028"
    },
    {
      "cell_type": "markdown",
      "metadata": {
        "id": "bd4dd566-220e-4f72-b735-ad87d6372f0d"
      },
      "source": [
        "#### AUC "
      ],
      "id": "bd4dd566-220e-4f72-b735-ad87d6372f0d"
    },
    {
      "cell_type": "code",
      "execution_count": null,
      "metadata": {
        "id": "ad888543-db48-4be0-8135-abfd3e662b59"
      },
      "outputs": [],
      "source": [
        "from sklearn.metrics import roc_curve, roc_auc_score"
      ],
      "id": "ad888543-db48-4be0-8135-abfd3e662b59"
    },
    {
      "cell_type": "code",
      "execution_count": null,
      "metadata": {
        "colab": {
          "base_uri": "https://localhost:8080/"
        },
        "id": "3caca03b-ef02-4875-9825-4b612447cd49",
        "outputId": "fb4e8494-1d3c-4156-887c-57b06cbef0bd"
      },
      "outputs": [
        {
          "output_type": "execute_result",
          "data": {
            "text/plain": [
              "<matplotlib.legend.Legend at 0x7f4f8f870700>"
            ]
          },
          "metadata": {},
          "execution_count": 70
        },
        {
          "output_type": "display_data",
          "data": {
            "text/plain": [
              "<Figure size 432x288 with 1 Axes>"
            ],
            "image/png": "[encoded data removed]"
          },
          "metadata": {}
        }
      ],
      "source": [
        "fpr, tpr, tr = roc_curve(df_actual_predicted['y_actual'], df_actual_predicted['y_pred_proba'])\n",
        "auc = roc_auc_score(df_actual_predicted['y_actual'], df_actual_predicted['y_pred_proba'])\n",
        "\n",
        "plt.plot(fpr, tpr, label='AUC = %0.4f' %auc)\n",
        "plt.plot(fpr, fpr, linestyle = '--', color='k')\n",
        "plt.xlabel('False Positive Rate')\n",
        "plt.ylabel('True Positive Rate')\n",
        "plt.title('ROC Curve')\n",
        "plt.legend()"
      ],
      "id": "3caca03b-ef02-4875-9825-4b612447cd49"
    },
    {
      "cell_type": "markdown",
      "metadata": {
        "id": "926486bb-b1a0-4829-bea2-649735bd5b92"
      },
      "source": [
        "#### KS "
      ],
      "id": "926486bb-b1a0-4829-bea2-649735bd5b92"
    },
    {
      "cell_type": "code",
      "execution_count": null,
      "metadata": {
        "id": "7a2263f0-f5e3-4e07-add1-896f859bd584"
      },
      "outputs": [],
      "source": [
        "df_actual_predicted = df_actual_predicted.sort_values('y_pred_proba')\n",
        "df_actual_predicted = df_actual_predicted.reset_index()\n",
        "\n",
        "df_actual_predicted['Cumulative N Population'] = df_actual_predicted.index + 1\n",
        "df_actual_predicted['Cumulative N Bad'] = df_actual_predicted['y_actual'].cumsum()\n",
        "df_actual_predicted['Cumulative N Good'] = df_actual_predicted['Cumulative N Population'] - df_actual_predicted['Cumulative N Bad']\n",
        "df_actual_predicted['Cumulative Perc Population'] = df_actual_predicted['Cumulative N Population'] / df_actual_predicted.shape[0]\n",
        "df_actual_predicted['Cumulative Perc Bad'] = df_actual_predicted['Cumulative N Bad'] / df_actual_predicted['y_actual'].sum()\n",
        "df_actual_predicted['Cumulative Perc Good'] = df_actual_predicted['Cumulative N Good'] / (df_actual_predicted.shape[0] - df_actual_predicted['y_actual'].sum())"
      ],
      "id": "7a2263f0-f5e3-4e07-add1-896f859bd584"
    },
    {
      "cell_type": "code",
      "execution_count": null,
      "metadata": {
        "colab": {
          "base_uri": "https://localhost:8080/"
        },
        "id": "2d5b2b28-601b-470f-a6fd-6031143bd3ab",
        "outputId": "319b5ae3-2112-454b-a999-5e16379b6316"
      },
      "outputs": [
        {
          "output_type": "execute_result",
          "data": {
            "text/plain": [
              "    index  y_actual  y_pred_proba  Cumulative N Population  Cumulative N Bad  \\\n",
              "0  319035         0      0.047993                        1                 0   \n",
              "1  334778         0      0.048639                        2                 0   \n",
              "2  231063         0      0.048646                        3                 0   \n",
              "3  385725         0      0.048732                        4                 0   \n",
              "4  292045         0      0.048789                        5                 0   \n",
              "\n",
              "   Cumulative N Good  Cumulative Perc Population  Cumulative Perc Bad  \\\n",
              "0                  1                    0.000011                  0.0   \n",
              "1                  2                    0.000021                  0.0   \n",
              "2                  3                    0.000032                  0.0   \n",
              "3                  4                    0.000043                  0.0   \n",
              "4                  5                    0.000054                  0.0   \n",
              "\n",
              "   Cumulative Perc Good  \n",
              "0              0.000012  \n",
              "1              0.000024  \n",
              "2              0.000036  \n",
              "3              0.000048  \n",
              "4              0.000060  "
            ],
            "text/html": [
              "\n",
              "  <div id=\"df-6e33cd55-dd99-4d4a-bc45-262bbec53270\">\n",
              "    <div class=\"colab-df-container\">\n",
              "      <div>\n",
              "<style scoped>\n",
              "    .dataframe tbody tr th:only-of-type {\n",
              "        vertical-align: middle;\n",
              "    }\n",
              "\n",
              "    .dataframe tbody tr th {\n",
              "        vertical-align: top;\n",
              "    }\n",
              "\n",
              "    .dataframe thead th {\n",
              "        text-align: right;\n",
              "    }\n",
              "</style>\n",
              "<table border=\"1\" class=\"dataframe\">\n",
              "  <thead>\n",
              "    <tr style=\"text-align: right;\">\n",
              "      <th></th>\n",
              "      <th>index</th>\n",
              "      <th>y_actual</th>\n",
              "      <th>y_pred_proba</th>\n",
              "      <th>Cumulative N Population</th>\n",
              "      <th>Cumulative N Bad</th>\n",
              "      <th>Cumulative N Good</th>\n",
              "      <th>Cumulative Perc Population</th>\n",
              "      <th>Cumulative Perc Bad</th>\n",
              "      <th>Cumulative Perc Good</th>\n",
              "    </tr>\n",
              "  </thead>\n",
              "  <tbody>\n",
              "    <tr>\n",
              "      <th>0</th>\n",
              "      <td>319035</td>\n",
              "      <td>0</td>\n",
              "      <td>0.047993</td>\n",
              "      <td>1</td>\n",
              "      <td>0</td>\n",
              "      <td>1</td>\n",
              "      <td>0.000011</td>\n",
              "      <td>0.0</td>\n",
              "      <td>0.000012</td>\n",
              "    </tr>\n",
              "    <tr>\n",
              "      <th>1</th>\n",
              "      <td>334778</td>\n",
              "      <td>0</td>\n",
              "      <td>0.048639</td>\n",
              "      <td>2</td>\n",
              "      <td>0</td>\n",
              "      <td>2</td>\n",
              "      <td>0.000021</td>\n",
              "      <td>0.0</td>\n",
              "      <td>0.000024</td>\n",
              "    </tr>\n",
              "    <tr>\n",
              "      <th>2</th>\n",
              "      <td>231063</td>\n",
              "      <td>0</td>\n",
              "      <td>0.048646</td>\n",
              "      <td>3</td>\n",
              "      <td>0</td>\n",
              "      <td>3</td>\n",
              "      <td>0.000032</td>\n",
              "      <td>0.0</td>\n",
              "      <td>0.000036</td>\n",
              "    </tr>\n",
              "    <tr>\n",
              "      <th>3</th>\n",
              "      <td>385725</td>\n",
              "      <td>0</td>\n",
              "      <td>0.048732</td>\n",
              "      <td>4</td>\n",
              "      <td>0</td>\n",
              "      <td>4</td>\n",
              "      <td>0.000043</td>\n",
              "      <td>0.0</td>\n",
              "      <td>0.000048</td>\n",
              "    </tr>\n",
              "    <tr>\n",
              "      <th>4</th>\n",
              "      <td>292045</td>\n",
              "      <td>0</td>\n",
              "      <td>0.048789</td>\n",
              "      <td>5</td>\n",
              "      <td>0</td>\n",
              "      <td>5</td>\n",
              "      <td>0.000054</td>\n",
              "      <td>0.0</td>\n",
              "      <td>0.000060</td>\n",
              "    </tr>\n",
              "  </tbody>\n",
              "</table>\n",
              "</div>\n",
              "      <button class=\"colab-df-convert\" onclick=\"convertToInteractive('df-6e33cd55-dd99-4d4a-bc45-262bbec53270')\"\n",
              "              title=\"Convert this dataframe to an interactive table.\"\n",
              "              style=\"display:none;\">\n",
              "        \n",
              "  <svg xmlns=\"http://www.w3.org/2000/svg\" height=\"24px\"viewBox=\"0 0 24 24\"\n",
              "       width=\"24px\">\n",
              "    <path d=\"M0 0h24v24H0V0z\" fill=\"none\"/>\n",
              "    <path d=\"M18.56 5.44l.94 2.06.94-2.06 2.06-.94-2.06-.94-.94-2.06-.94 2.06-2.06.94zm-11 1L8.5 8.5l.94-2.06 2.06-.94-2.06-.94L8.5 2.5l-.94 2.06-2.06.94zm10 10l.94 2.06.94-2.06 2.06-.94-2.06-.94-.94-2.06-.94 2.06-2.06.94z\"/><path d=\"M17.41 7.96l-1.37-1.37c-.4-.4-.92-.59-1.43-.59-.52 0-1.04.2-1.43.59L10.3 9.45l-7.72 7.72c-.78.78-.78 2.05 0 2.83L4 21.41c.39.39.9.59 1.41.59.51 0 1.02-.2 1.41-.59l7.78-7.78 2.81-2.81c.8-.78.8-2.07 0-2.86zM5.41 20L4 18.59l7.72-7.72 1.47 1.35L5.41 20z\"/>\n",
              "  </svg>\n",
              "      </button>\n",
              "      \n",
              "  <style>\n",
              "    .colab-df-container {\n",
              "      display:flex;\n",
              "      flex-wrap:wrap;\n",
              "      gap: 12px;\n",
              "    }\n",
              "\n",
              "    .colab-df-convert {\n",
              "      background-color: #E8F0FE;\n",
              "      border: none;\n",
              "      border-radius: 50%;\n",
              "      cursor: pointer;\n",
              "      display: none;\n",
              "      fill: #1967D2;\n",
              "      height: 32px;\n",
              "      padding: 0 0 0 0;\n",
              "      width: 32px;\n",
              "    }\n",
              "\n",
              "    .colab-df-convert:hover {\n",
              "      background-color: #E2EBFA;\n",
              "      box-shadow: 0px 1px 2px rgba(60, 64, 67, 0.3), 0px 1px 3px 1px rgba(60, 64, 67, 0.15);\n",
              "      fill: #174EA6;\n",
              "    }\n",
              "\n",
              "    [theme=dark] .colab-df-convert {\n",
              "      background-color: #3B4455;\n",
              "      fill: #D2E3FC;\n",
              "    }\n",
              "\n",
              "    [theme=dark] .colab-df-convert:hover {\n",
              "      background-color: #434B5C;\n",
              "      box-shadow: 0px 1px 3px 1px rgba(0, 0, 0, 0.15);\n",
              "      filter: drop-shadow(0px 1px 2px rgba(0, 0, 0, 0.3));\n",
              "      fill: #FFFFFF;\n",
              "    }\n",
              "  </style>\n",
              "\n",
              "      <script>\n",
              "        const buttonEl =\n",
              "          document.querySelector('#df-6e33cd55-dd99-4d4a-bc45-262bbec53270 button.colab-df-convert');\n",
              "        buttonEl.style.display =\n",
              "          google.colab.kernel.accessAllowed ? 'block' : 'none';\n",
              "\n",
              "        async function convertToInteractive(key) {\n",
              "          const element = document.querySelector('#df-6e33cd55-dd99-4d4a-bc45-262bbec53270');\n",
              "          const dataTable =\n",
              "            await google.colab.kernel.invokeFunction('convertToInteractive',\n",
              "                                                     [key], {});\n",
              "          if (!dataTable) return;\n",
              "\n",
              "          const docLinkHtml = 'Like what you see? Visit the ' +\n",
              "            '<a target=\"_blank\" href=https://colab.research.google.com/notebooks/data_table.ipynb>data table notebook</a>'\n",
              "            + ' to learn more about interactive tables.';\n",
              "          element.innerHTML = '';\n",
              "          dataTable['output_type'] = 'display_data';\n",
              "          await google.colab.output.renderOutput(dataTable, element);\n",
              "          const docLink = document.createElement('div');\n",
              "          docLink.innerHTML = docLinkHtml;\n",
              "          element.appendChild(docLink);\n",
              "        }\n",
              "      </script>\n",
              "    </div>\n",
              "  </div>\n",
              "  "
            ]
          },
          "metadata": {},
          "execution_count": 72
        }
      ],
      "source": [
        "df_actual_predicted.head()"
      ],
      "id": "2d5b2b28-601b-470f-a6fd-6031143bd3ab"
    },
    {
      "cell_type": "code",
      "execution_count": null,
      "metadata": {
        "colab": {
          "base_uri": "https://localhost:8080/"
        },
        "id": "441a4f8b-c2ca-4edd-8930-66700645d818",
        "outputId": "1ae868c5-dc77-43d2-e436-c487b7b305f8"
      },
      "outputs": [
        {
          "output_type": "execute_result",
          "data": {
            "text/plain": [
              "Text(0.5, 1.0, 'Kolmogorov-Smirnov:  0.5654')"
            ]
          },
          "metadata": {},
          "execution_count": 73
        },
        {
          "output_type": "display_data",
          "data": {
            "text/plain": [
              "<Figure size 432x288 with 1 Axes>"
            ],
            "image/png": "[encoded data removed]"
          },
          "metadata": {}
        }
      ],
      "source": [
        "KS = max(df_actual_predicted['Cumulative Perc Good'] - df_actual_predicted['Cumulative Perc Bad'])\n",
        "\n",
        "plt.plot(df_actual_predicted['y_pred_proba'], df_actual_predicted['Cumulative Perc Bad'], color='r')\n",
        "plt.plot(df_actual_predicted['y_pred_proba'], df_actual_predicted['Cumulative Perc Good'], color='b')\n",
        "plt.xlabel('Estimated Probability for Being Bad')\n",
        "plt.ylabel('Cumulative %')\n",
        "plt.title('Kolmogorov-Smirnov:  %0.4f' %KS)"
      ],
      "id": "441a4f8b-c2ca-4edd-8930-66700645d818"
    },
    {
      "cell_type": "markdown",
      "metadata": {
        "id": "1dbdd107-1b69-4e89-96aa-9cb27a093a09"
      },
      "source": [
        "Model yang dibangun menghasilkan performa `AUC = 0.857` dan `KS = 0.56`. Pada dunia credit risk modeling, umumnya AUC di atas 0.7 dan KS di atas 0.3 sudah termasuk performa yang baik."
      ],
      "id": "1dbdd107-1b69-4e89-96aa-9cb27a093a09"
    },
    {
      "cell_type": "markdown",
      "metadata": {
        "id": "ac3d818f-24f5-4784-9666-5e9f5a493263"
      },
      "source": [
        "# SUGGESTIONS"
      ],
      "id": "ac3d818f-24f5-4784-9666-5e9f5a493263"
    },
    {
      "cell_type": "markdown",
      "metadata": {
        "id": "8f0ecac4-e968-4711-935e-03c3fae15139"
      },
      "source": [
        "Based on this credit risk model, I recommend for:\n",
        "\n",
        "\n",
        "*   Do Hyperparameter Tuning\n",
        "*   If we want to increase the interpretability, we can consider to build a Credit Scorecard with Logistic Regression Algorithm (Including Feature Selection method using Information Value (IV) and Weight of Evidence (WoF))\n",
        "*   If the interpretability not much needed, we can consider to try other machine learning algorithms like Boosting\n",
        "*   Check the model with comparing the model performance with trained and tested data to know if the model overfitting or not\n",
        "*   Commonly the right step for modelling is do Train-Test Split before feature transformation like Encoding or Scaling. But for the efficiency we do reverse, because usually the performance of model is not too different "
      ],
      "id": "8f0ecac4-e968-4711-935e-03c3fae15139"
    }
  ],
  "metadata": {
    "colab": {
      "provenance": [],
      "include_colab_link": true
    },
    "kernelspec": {
      "display_name": "Python 3 (ipykernel)",
      "language": "python",
      "name": "python3"
    },
    "language_info": {
      "codemirror_mode": {
        "name": "ipython",
        "version": 3
      },
      "file_extension": ".py",
      "mimetype": "text/x-python",
      "name": "python",
      "nbconvert_exporter": "python",
      "pygments_lexer": "ipython3",
      "version": "3.9.7"
    }
  },
  "nbformat": 4,
  "nbformat_minor": 5
}